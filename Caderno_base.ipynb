{
  "nbformat": 4,
  "nbformat_minor": 0,
  "metadata": {
    "colab": {
      "name": "Caderno_base.ipynb",
      "provenance": [],
      "authorship_tag": "ABX9TyMMBKGSUNHetHG3NPHMe6ng",
      "include_colab_link": true
    },
    "kernelspec": {
      "name": "python3",
      "display_name": "Python 3"
    },
    "language_info": {
      "name": "python"
    }
  },
  "cells": [
    {
      "cell_type": "markdown",
      "metadata": {
        "id": "view-in-github",
        "colab_type": "text"
      },
      "source": [
        "<a href=\"https://colab.research.google.com/github/vitorquintella/personal-ml-study/blob/main/Caderno_base.ipynb\" target=\"_parent\"><img src=\"https://colab.research.google.com/assets/colab-badge.svg\" alt=\"Open In Colab\"/></a>"
      ]
    },
    {
      "cell_type": "markdown",
      "source": [
        "# Principais temas:\n",
        "\n",
        "* Basico\n",
        "  * Pandas \n",
        "  * Seaborn \n",
        "  * Pretratamento \n",
        "  * Distancias \n",
        "\n",
        "* Visualização\n",
        "  * Seaborn\n",
        "\n",
        "\n",
        "* Discussões comuns\n",
        "  * Bias Variance\n",
        "\n",
        "\n",
        "* ML modelos\n",
        "  * Classificação\n",
        "  * Regressão/predição\n",
        "  * Clusterização\n",
        "  * Emsembles\n",
        "    * Bagging (e.g. Random Forest)\n",
        "      É bootstraping + aggregation\n",
        "    * Boosting (e.g. Adaboost)\n",
        "  * Dummys\n",
        "\n",
        "* ML Ferramentas\n",
        "  * Preprocessing (e.g. StandardScalaer)\n",
        "  * Split Treino-Teste\n",
        "  * Métricas (e.g. f1)\n",
        "  * Avaliações (E.g. CrossVal)\n",
        "  * Hyper-parameter tuning\n",
        "  * [Feature Selection](https://colab.research.google.com/drive/1sOFzvLUFpsfrxvLThAtQU8mkz3sxjYRg)\n",
        "  * [Caderno \"Interpretação de modelos\"](https://colab.research.google.com/drive/1QXZUcX6yWcn9Zwa9M1iRzVTOBguT0NTQ#scrollTo=oHlblsLY7iAO)\n",
        "  * Redução de dimensionalidade\n",
        "  * Pipeline \n",
        "\n",
        "* Snippets\n",
        "\n",
        "* Base de dados\n",
        "  * Dados aleatorios\n",
        "  * Bases pre-prontas sklearn\n",
        "\n",
        "* Cadernos inicio ao fim: exemplos básicos\n",
        "\n",
        "* Extras\n",
        "  * Organização de cadernos\n",
        "  * Storytelling\n",
        "  * Versionamento e controle de modelos\n",
        "    * Parece que o mais usado mesmo é o mlflow\n"
      ],
      "metadata": {
        "id": "MEBVGdFXo1wz"
      }
    },
    {
      "cell_type": "code",
      "source": [
        ""
      ],
      "metadata": {
        "id": "R9Yl-WZcTIGz"
      },
      "execution_count": null,
      "outputs": []
    }
  ]
}