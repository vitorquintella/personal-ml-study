{
  "nbformat": 4,
  "nbformat_minor": 0,
  "metadata": {
    "colab": {
      "name": "Caderno_base.ipynb",
      "provenance": []
    },
    "kernelspec": {
      "name": "python3",
      "display_name": "Python 3"
    },
    "language_info": {
      "name": "python"
    }
  },
  "cells": [
    {
      "cell_type": "markdown",
      "source": [
        "# Principais temas:\n",
        "\n",
        "* Basico\n",
        "  * Pandas 0\n",
        "  * Seaborn 0\n",
        "  * Pretratamento 0\n",
        "  * Distancias 0\n",
        "\n",
        "* Visualização\n",
        "  * Seaborn\n",
        "\n",
        "\n",
        "* Discussões comuns\n",
        "  * Bias Variance\n",
        "\n",
        "\n",
        "* ML modelos\n",
        "  * Classificação 0\n",
        "  * Regressão/predição 0\n",
        "  * Clusterização 0\n",
        "  * Emsembles 0\n",
        "    * Bagging 0(e.g. Random Forest)\n",
        "      É bootstraping + aggregation\n",
        "    * Boosting 0 (e.g. Adaboost)\n",
        "  * Dummys\n",
        "\n",
        "* ML Ferramentas\n",
        "  * Preprocessing 0 (e.g. StandardScalaer)\n",
        "  * Split Treino-Teste\n",
        "  * Métricas 0 (e.g. f1)\n",
        "  * Avaliações 0 (E.g. CrossVal)\n",
        "  * Hyper-parameter tuning\n",
        "  * [Feature Selection](https://colab.research.google.com/drive/1sOFzvLUFpsfrxvLThAtQU8mkz3sxjYRg) 1\n",
        "  * Interpretação de modelos (e.g.: Shap) 1\n",
        "  * Redução de dimensionalidade\n",
        "  * Pipeline 0\n",
        "\n",
        "* Snippets\n",
        "\n",
        "* Base de dados\n",
        "  * Dados aleatorios\n",
        "  * Bases pre-prontas sklearn\n",
        "\n",
        "* Cadernos inicio ao fim: exemplos básicos\n",
        "\n",
        "* Extras\n",
        "  * Organização de cadernos\n",
        "  * Storytelling\n",
        "  * Versionamento e controle de modelos\n",
        "    * Parece que o mais usado mesmo é o mlflow\n"
      ],
      "metadata": {
        "id": "MEBVGdFXo1wz"
      }
    },
    {
      "cell_type": "markdown",
      "source": [
        "## Interpretação de modelos (e.g. Shap)\n",
        "[Caderno \"Interpretação de modelos\"](https://colab.research.google.com/drive/1QXZUcX6yWcn9Zwa9M1iRzVTOBguT0NTQ#scrollTo=oHlblsLY7iAO)"
      ],
      "metadata": {
        "id": "usY14JgY7yWM"
      }
    },
    {
      "cell_type": "markdown",
      "source": [
        "\n",
        "A interpretação de modelos vai para além do feature selection estudando-se como cada predição individual é afetada colaborativamente pelos features. Desolocando eles da média de y, para o y predito\n",
        "\n",
        "\n",
        "- Não envolve erro real x predito.\n",
        "- Envolve porque este indivíduo difere da média ao ponto de eu predizer tal resposta.\n",
        "- Avisão agrupada de diferentes predições pode ajudar até a identificar features novas, como, por exemplo, categorias. \n",
        "\n",
        "\n",
        "<img src='https://shap-lrjball.readthedocs.io/en/latest/_images/example_notebooks_general_Explainable_AI_with_Shapley_Values_15_0.png' width = 500 >\n",
        "\n",
        "<img src='https://user-images.githubusercontent.com/30723825/71652831-87b4b280-2d63-11ea-931d-5e76c8c08357.png' widht = 800>\n",
        "\n",
        "<img src ='https://user-images.githubusercontent.com/22124653/102744139-1d838c00-437f-11eb-8c03-5e744db2cfcc.png' width = 800>"
      ],
      "metadata": {
        "id": "yi9DKRnE-nYY"
      }
    },
    {
      "cell_type": "code",
      "source": [
        ""
      ],
      "metadata": {
        "id": "GScS4r6HA8rs"
      },
      "execution_count": null,
      "outputs": []
    }
  ]
}