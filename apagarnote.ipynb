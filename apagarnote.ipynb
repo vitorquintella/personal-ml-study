{
 "cells": [
  {
   "cell_type": "code",
   "execution_count": 2,
   "metadata": {
    "collapsed": true
   },
   "outputs": [
    {
     "name": "stdout",
     "output_type": "stream",
     "text": [
      "<class 'list'>\n",
      "<class 'list'>\n"
     ]
    },
    {
     "data": {
      "text/plain": "           nome sobrenome  idade tamanho_camiseta  codigo_modelo_camiseta\n0          Joao     Silva     23                M                       1\n1         Pedro     Matos     12                G                       1\n2       Ricardo   Pereira     30               GG                       2\n3  Schopenhauer     Souza     30                M                       1",
      "text/html": "<div>\n<style scoped>\n    .dataframe tbody tr th:only-of-type {\n        vertical-align: middle;\n    }\n\n    .dataframe tbody tr th {\n        vertical-align: top;\n    }\n\n    .dataframe thead th {\n        text-align: right;\n    }\n</style>\n<table border=\"1\" class=\"dataframe\">\n  <thead>\n    <tr style=\"text-align: right;\">\n      <th></th>\n      <th>nome</th>\n      <th>sobrenome</th>\n      <th>idade</th>\n      <th>tamanho_camiseta</th>\n      <th>codigo_modelo_camiseta</th>\n    </tr>\n  </thead>\n  <tbody>\n    <tr>\n      <th>0</th>\n      <td>Joao</td>\n      <td>Silva</td>\n      <td>23</td>\n      <td>M</td>\n      <td>1</td>\n    </tr>\n    <tr>\n      <th>1</th>\n      <td>Pedro</td>\n      <td>Matos</td>\n      <td>12</td>\n      <td>G</td>\n      <td>1</td>\n    </tr>\n    <tr>\n      <th>2</th>\n      <td>Ricardo</td>\n      <td>Pereira</td>\n      <td>30</td>\n      <td>GG</td>\n      <td>2</td>\n    </tr>\n    <tr>\n      <th>3</th>\n      <td>Schopenhauer</td>\n      <td>Souza</td>\n      <td>30</td>\n      <td>M</td>\n      <td>1</td>\n    </tr>\n  </tbody>\n</table>\n</div>"
     },
     "execution_count": 2,
     "metadata": {},
     "output_type": "execute_result"
    }
   ],
   "source": [
    "import pandas as pd\n",
    "#Os valores podem ser expressos como uma lista de tuplas onde cada tupla corresponderá a uma Row de nosso dataframe\n",
    "valor = [(\"Joao\",\"Silva\",23,\"M\",1),(\"Pedro\",\"Matos\",12,\"G\",1),(\"Ricardo\",\"Pereira\",30,\"GG\",2),(\"Schopenhauer\",\"Souza\",30,\"M\",1)]\n",
    "print(type(valor))\n",
    "\n",
    "#As colunas podem ser expressas como uma lista de strings\n",
    "colunas = ['nome', 'sobrenome','idade','tamanho_camiseta', 'codigo_modelo_camiseta']\n",
    "print(type(colunas))\n",
    "\n",
    "#Com estas duas estruturas em mãos podemos usar o método Dataframe do pandas é criarmos um DataFrame pandas a partir deles\n",
    "df_test = pd.DataFrame(valor, columns=colunas)\n",
    "\n",
    "df_test"
   ]
  },
  {
   "cell_type": "code",
   "execution_count": 11,
   "outputs": [
    {
     "data": {
      "text/plain": "                  nome\ntamanho_camiseta      \nG                    1\nGG                   1\nM                    2",
      "text/html": "<div>\n<style scoped>\n    .dataframe tbody tr th:only-of-type {\n        vertical-align: middle;\n    }\n\n    .dataframe tbody tr th {\n        vertical-align: top;\n    }\n\n    .dataframe thead th {\n        text-align: right;\n    }\n</style>\n<table border=\"1\" class=\"dataframe\">\n  <thead>\n    <tr style=\"text-align: right;\">\n      <th></th>\n      <th>nome</th>\n    </tr>\n    <tr>\n      <th>tamanho_camiseta</th>\n      <th></th>\n    </tr>\n  </thead>\n  <tbody>\n    <tr>\n      <th>G</th>\n      <td>1</td>\n    </tr>\n    <tr>\n      <th>GG</th>\n      <td>1</td>\n    </tr>\n    <tr>\n      <th>M</th>\n      <td>2</td>\n    </tr>\n  </tbody>\n</table>\n</div>"
     },
     "execution_count": 11,
     "metadata": {},
     "output_type": "execute_result"
    }
   ],
   "source": [],
   "metadata": {
    "collapsed": false,
    "pycharm": {
     "name": "#%%\n"
    }
   }
  }
 ],
 "metadata": {
  "kernelspec": {
   "display_name": "Python 3",
   "language": "python",
   "name": "python3"
  },
  "language_info": {
   "codemirror_mode": {
    "name": "ipython",
    "version": 2
   },
   "file_extension": ".py",
   "mimetype": "text/x-python",
   "name": "python",
   "nbconvert_exporter": "python",
   "pygments_lexer": "ipython2",
   "version": "2.7.6"
  }
 },
 "nbformat": 4,
 "nbformat_minor": 0
}