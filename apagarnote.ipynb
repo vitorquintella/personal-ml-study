{
 "cells": [
  {
   "cell_type": "code",
   "execution_count": 1,
   "metadata": {
    "collapsed": true
   },
   "outputs": [
    {
     "name": "stdout",
     "output_type": "stream",
     "text": [
      "Palavra inválida\n",
      "Palavra inválida\n",
      "Palavra inválida\n",
      "Palavra inválida\n",
      "Palavra válida\n"
     ]
    },
    {
     "data": {
      "text/plain": "'vitor'"
     },
     "execution_count": 1,
     "metadata": {},
     "output_type": "execute_result"
    }
   ],
   "source": [
    "def valida_palavra():\n",
    "    \"\"\"\n",
    "    Função que pede o nome de um objeto para o usuário.\n",
    "    Verifica se a entrada é um texto.\n",
    "    Verifica se a quantidade de letras da palavra inserida possui entre 4 e 8 letras.\n",
    "    Se atender aos requisitos, imprime \"Palavra válida\" e retorna a palavra.\n",
    "    Caso contrário, imprime \"Palavra inválida\" e pede novamente o nome do objeto.\n",
    "    Retorna a palavra valida inserida pelo usuário.\n",
    "    \"\"\"\n",
    "    palavra = input(\"Digite o nome do objeto: \")\n",
    "    tamanho_valido = len(palavra) >= 4 and len(palavra) <= 8\n",
    "    eh_texto = palavra.isalpha()\n",
    "    while not (tamanho_valido and eh_texto):\n",
    "        print(\"Palavra inválida\")\n",
    "        palavra = input(\"Digite o nome do objeto: \")\n",
    "        tamanho_valido = len(palavra) >= 4 and len(palavra) <= 8\n",
    "        eh_texto = palavra.isalpha()\n",
    "    print(\"Palavra válida\")\n",
    "    return palavra\n",
    "\n",
    "valida_palavra()"
   ]
  }
 ],
 "metadata": {
  "kernelspec": {
   "display_name": "Python 3",
   "language": "python",
   "name": "python3"
  },
  "language_info": {
   "codemirror_mode": {
    "name": "ipython",
    "version": 2
   },
   "file_extension": ".py",
   "mimetype": "text/x-python",
   "name": "python",
   "nbconvert_exporter": "python",
   "pygments_lexer": "ipython2",
   "version": "2.7.6"
  }
 },
 "nbformat": 4,
 "nbformat_minor": 0
}