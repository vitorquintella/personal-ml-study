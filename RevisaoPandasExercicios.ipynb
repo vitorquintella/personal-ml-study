{
 "cells": [
  {
   "cell_type": "code",
   "source": [
    "#Spark é uma plataforma de computação em cluster. Spark permite que seus dados e cálculos através dos clusters com múltiplos nós. \n",
    "#Dividir os dados torna-se mais fácil de se trabalhar com grandes datasets porque cada nó atua com um pequeno volume de dados em relação ao todo.\n",
    "#Assim como cadá nó possui seu subset do total dos dados, o nó também irá executar operações necessárias, de maneira que a execução e os dados serão trabalhados de forma paralela em todos os nós do cluster.\n",
    "\n",
    "\n",
    "#Antes de decidir se a tecnologia Spark faz sentido para a resolução do seu problema, você deve se fazer as seguintes perguntas:\n",
    "#1. Meus dados são grandes o suficiente para serem processados em mais de uma máquina ?\n",
    "#2. Minhas operações podem ser facilmente paralelizáveis ?\n",
    "\n",
    "#A estrutura de dados RDD - Resilient Distributed Dataset está no cerne do framework Spark, trantando-se de um objeto baixo nível que permite que o Spark execute sua máquina de dividir os dados em múltiplos nós em um cluster. Por outro lado, RDDs são extremamente complexos de se trabalhar diretamente por se tratar de uma estrutura baixo nível, nos exemplos deste notebook utilizaremos uma abstração construída no topo dos RDDs.\n",
    "\n",
    "#A estrutura do Spark DataFrame possui uma enorme similaridade com uma tabela, tornando a estrutura como sendo algo fácil e compreensível de executar.\n"
   ],
   "metadata": {
    "application/vnd.databricks.v1+cell": {
     "title": "Pandas - Exercícios e Revisão",
     "showTitle": true,
     "inputWidgets": {},
     "nuid": "32a32f66-73bf-4982-8f5b-c73df6e66341"
    }
   },
   "outputs": [],
   "execution_count": 0
  },
  {
   "cell_type": "code",
   "source": [
    "#Print no console o SparkContext\n",
    "print(sc)"
   ],
   "metadata": {
    "application/vnd.databricks.v1+cell": {
     "title": "",
     "showTitle": false,
     "inputWidgets": {},
     "nuid": "2ab601d3-2d72-40f5-931c-9645002d3cbc"
    }
   },
   "outputs": [
    {
     "output_type": "display_data",
     "metadata": {
      "application/vnd.databricks.v1+output": {
       "datasetInfos": [],
       "data": "<SparkContext master=local[8] appName=Databricks Shell>\n",
       "removedWidgets": [],
       "addedWidgets": {},
       "metadata": {},
       "type": "ansi",
       "arguments": {}
      }
     },
     "data": {
      "text/plain": [
       "<SparkContext master=local[8] appName=Databricks Shell>\n"
      ]
     }
    }
   ],
   "execution_count": 0
  },
  {
   "cell_type": "code",
   "source": [
    "#Print a versão do Spark\n",
    "print(sc.version)"
   ],
   "metadata": {
    "application/vnd.databricks.v1+cell": {
     "title": "",
     "showTitle": false,
     "inputWidgets": {},
     "nuid": "d2d5ff2c-794f-4e1d-8198-cef146128d3c"
    }
   },
   "outputs": [
    {
     "output_type": "display_data",
     "metadata": {
      "application/vnd.databricks.v1+output": {
       "datasetInfos": [],
       "data": "3.2.1\n",
       "removedWidgets": [],
       "addedWidgets": {},
       "metadata": {},
       "type": "ansi",
       "arguments": {}
      }
     },
     "data": {
      "text/plain": [
       "3.2.1\n"
      ]
     }
    }
   ],
   "execution_count": 0
  },
  {
   "cell_type": "code",
   "source": [
    "#Importando as bibliotecas que usaremos nos exercícios\n",
    "import pandas as pd\n",
    "\n",
    "\n",
    "# Import SparkSession from pyspark.sql\n",
    "from pyspark.sql import SparkSession\n",
    "\n",
    "#Crie uma variavel chamada my_spark e printe o conteúdo dela\n",
    "my_spark = SparkSession.builder.getOrCreate()\n",
    "\n",
    "#Print my_spark\n",
    "print(my_spark)"
   ],
   "metadata": {
    "application/vnd.databricks.v1+cell": {
     "title": "",
     "showTitle": false,
     "inputWidgets": {},
     "nuid": "d4ed54dd-16bd-4f07-b0b8-e738568a4dc3"
    }
   },
   "outputs": [
    {
     "ename": "ModuleNotFoundError",
     "evalue": "No module named 'pyspark'",
     "output_type": "error",
     "traceback": [
      "\u001B[1;31m---------------------------------------------------------------------------\u001B[0m",
      "\u001B[1;31mModuleNotFoundError\u001B[0m                       Traceback (most recent call last)",
      "Input \u001B[1;32mIn [2]\u001B[0m, in \u001B[0;36m<cell line: 6>\u001B[1;34m()\u001B[0m\n\u001B[0;32m      2\u001B[0m \u001B[38;5;28;01mimport\u001B[39;00m \u001B[38;5;21;01mpandas\u001B[39;00m \u001B[38;5;28;01mas\u001B[39;00m \u001B[38;5;21;01mpd\u001B[39;00m\n\u001B[0;32m      5\u001B[0m \u001B[38;5;66;03m# Import SparkSession from pyspark.sql\u001B[39;00m\n\u001B[1;32m----> 6\u001B[0m \u001B[38;5;28;01mfrom\u001B[39;00m \u001B[38;5;21;01mpyspark\u001B[39;00m\u001B[38;5;21;01m.\u001B[39;00m\u001B[38;5;21;01msql\u001B[39;00m \u001B[38;5;28;01mimport\u001B[39;00m SparkSession\n\u001B[0;32m      8\u001B[0m \u001B[38;5;66;03m#Crie uma variavel chamada my_spark e printe o conteúdo dela\u001B[39;00m\n\u001B[0;32m      9\u001B[0m my_spark \u001B[38;5;241m=\u001B[39m SparkSession\u001B[38;5;241m.\u001B[39mbuilder\u001B[38;5;241m.\u001B[39mgetOrCreate()\n",
      "\u001B[1;31mModuleNotFoundError\u001B[0m: No module named 'pyspark'"
     ]
    }
   ],
   "execution_count": 2
  },
  {
   "cell_type": "code",
   "source": [
    "#Uma breve introdução aos DataFrames com Pandas\n",
    "#Criando um DataFrame Pandas a partir de um parte de listas"
   ],
   "metadata": {
    "application/vnd.databricks.v1+cell": {
     "title": "",
     "showTitle": false,
     "inputWidgets": {},
     "nuid": "b0b6d491-ad3f-4b0e-acb6-b22af79cb54a"
    }
   },
   "outputs": [],
   "execution_count": null
  },
  {
   "cell_type": "code",
   "source": [
    "#Os valores podem ser expressos como uma lista de tuplas onde cada tupla corresponderá a uma Row de nosso dataframe\n",
    "valor = [(\"Joao\",\"Silva\",23,\"M\",1),(\"Pedro\",\"Matos\",12,\"G\",1),(\"Ricardo\",\"Pereira\",30,\"GG\",2),(\"Schopenhauer\",\"Souza\",30,\"M\",1)]\n",
    "print(type(valor))\n",
    "\n",
    "#As colunas podem ser expressas como uma lista de strings\n",
    "colunas = ['nome', 'sobrenome','idade','tamanho_camiseta', 'codigo_modelo_camiseta']\n",
    "print(type(colunas))\n",
    "\n",
    "#Com estas duas estruturas em mãos podemos usar o método Dataframe do pandas é criarmos um DataFrame pandas a partir deles\n",
    "df_test = pd.DataFrame(valor, columns=colunas)\n",
    "\n"
   ],
   "metadata": {
    "application/vnd.databricks.v1+cell": {
     "title": "",
     "showTitle": false,
     "inputWidgets": {},
     "nuid": "868127ab-e342-483d-9787-97b85ea8a88c"
    }
   },
   "outputs": [
    {
     "name": "stdout",
     "output_type": "stream",
     "text": [
      "<class 'list'>\n",
      "<class 'list'>\n"
     ]
    }
   ],
   "execution_count": 5
  },
  {
   "cell_type": "code",
   "source": [
    "#Explorando algumas funcionalidades do DataFrame Pandas\n",
    "#O DataFrame possui uma série de métodos embutidos que permitem realizar análises e operações em cima dos dados nele presentes\n",
    "\n",
    "##Digitar o nome da variável do DataFrame irá forçar um print do conteúdo do mesmo no console\n",
    "df_test\n",
    "##O método describe por sua vez retorna uma análise descritiva do DataFrame\n",
    "df_test.describe()\n",
    "\n",
    "##O atributo shape retorna o as quandidades de linhas(rows) e colunas(columns) do DataFrame\n",
    "df_test.shape\n",
    "\n",
    "##O atributo values irá retornar um array bidimensional de valores\n",
    "df_test.values\n",
    "\n",
    "##O método len() retornará a quantidade de linhas em um DataFrame\n",
    "len(df_test)\n",
    "\n",
    "##Abaixo segue um exemplo de como contar individualmente quantas vezes cada nome aparece em uma coluna\n",
    "df_test['nome'].value_counts()\n",
    "\n",
    "##Os métodos head e tail retornam os primeiros e últimos valores respectivamente\n",
    "df_test.head()\n",
    "df_test.tail()"
   ],
   "metadata": {
    "application/vnd.databricks.v1+cell": {
     "title": "",
     "showTitle": false,
     "inputWidgets": {},
     "nuid": "bc854337-53bf-469f-9243-6989959f349b"
    }
   },
   "outputs": [
    {
     "data": {
      "text/plain": "           nome sobrenome  idade tamanho_camiseta  codigo_modelo_camiseta\n0          Joao     Silva     23                M                       1\n1         Pedro     Matos     12                G                       1\n2       Ricardo   Pereira     30               GG                       2\n3  Schopenhauer     Souza     30                M                       1",
      "text/html": "<div>\n<style scoped>\n    .dataframe tbody tr th:only-of-type {\n        vertical-align: middle;\n    }\n\n    .dataframe tbody tr th {\n        vertical-align: top;\n    }\n\n    .dataframe thead th {\n        text-align: right;\n    }\n</style>\n<table border=\"1\" class=\"dataframe\">\n  <thead>\n    <tr style=\"text-align: right;\">\n      <th></th>\n      <th>nome</th>\n      <th>sobrenome</th>\n      <th>idade</th>\n      <th>tamanho_camiseta</th>\n      <th>codigo_modelo_camiseta</th>\n    </tr>\n  </thead>\n  <tbody>\n    <tr>\n      <th>0</th>\n      <td>Joao</td>\n      <td>Silva</td>\n      <td>23</td>\n      <td>M</td>\n      <td>1</td>\n    </tr>\n    <tr>\n      <th>1</th>\n      <td>Pedro</td>\n      <td>Matos</td>\n      <td>12</td>\n      <td>G</td>\n      <td>1</td>\n    </tr>\n    <tr>\n      <th>2</th>\n      <td>Ricardo</td>\n      <td>Pereira</td>\n      <td>30</td>\n      <td>GG</td>\n      <td>2</td>\n    </tr>\n    <tr>\n      <th>3</th>\n      <td>Schopenhauer</td>\n      <td>Souza</td>\n      <td>30</td>\n      <td>M</td>\n      <td>1</td>\n    </tr>\n  </tbody>\n</table>\n</div>"
     },
     "execution_count": 6,
     "metadata": {},
     "output_type": "execute_result"
    }
   ],
   "execution_count": 6
  },
  {
   "cell_type": "code",
   "source": [
    "#PRÁTICA \n",
    "#Caso eu precisasse saber quantas camisas por tamanho foram pedidas, implemente na próxima célula como isso funcionaria."
   ],
   "metadata": {
    "application/vnd.databricks.v1+cell": {
     "title": "",
     "showTitle": false,
     "inputWidgets": {},
     "nuid": "10ff6657-5fee-4c12-97d7-22fdc7b59654"
    }
   },
   "outputs": [],
   "execution_count": 4
  },
  {
   "cell_type": "code",
   "execution_count": null,
   "outputs": [],
   "source": [
    "\n",
    "\n",
    "\n"
   ],
   "metadata": {
    "collapsed": false,
    "pycharm": {
     "name": "#%%\n"
    }
   }
  },
  {
   "cell_type": "code",
   "execution_count": null,
   "outputs": [],
   "source": [],
   "metadata": {
    "collapsed": false,
    "pycharm": {
     "name": "#%%\n"
    }
   }
  },
  {
   "cell_type": "code",
   "source": [],
   "metadata": {
    "application/vnd.databricks.v1+cell": {
     "title": "",
     "showTitle": false,
     "inputWidgets": {},
     "nuid": "b1a67da7-3f29-4116-ae2f-2d1a4abc5053"
    }
   },
   "outputs": [],
   "execution_count": 0
  },
  {
   "cell_type": "code",
   "source": [
    "#Prática \n#Implemente dois DataFrames onde:\n# O primeiro DataFrame será referente a tabela de preços das camisetas pelo tamanho, onde tempos a seguinte ordem <tamanho> - <preco>\n# PP - 25.00\n# P  - 25.50\n# M  - 30.00\n# G  - 40.00\n# GG - 45.00\n# O segundo DataFrame será referente aos tipos de camisa, onde:\n# 1 - Regata\n# 2 - Com Manga"
   ],
   "metadata": {
    "application/vnd.databricks.v1+cell": {
     "title": "",
     "showTitle": false,
     "inputWidgets": {},
     "nuid": "54ec2f23-75a1-4122-9f82-c2a7f4068fa4"
    }
   },
   "outputs": [],
   "execution_count": 0
  },
  {
   "cell_type": "code",
   "source": [
    "valores_tamanhos = [('PP',25.00),('P',25.50),('M',30.00),('G',40.00),('GG',45.00)]\ncolunas_tamanhos = ['tamanho_camiseta','preco_camiseta']\ndf_tamanhos_camisetas = pd.DataFrame(valores_tamanhos, columns=colunas_tamanhos)\n\ndf_tamanhos_camisetas"
   ],
   "metadata": {
    "application/vnd.databricks.v1+cell": {
     "title": "",
     "showTitle": false,
     "inputWidgets": {},
     "nuid": "9dce6422-01f1-464e-ae5d-fba01219386e"
    }
   },
   "outputs": [
    {
     "output_type": "display_data",
     "metadata": {
      "application/vnd.databricks.v1+output": {
       "datasetInfos": [],
       "data": "<div>\n<style scoped>\n    .dataframe tbody tr th:only-of-type {\n        vertical-align: middle;\n    }\n\n    .dataframe tbody tr th {\n        vertical-align: top;\n    }\n\n    .dataframe thead th {\n        text-align: right;\n    }\n</style>\n<table border=\"1\" class=\"dataframe\">\n  <thead>\n    <tr style=\"text-align: right;\">\n      <th></th>\n      <th>tamanho_camiseta</th>\n      <th>preco_camiseta</th>\n    </tr>\n  </thead>\n  <tbody>\n    <tr>\n      <th>0</th>\n      <td>PP</td>\n      <td>25.0</td>\n    </tr>\n    <tr>\n      <th>1</th>\n      <td>P</td>\n      <td>25.5</td>\n    </tr>\n    <tr>\n      <th>2</th>\n      <td>M</td>\n      <td>30.0</td>\n    </tr>\n    <tr>\n      <th>3</th>\n      <td>G</td>\n      <td>40.0</td>\n    </tr>\n    <tr>\n      <th>4</th>\n      <td>GG</td>\n      <td>45.0</td>\n    </tr>\n  </tbody>\n</table>\n</div>",
       "textData": null,
       "removedWidgets": [],
       "addedWidgets": {},
       "metadata": {},
       "type": "htmlSandbox",
       "arguments": {}
      }
     },
     "data": {
      "text/html": [
       "<div>\n<style scoped>\n    .dataframe tbody tr th:only-of-type {\n        vertical-align: middle;\n    }\n\n    .dataframe tbody tr th {\n        vertical-align: top;\n    }\n\n    .dataframe thead th {\n        text-align: right;\n    }\n</style>\n<table border=\"1\" class=\"dataframe\">\n  <thead>\n    <tr style=\"text-align: right;\">\n      <th></th>\n      <th>tamanho_camiseta</th>\n      <th>preco_camiseta</th>\n    </tr>\n  </thead>\n  <tbody>\n    <tr>\n      <th>0</th>\n      <td>PP</td>\n      <td>25.0</td>\n    </tr>\n    <tr>\n      <th>1</th>\n      <td>P</td>\n      <td>25.5</td>\n    </tr>\n    <tr>\n      <th>2</th>\n      <td>M</td>\n      <td>30.0</td>\n    </tr>\n    <tr>\n      <th>3</th>\n      <td>G</td>\n      <td>40.0</td>\n    </tr>\n    <tr>\n      <th>4</th>\n      <td>GG</td>\n      <td>45.0</td>\n    </tr>\n  </tbody>\n</table>\n</div>"
      ]
     }
    }
   ],
   "execution_count": 0
  },
  {
   "cell_type": "code",
   "source": [
    "valores_modelo_camisetas = [(1,\"Regata\"),(2,\"Com Manga\")]\ncolunas_modelo_camisetas = [\"codigo_modelo_camiseta\",\"descricao_modelo_camiseta\"]\n\ndf_modelos_camisetas = pd.DataFrame(valores_modelo_camisetas, columns=colunas_modelo_camisetas)\n\ndf_modelos_camisetas"
   ],
   "metadata": {
    "application/vnd.databricks.v1+cell": {
     "title": "",
     "showTitle": false,
     "inputWidgets": {},
     "nuid": "00dcc48f-8e51-4f66-b082-f974670a1d5a"
    }
   },
   "outputs": [
    {
     "output_type": "display_data",
     "metadata": {
      "application/vnd.databricks.v1+output": {
       "datasetInfos": [],
       "data": "<div>\n<style scoped>\n    .dataframe tbody tr th:only-of-type {\n        vertical-align: middle;\n    }\n\n    .dataframe tbody tr th {\n        vertical-align: top;\n    }\n\n    .dataframe thead th {\n        text-align: right;\n    }\n</style>\n<table border=\"1\" class=\"dataframe\">\n  <thead>\n    <tr style=\"text-align: right;\">\n      <th></th>\n      <th>codigo_modelo_camiseta</th>\n      <th>descricao_modelo_camiseta</th>\n    </tr>\n  </thead>\n  <tbody>\n    <tr>\n      <th>0</th>\n      <td>1</td>\n      <td>Regata</td>\n    </tr>\n    <tr>\n      <th>1</th>\n      <td>2</td>\n      <td>Com Manga</td>\n    </tr>\n  </tbody>\n</table>\n</div>",
       "textData": null,
       "removedWidgets": [],
       "addedWidgets": {},
       "metadata": {},
       "type": "htmlSandbox",
       "arguments": {}
      }
     },
     "data": {
      "text/html": [
       "<div>\n<style scoped>\n    .dataframe tbody tr th:only-of-type {\n        vertical-align: middle;\n    }\n\n    .dataframe tbody tr th {\n        vertical-align: top;\n    }\n\n    .dataframe thead th {\n        text-align: right;\n    }\n</style>\n<table border=\"1\" class=\"dataframe\">\n  <thead>\n    <tr style=\"text-align: right;\">\n      <th></th>\n      <th>codigo_modelo_camiseta</th>\n      <th>descricao_modelo_camiseta</th>\n    </tr>\n  </thead>\n  <tbody>\n    <tr>\n      <th>0</th>\n      <td>1</td>\n      <td>Regata</td>\n    </tr>\n    <tr>\n      <th>1</th>\n      <td>2</td>\n      <td>Com Manga</td>\n    </tr>\n  </tbody>\n</table>\n</div>"
      ]
     }
    }
   ],
   "execution_count": 0
  },
  {
   "cell_type": "code",
   "source": [
    "#Os DataFrames pandas possuem métodos construídos internamente para realizarem a ordenação dos valores de seus dados a partir de suas colunas\n#https://pandas.pydata.org/pandas-docs/version/0.23/generated/pandas.DataFrame.sort_values.html\n\n#O método sort_values(parametro) é utilizado para tal operação é possível ordenar os dados a partir de uma coluna passando seu nome como parâmetro entre os parênteses sort_values(\"col1\") , também sendo possível realizar a ordenação por mais de uma coluna , passando uma lista de strings contendo os nomes das colunas como sort_values(['col1','col2'])\ndf_test.sort_values('nome')\n\ndf_test.sort_values(['nome','idade'])\n\ndf_test.sort_values(by=['nome','idade'], ascending=False)\n"
   ],
   "metadata": {
    "application/vnd.databricks.v1+cell": {
     "title": "",
     "showTitle": false,
     "inputWidgets": {},
     "nuid": "3c82a14e-a5dd-4721-9e70-ed2f364a9a4f"
    }
   },
   "outputs": [
    {
     "output_type": "display_data",
     "metadata": {
      "application/vnd.databricks.v1+output": {
       "datasetInfos": [],
       "data": "<div>\n<style scoped>\n    .dataframe tbody tr th:only-of-type {\n        vertical-align: middle;\n    }\n\n    .dataframe tbody tr th {\n        vertical-align: top;\n    }\n\n    .dataframe thead th {\n        text-align: right;\n    }\n</style>\n<table border=\"1\" class=\"dataframe\">\n  <thead>\n    <tr style=\"text-align: right;\">\n      <th></th>\n      <th>nome</th>\n      <th>sobrenome</th>\n      <th>idade</th>\n      <th>tamanho_camiseta</th>\n      <th>codigo_modelo_camiseta</th>\n    </tr>\n  </thead>\n  <tbody>\n    <tr>\n      <th>3</th>\n      <td>Schopenhauer</td>\n      <td>Souza</td>\n      <td>30</td>\n      <td>M</td>\n      <td>1</td>\n    </tr>\n    <tr>\n      <th>2</th>\n      <td>Ricardo</td>\n      <td>Pereira</td>\n      <td>30</td>\n      <td>GG</td>\n      <td>2</td>\n    </tr>\n    <tr>\n      <th>1</th>\n      <td>Pedro</td>\n      <td>Matos</td>\n      <td>12</td>\n      <td>G</td>\n      <td>1</td>\n    </tr>\n    <tr>\n      <th>0</th>\n      <td>Joao</td>\n      <td>Silva</td>\n      <td>23</td>\n      <td>M</td>\n      <td>1</td>\n    </tr>\n  </tbody>\n</table>\n</div>",
       "textData": null,
       "removedWidgets": [],
       "addedWidgets": {},
       "metadata": {},
       "type": "htmlSandbox",
       "arguments": {}
      }
     },
     "data": {
      "text/html": [
       "<div>\n<style scoped>\n    .dataframe tbody tr th:only-of-type {\n        vertical-align: middle;\n    }\n\n    .dataframe tbody tr th {\n        vertical-align: top;\n    }\n\n    .dataframe thead th {\n        text-align: right;\n    }\n</style>\n<table border=\"1\" class=\"dataframe\">\n  <thead>\n    <tr style=\"text-align: right;\">\n      <th></th>\n      <th>nome</th>\n      <th>sobrenome</th>\n      <th>idade</th>\n      <th>tamanho_camiseta</th>\n      <th>codigo_modelo_camiseta</th>\n    </tr>\n  </thead>\n  <tbody>\n    <tr>\n      <th>3</th>\n      <td>Schopenhauer</td>\n      <td>Souza</td>\n      <td>30</td>\n      <td>M</td>\n      <td>1</td>\n    </tr>\n    <tr>\n      <th>2</th>\n      <td>Ricardo</td>\n      <td>Pereira</td>\n      <td>30</td>\n      <td>GG</td>\n      <td>2</td>\n    </tr>\n    <tr>\n      <th>1</th>\n      <td>Pedro</td>\n      <td>Matos</td>\n      <td>12</td>\n      <td>G</td>\n      <td>1</td>\n    </tr>\n    <tr>\n      <th>0</th>\n      <td>Joao</td>\n      <td>Silva</td>\n      <td>23</td>\n      <td>M</td>\n      <td>1</td>\n    </tr>\n  </tbody>\n</table>\n</div>"
      ]
     }
    }
   ],
   "execution_count": 0
  },
  {
   "cell_type": "code",
   "source": [
    "#É possível realizar filtros nos dados do DataFrame utilizando a sintaxe abaixo:\n## dataframe_ex[dataframe_ex['atributo']>1000] - neste exemplo filtraríamos valores acima de 1000 da coluna atributo \n\ndf_test[df_test['idade']>=30]\n"
   ],
   "metadata": {
    "application/vnd.databricks.v1+cell": {
     "title": "",
     "showTitle": false,
     "inputWidgets": {},
     "nuid": "598f5dba-815e-474b-af9c-e9603b8cb055"
    }
   },
   "outputs": [
    {
     "output_type": "display_data",
     "metadata": {
      "application/vnd.databricks.v1+output": {
       "datasetInfos": [],
       "data": "<div>\n<style scoped>\n    .dataframe tbody tr th:only-of-type {\n        vertical-align: middle;\n    }\n\n    .dataframe tbody tr th {\n        vertical-align: top;\n    }\n\n    .dataframe thead th {\n        text-align: right;\n    }\n</style>\n<table border=\"1\" class=\"dataframe\">\n  <thead>\n    <tr style=\"text-align: right;\">\n      <th></th>\n      <th>nome</th>\n      <th>sobrenome</th>\n      <th>idade</th>\n      <th>tamanho_camiseta</th>\n      <th>codigo_modelo_camiseta</th>\n    </tr>\n  </thead>\n  <tbody>\n    <tr>\n      <th>2</th>\n      <td>Ricardo</td>\n      <td>Pereira</td>\n      <td>30</td>\n      <td>GG</td>\n      <td>2</td>\n    </tr>\n    <tr>\n      <th>3</th>\n      <td>Schopenhauer</td>\n      <td>Souza</td>\n      <td>30</td>\n      <td>M</td>\n      <td>1</td>\n    </tr>\n  </tbody>\n</table>\n</div>",
       "textData": null,
       "removedWidgets": [],
       "addedWidgets": {},
       "metadata": {},
       "type": "htmlSandbox",
       "arguments": {}
      }
     },
     "data": {
      "text/html": [
       "<div>\n<style scoped>\n    .dataframe tbody tr th:only-of-type {\n        vertical-align: middle;\n    }\n\n    .dataframe tbody tr th {\n        vertical-align: top;\n    }\n\n    .dataframe thead th {\n        text-align: right;\n    }\n</style>\n<table border=\"1\" class=\"dataframe\">\n  <thead>\n    <tr style=\"text-align: right;\">\n      <th></th>\n      <th>nome</th>\n      <th>sobrenome</th>\n      <th>idade</th>\n      <th>tamanho_camiseta</th>\n      <th>codigo_modelo_camiseta</th>\n    </tr>\n  </thead>\n  <tbody>\n    <tr>\n      <th>2</th>\n      <td>Ricardo</td>\n      <td>Pereira</td>\n      <td>30</td>\n      <td>GG</td>\n      <td>2</td>\n    </tr>\n    <tr>\n      <th>3</th>\n      <td>Schopenhauer</td>\n      <td>Souza</td>\n      <td>30</td>\n      <td>M</td>\n      <td>1</td>\n    </tr>\n  </tbody>\n</table>\n</div>"
      ]
     }
    }
   ],
   "execution_count": 0
  },
  {
   "cell_type": "code",
   "source": [
    "#É possível unir colunas para criar uma nova\ndf_test['nome_completo'] = df_test['nome']+\" \"+df_test['sobrenome']\ndf_test"
   ],
   "metadata": {
    "application/vnd.databricks.v1+cell": {
     "title": "",
     "showTitle": false,
     "inputWidgets": {},
     "nuid": "68b1439a-9ce9-444a-8ccb-b4e7d75d3621"
    }
   },
   "outputs": [
    {
     "output_type": "display_data",
     "metadata": {
      "application/vnd.databricks.v1+output": {
       "datasetInfos": [],
       "data": "<div>\n<style scoped>\n    .dataframe tbody tr th:only-of-type {\n        vertical-align: middle;\n    }\n\n    .dataframe tbody tr th {\n        vertical-align: top;\n    }\n\n    .dataframe thead th {\n        text-align: right;\n    }\n</style>\n<table border=\"1\" class=\"dataframe\">\n  <thead>\n    <tr style=\"text-align: right;\">\n      <th></th>\n      <th>nome</th>\n      <th>sobrenome</th>\n      <th>idade</th>\n      <th>tamanho_camiseta</th>\n      <th>codigo_modelo_camiseta</th>\n      <th>nome_completo</th>\n    </tr>\n  </thead>\n  <tbody>\n    <tr>\n      <th>0</th>\n      <td>Joao</td>\n      <td>Silva</td>\n      <td>23</td>\n      <td>M</td>\n      <td>1</td>\n      <td>Joao Silva</td>\n    </tr>\n    <tr>\n      <th>1</th>\n      <td>Pedro</td>\n      <td>Matos</td>\n      <td>12</td>\n      <td>G</td>\n      <td>1</td>\n      <td>Pedro Matos</td>\n    </tr>\n    <tr>\n      <th>2</th>\n      <td>Ricardo</td>\n      <td>Pereira</td>\n      <td>30</td>\n      <td>GG</td>\n      <td>2</td>\n      <td>Ricardo Pereira</td>\n    </tr>\n    <tr>\n      <th>3</th>\n      <td>Schopenhauer</td>\n      <td>Souza</td>\n      <td>30</td>\n      <td>M</td>\n      <td>1</td>\n      <td>Schopenhauer Souza</td>\n    </tr>\n  </tbody>\n</table>\n</div>",
       "textData": null,
       "removedWidgets": [],
       "addedWidgets": {},
       "metadata": {},
       "type": "htmlSandbox",
       "arguments": {}
      }
     },
     "data": {
      "text/html": [
       "<div>\n<style scoped>\n    .dataframe tbody tr th:only-of-type {\n        vertical-align: middle;\n    }\n\n    .dataframe tbody tr th {\n        vertical-align: top;\n    }\n\n    .dataframe thead th {\n        text-align: right;\n    }\n</style>\n<table border=\"1\" class=\"dataframe\">\n  <thead>\n    <tr style=\"text-align: right;\">\n      <th></th>\n      <th>nome</th>\n      <th>sobrenome</th>\n      <th>idade</th>\n      <th>tamanho_camiseta</th>\n      <th>codigo_modelo_camiseta</th>\n      <th>nome_completo</th>\n    </tr>\n  </thead>\n  <tbody>\n    <tr>\n      <th>0</th>\n      <td>Joao</td>\n      <td>Silva</td>\n      <td>23</td>\n      <td>M</td>\n      <td>1</td>\n      <td>Joao Silva</td>\n    </tr>\n    <tr>\n      <th>1</th>\n      <td>Pedro</td>\n      <td>Matos</td>\n      <td>12</td>\n      <td>G</td>\n      <td>1</td>\n      <td>Pedro Matos</td>\n    </tr>\n    <tr>\n      <th>2</th>\n      <td>Ricardo</td>\n      <td>Pereira</td>\n      <td>30</td>\n      <td>GG</td>\n      <td>2</td>\n      <td>Ricardo Pereira</td>\n    </tr>\n    <tr>\n      <th>3</th>\n      <td>Schopenhauer</td>\n      <td>Souza</td>\n      <td>30</td>\n      <td>M</td>\n      <td>1</td>\n      <td>Schopenhauer Souza</td>\n    </tr>\n  </tbody>\n</table>\n</div>"
      ]
     }
    }
   ],
   "execution_count": 0
  },
  {
   "cell_type": "code",
   "source": [
    "#É possível tornar um campo do nosso DataFrame como o índice utilizando o método set_index()\n\nvalores_agencias = [(1,\"Comunica\",\"2019\"),(2,\"Ampla\",\"1994\"),(3,\"Optima\",\"2002\")]\ncolunas_agencias = [\"codigo_agencia\", \"nome_agencia\",\"ano_agencia\"]\n\ndf_agencia = pd.DataFrame(valores_agencias, columns=colunas_agencias)\ndf_agencia\n\ndf_agencia.set_index(\"codigo_agencia\")"
   ],
   "metadata": {
    "application/vnd.databricks.v1+cell": {
     "title": "",
     "showTitle": false,
     "inputWidgets": {},
     "nuid": "1799abed-35de-445d-8daf-f433df900665"
    }
   },
   "outputs": [
    {
     "output_type": "display_data",
     "metadata": {
      "application/vnd.databricks.v1+output": {
       "datasetInfos": [],
       "data": "<div>\n<style scoped>\n    .dataframe tbody tr th:only-of-type {\n        vertical-align: middle;\n    }\n\n    .dataframe tbody tr th {\n        vertical-align: top;\n    }\n\n    .dataframe thead th {\n        text-align: right;\n    }\n</style>\n<table border=\"1\" class=\"dataframe\">\n  <thead>\n    <tr style=\"text-align: right;\">\n      <th></th>\n      <th>nome_agencia</th>\n      <th>ano_agencia</th>\n    </tr>\n    <tr>\n      <th>codigo_agencia</th>\n      <th></th>\n      <th></th>\n    </tr>\n  </thead>\n  <tbody>\n    <tr>\n      <th>1</th>\n      <td>Comunica</td>\n      <td>2019</td>\n    </tr>\n    <tr>\n      <th>2</th>\n      <td>Ampla</td>\n      <td>1994</td>\n    </tr>\n    <tr>\n      <th>3</th>\n      <td>Optima</td>\n      <td>2002</td>\n    </tr>\n  </tbody>\n</table>\n</div>",
       "textData": null,
       "removedWidgets": [],
       "addedWidgets": {},
       "metadata": {},
       "type": "htmlSandbox",
       "arguments": {}
      }
     },
     "data": {
      "text/html": [
       "<div>\n<style scoped>\n    .dataframe tbody tr th:only-of-type {\n        vertical-align: middle;\n    }\n\n    .dataframe tbody tr th {\n        vertical-align: top;\n    }\n\n    .dataframe thead th {\n        text-align: right;\n    }\n</style>\n<table border=\"1\" class=\"dataframe\">\n  <thead>\n    <tr style=\"text-align: right;\">\n      <th></th>\n      <th>nome_agencia</th>\n      <th>ano_agencia</th>\n    </tr>\n    <tr>\n      <th>codigo_agencia</th>\n      <th></th>\n      <th></th>\n    </tr>\n  </thead>\n  <tbody>\n    <tr>\n      <th>1</th>\n      <td>Comunica</td>\n      <td>2019</td>\n    </tr>\n    <tr>\n      <th>2</th>\n      <td>Ampla</td>\n      <td>1994</td>\n    </tr>\n    <tr>\n      <th>3</th>\n      <td>Optima</td>\n      <td>2002</td>\n    </tr>\n  </tbody>\n</table>\n</div>"
      ]
     }
    }
   ],
   "execution_count": 0
  },
  {
   "cell_type": "code",
   "source": [
    "#Mergeando Dataframes\n\n#https://pandas.pydata.org/docs/user_guide/merging.html\n\ndf1 = pd.DataFrame(\n    {\n        \"A\": [\"A0\", \"A1\", \"A2\", \"A3\"],\n        \"B\": [\"B0\", \"B1\", \"B2\", \"B3\"],\n        \"C\": [\"C0\", \"C1\", \"C2\", \"C3\"],\n        \"D\": [\"D0\", \"D1\", \"D2\", \"D3\"],\n    },\n    index=[0, 1, 2, 3],\n)\n\n\ndf2 = pd.DataFrame(\n    {\n        \"A\": [\"A4\", \"A5\", \"A6\", \"A7\"],\n        \"B\": [\"B4\", \"B5\", \"B6\", \"B7\"],\n        \"C\": [\"C4\", \"C5\", \"C6\", \"C7\"],\n        \"D\": [\"D4\", \"D5\", \"D6\", \"D7\"],\n    },\n    index=[4, 5, 6, 7],\n)\n\n\ndf3 = pd.DataFrame(\n    {\n        \"A\": [\"A8\", \"A9\", \"A10\", \"A11\"],\n        \"B\": [\"B8\", \"B9\", \"B10\", \"B11\"],\n        \"C\": [\"C8\", \"C9\", \"C10\", \"C11\"],\n        \"D\": [\"D8\", \"D9\", \"D10\", \"D11\"],\n    },\n    index=[8, 9, 10, 11],\n)\n\ndf_all = pd.concat([df1, df2, df3])\ndf_all"
   ],
   "metadata": {
    "application/vnd.databricks.v1+cell": {
     "title": "",
     "showTitle": false,
     "inputWidgets": {},
     "nuid": "d8157e27-3384-4c71-865d-3b2f1b662d5e"
    }
   },
   "outputs": [
    {
     "output_type": "display_data",
     "metadata": {
      "application/vnd.databricks.v1+output": {
       "datasetInfos": [],
       "data": "<div>\n<style scoped>\n    .dataframe tbody tr th:only-of-type {\n        vertical-align: middle;\n    }\n\n    .dataframe tbody tr th {\n        vertical-align: top;\n    }\n\n    .dataframe thead th {\n        text-align: right;\n    }\n</style>\n<table border=\"1\" class=\"dataframe\">\n  <thead>\n    <tr style=\"text-align: right;\">\n      <th></th>\n      <th>A</th>\n      <th>B</th>\n      <th>C</th>\n      <th>D</th>\n    </tr>\n  </thead>\n  <tbody>\n    <tr>\n      <th>0</th>\n      <td>A0</td>\n      <td>B0</td>\n      <td>C0</td>\n      <td>D0</td>\n    </tr>\n    <tr>\n      <th>1</th>\n      <td>A1</td>\n      <td>B1</td>\n      <td>C1</td>\n      <td>D1</td>\n    </tr>\n    <tr>\n      <th>2</th>\n      <td>A2</td>\n      <td>B2</td>\n      <td>C2</td>\n      <td>D2</td>\n    </tr>\n    <tr>\n      <th>3</th>\n      <td>A3</td>\n      <td>B3</td>\n      <td>C3</td>\n      <td>D3</td>\n    </tr>\n    <tr>\n      <th>4</th>\n      <td>A4</td>\n      <td>B4</td>\n      <td>C4</td>\n      <td>D4</td>\n    </tr>\n    <tr>\n      <th>5</th>\n      <td>A5</td>\n      <td>B5</td>\n      <td>C5</td>\n      <td>D5</td>\n    </tr>\n    <tr>\n      <th>6</th>\n      <td>A6</td>\n      <td>B6</td>\n      <td>C6</td>\n      <td>D6</td>\n    </tr>\n    <tr>\n      <th>7</th>\n      <td>A7</td>\n      <td>B7</td>\n      <td>C7</td>\n      <td>D7</td>\n    </tr>\n    <tr>\n      <th>8</th>\n      <td>A8</td>\n      <td>B8</td>\n      <td>C8</td>\n      <td>D8</td>\n    </tr>\n    <tr>\n      <th>9</th>\n      <td>A9</td>\n      <td>B9</td>\n      <td>C9</td>\n      <td>D9</td>\n    </tr>\n    <tr>\n      <th>10</th>\n      <td>A10</td>\n      <td>B10</td>\n      <td>C10</td>\n      <td>D10</td>\n    </tr>\n    <tr>\n      <th>11</th>\n      <td>A11</td>\n      <td>B11</td>\n      <td>C11</td>\n      <td>D11</td>\n    </tr>\n  </tbody>\n</table>\n</div>",
       "textData": null,
       "removedWidgets": [],
       "addedWidgets": {},
       "metadata": {},
       "type": "htmlSandbox",
       "arguments": {}
      }
     },
     "data": {
      "text/html": [
       "<div>\n<style scoped>\n    .dataframe tbody tr th:only-of-type {\n        vertical-align: middle;\n    }\n\n    .dataframe tbody tr th {\n        vertical-align: top;\n    }\n\n    .dataframe thead th {\n        text-align: right;\n    }\n</style>\n<table border=\"1\" class=\"dataframe\">\n  <thead>\n    <tr style=\"text-align: right;\">\n      <th></th>\n      <th>A</th>\n      <th>B</th>\n      <th>C</th>\n      <th>D</th>\n    </tr>\n  </thead>\n  <tbody>\n    <tr>\n      <th>0</th>\n      <td>A0</td>\n      <td>B0</td>\n      <td>C0</td>\n      <td>D0</td>\n    </tr>\n    <tr>\n      <th>1</th>\n      <td>A1</td>\n      <td>B1</td>\n      <td>C1</td>\n      <td>D1</td>\n    </tr>\n    <tr>\n      <th>2</th>\n      <td>A2</td>\n      <td>B2</td>\n      <td>C2</td>\n      <td>D2</td>\n    </tr>\n    <tr>\n      <th>3</th>\n      <td>A3</td>\n      <td>B3</td>\n      <td>C3</td>\n      <td>D3</td>\n    </tr>\n    <tr>\n      <th>4</th>\n      <td>A4</td>\n      <td>B4</td>\n      <td>C4</td>\n      <td>D4</td>\n    </tr>\n    <tr>\n      <th>5</th>\n      <td>A5</td>\n      <td>B5</td>\n      <td>C5</td>\n      <td>D5</td>\n    </tr>\n    <tr>\n      <th>6</th>\n      <td>A6</td>\n      <td>B6</td>\n      <td>C6</td>\n      <td>D6</td>\n    </tr>\n    <tr>\n      <th>7</th>\n      <td>A7</td>\n      <td>B7</td>\n      <td>C7</td>\n      <td>D7</td>\n    </tr>\n    <tr>\n      <th>8</th>\n      <td>A8</td>\n      <td>B8</td>\n      <td>C8</td>\n      <td>D8</td>\n    </tr>\n    <tr>\n      <th>9</th>\n      <td>A9</td>\n      <td>B9</td>\n      <td>C9</td>\n      <td>D9</td>\n    </tr>\n    <tr>\n      <th>10</th>\n      <td>A10</td>\n      <td>B10</td>\n      <td>C10</td>\n      <td>D10</td>\n    </tr>\n    <tr>\n      <th>11</th>\n      <td>A11</td>\n      <td>B11</td>\n      <td>C11</td>\n      <td>D11</td>\n    </tr>\n  </tbody>\n</table>\n</div>"
      ]
     }
    }
   ],
   "execution_count": 0
  },
  {
   "cell_type": "code",
   "source": [
    "#Realizando Join de Dataframes\n##https://datacarpentry.org/python-socialsci/11-joins/index.html\n\nvalores_projetos_agencia = [(1,2, \"Carnaval 2000\"),(2,2, \"Carnaval 2001\"),(3,1, \"Carnaval 2002\"),(4,1, \"Carnaval 2005\"),(5,2, \"Carnaval 2006\"),(6,1, \"Carnaval 2007\"),(7,2, \"Carnaval 2008\"),(8,1, \"Carnaval 2009\"),(9,2, \"Carnaval 2010\"),(10,1, \"Carnaval 2011\"),(11,1, \"Carnaval 2012\"),(12,1, \"Carnaval 2013\"),(13,2, \"Carnaval 2014\"),(14,1, \"Carnaval 2015\"),(15,2, \"Carnaval 2016\"),(16,2, \"Carnaval 2017\"),(17,1, \"Carnaval 2018\"),(18,1, \"Carnaval 2019\"),(19,1, \"Carnaval 2020\"),(20,1, \"Carnaval 2022\"),(21,1, \"São João 2002\"),(22,3, \"São João 2003\"),(23,3, \"São João 2004\"),(24,3, \"São João 2005\"),(25,3, \"São João 2006\"),(26,3, \"São João 2007\"),(27,1, \"São João 2017\"),(28,3, \"São João 2015\")]\ncolunas_projetos_agencia = ['codigo_projeto','codigo_agencia','nome_projeto']\n\ndf_projetos_agencia = pd.DataFrame(valores_projetos_agencia, columns=colunas_projetos_agencia)\n\ndf_projetos_agencia.head(3)"
   ],
   "metadata": {
    "application/vnd.databricks.v1+cell": {
     "title": "",
     "showTitle": false,
     "inputWidgets": {},
     "nuid": "a1eebbee-6762-48f6-a096-ec2eb263d7a8"
    }
   },
   "outputs": [
    {
     "output_type": "display_data",
     "metadata": {
      "application/vnd.databricks.v1+output": {
       "datasetInfos": [],
       "data": "<div>\n<style scoped>\n    .dataframe tbody tr th:only-of-type {\n        vertical-align: middle;\n    }\n\n    .dataframe tbody tr th {\n        vertical-align: top;\n    }\n\n    .dataframe thead th {\n        text-align: right;\n    }\n</style>\n<table border=\"1\" class=\"dataframe\">\n  <thead>\n    <tr style=\"text-align: right;\">\n      <th></th>\n      <th>codigo_projeto</th>\n      <th>codigo_agencia</th>\n      <th>nome_projeto</th>\n    </tr>\n  </thead>\n  <tbody>\n    <tr>\n      <th>0</th>\n      <td>1</td>\n      <td>2</td>\n      <td>Carnaval 2000</td>\n    </tr>\n    <tr>\n      <th>1</th>\n      <td>2</td>\n      <td>2</td>\n      <td>Carnaval 2001</td>\n    </tr>\n    <tr>\n      <th>2</th>\n      <td>3</td>\n      <td>1</td>\n      <td>Carnaval 2002</td>\n    </tr>\n  </tbody>\n</table>\n</div>",
       "textData": null,
       "removedWidgets": [],
       "addedWidgets": {},
       "metadata": {},
       "type": "htmlSandbox",
       "arguments": {}
      }
     },
     "data": {
      "text/html": [
       "<div>\n<style scoped>\n    .dataframe tbody tr th:only-of-type {\n        vertical-align: middle;\n    }\n\n    .dataframe tbody tr th {\n        vertical-align: top;\n    }\n\n    .dataframe thead th {\n        text-align: right;\n    }\n</style>\n<table border=\"1\" class=\"dataframe\">\n  <thead>\n    <tr style=\"text-align: right;\">\n      <th></th>\n      <th>codigo_projeto</th>\n      <th>codigo_agencia</th>\n      <th>nome_projeto</th>\n    </tr>\n  </thead>\n  <tbody>\n    <tr>\n      <th>0</th>\n      <td>1</td>\n      <td>2</td>\n      <td>Carnaval 2000</td>\n    </tr>\n    <tr>\n      <th>1</th>\n      <td>2</td>\n      <td>2</td>\n      <td>Carnaval 2001</td>\n    </tr>\n    <tr>\n      <th>2</th>\n      <td>3</td>\n      <td>1</td>\n      <td>Carnaval 2002</td>\n    </tr>\n  </tbody>\n</table>\n</div>"
      ]
     }
    }
   ],
   "execution_count": 0
  },
  {
   "cell_type": "code",
   "source": [
    "df_agencias_e_projetos = pd.merge(df_agencia, df_projetos_agencia, how='inner', on='codigo_agencia')"
   ],
   "metadata": {
    "application/vnd.databricks.v1+cell": {
     "title": "",
     "showTitle": false,
     "inputWidgets": {},
     "nuid": "b69b9eb2-54be-49f5-a35b-ffde9be8abcd"
    }
   },
   "outputs": [],
   "execution_count": 0
  },
  {
   "cell_type": "code",
   "source": [
    "df_agencias_e_projetos.head(3)"
   ],
   "metadata": {
    "application/vnd.databricks.v1+cell": {
     "title": "",
     "showTitle": false,
     "inputWidgets": {},
     "nuid": "07c6d398-1e80-46ed-ab80-c909b3a39215"
    }
   },
   "outputs": [
    {
     "output_type": "display_data",
     "metadata": {
      "application/vnd.databricks.v1+output": {
       "datasetInfos": [],
       "data": "<div>\n<style scoped>\n    .dataframe tbody tr th:only-of-type {\n        vertical-align: middle;\n    }\n\n    .dataframe tbody tr th {\n        vertical-align: top;\n    }\n\n    .dataframe thead th {\n        text-align: right;\n    }\n</style>\n<table border=\"1\" class=\"dataframe\">\n  <thead>\n    <tr style=\"text-align: right;\">\n      <th></th>\n      <th>codigo_agencia</th>\n      <th>nome_agencia</th>\n      <th>ano_agencia</th>\n      <th>codigo_projeto</th>\n      <th>nome_projeto</th>\n    </tr>\n  </thead>\n  <tbody>\n    <tr>\n      <th>0</th>\n      <td>1</td>\n      <td>Comunica</td>\n      <td>2019</td>\n      <td>3</td>\n      <td>Carnaval 2002</td>\n    </tr>\n    <tr>\n      <th>1</th>\n      <td>1</td>\n      <td>Comunica</td>\n      <td>2019</td>\n      <td>4</td>\n      <td>Carnaval 2005</td>\n    </tr>\n    <tr>\n      <th>2</th>\n      <td>1</td>\n      <td>Comunica</td>\n      <td>2019</td>\n      <td>6</td>\n      <td>Carnaval 2007</td>\n    </tr>\n  </tbody>\n</table>\n</div>",
       "textData": null,
       "removedWidgets": [],
       "addedWidgets": {},
       "metadata": {},
       "type": "htmlSandbox",
       "arguments": {}
      }
     },
     "data": {
      "text/html": [
       "<div>\n<style scoped>\n    .dataframe tbody tr th:only-of-type {\n        vertical-align: middle;\n    }\n\n    .dataframe tbody tr th {\n        vertical-align: top;\n    }\n\n    .dataframe thead th {\n        text-align: right;\n    }\n</style>\n<table border=\"1\" class=\"dataframe\">\n  <thead>\n    <tr style=\"text-align: right;\">\n      <th></th>\n      <th>codigo_agencia</th>\n      <th>nome_agencia</th>\n      <th>ano_agencia</th>\n      <th>codigo_projeto</th>\n      <th>nome_projeto</th>\n    </tr>\n  </thead>\n  <tbody>\n    <tr>\n      <th>0</th>\n      <td>1</td>\n      <td>Comunica</td>\n      <td>2019</td>\n      <td>3</td>\n      <td>Carnaval 2002</td>\n    </tr>\n    <tr>\n      <th>1</th>\n      <td>1</td>\n      <td>Comunica</td>\n      <td>2019</td>\n      <td>4</td>\n      <td>Carnaval 2005</td>\n    </tr>\n    <tr>\n      <th>2</th>\n      <td>1</td>\n      <td>Comunica</td>\n      <td>2019</td>\n      <td>6</td>\n      <td>Carnaval 2007</td>\n    </tr>\n  </tbody>\n</table>\n</div>"
      ]
     }
    }
   ],
   "execution_count": 0
  },
  {
   "cell_type": "code",
   "source": [
    ""
   ],
   "metadata": {
    "application/vnd.databricks.v1+cell": {
     "title": "",
     "showTitle": false,
     "inputWidgets": {},
     "nuid": "94afd10b-a2d4-471a-88a4-1691997ace51"
    }
   },
   "outputs": [],
   "execution_count": 0
  }
 ],
 "metadata": {
  "application/vnd.databricks.v1+notebook": {
   "notebookName": "AulaPandasExercicios",
   "dashboards": [],
   "notebookMetadata": {
    "pythonIndentUnit": 2
   },
   "language": "python",
   "widgets": {},
   "notebookOrigID": 833494577967200
  }
 },
 "nbformat": 4,
 "nbformat_minor": 0
}