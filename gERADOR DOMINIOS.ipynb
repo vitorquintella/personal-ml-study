{
 "cells": [
  {
   "cell_type": "code",
   "execution_count": 171,
   "metadata": {
    "collapsed": true
   },
   "outputs": [],
   "source": [
    "# CREATE TXT FILE WITH ALL INSERTS COMMANDS FOR STATUS_ALUNO\n",
    "with open('INSERTS_FACULDADE_DOMINIOS/STATUS_ALUNO.txt', 'w', encoding='utf-8') as f:\n",
    "    # CREATE INSERT INTO STATUS_ALUNO\n",
    "    ID_STATUS_LIST = [1,2,3,4]\n",
    "    DESCRICAO_STATUS_LIST = ['Cursando', 'Trancado', 'Formado', 'Jubilado']\n",
    "    for i in range(len(ID_STATUS_LIST)):\n",
    "        ID_STATUS = ID_STATUS_LIST[i]\n",
    "        DESCRICAO_STATUS = DESCRICAO_STATUS_LIST[i]\n",
    "        sql = f\"INSERT INTO STATUS_ALUNO (ID_STATUS, DESCRICAO_STATUS) VALUES ({ID_STATUS}, '{DESCRICAO_STATUS}')\"\n",
    "        f.write(sql + '\\n')"
   ]
  },
  {
   "cell_type": "code",
   "execution_count": 172,
   "outputs": [],
   "source": [
    "# CREATE TXT FILE WITH ALL INSERTS COMMANDS FOR STATUS_FUNCIONARIO\n",
    "with open('INSERTS_FACULDADE_DOMINIOS/STATUS_FUNCIONARIO.txt', 'w', encoding='utf-8') as f:\n",
    "    ID_STATUS_LIST = [1,2,3,4]\n",
    "    DESCRICAO_STATUS_LIST = ['Ativo', 'Desligado', 'Férias', 'Afastado']\n",
    "    for i in range(len(ID_STATUS_LIST)):\n",
    "        ID_STATUS = ID_STATUS_LIST[i]\n",
    "        DESCRICAO_STATUS = DESCRICAO_STATUS_LIST[i]\n",
    "        sql = f\"INSERT INTO STATUS_FUNCIONARIO (ID_STATUS, DESCRICAO_STATUS) VALUES ({ID_STATUS}, '{DESCRICAO_STATUS}')\"\n",
    "        f.write(sql + '\\n')"
   ],
   "metadata": {
    "collapsed": false,
    "pycharm": {
     "name": "#%%\n"
    }
   }
  },
  {
   "cell_type": "code",
   "execution_count": 173,
   "outputs": [],
   "source": [
    "# CREATE TXT FILE WITH ALL INSERTS COMMANDS FOR TITULACAO\n",
    "with open('INSERTS_FACULDADE_DOMINIOS/TITULACAO.txt', 'w', encoding='utf-8') as f:\n",
    "    ID_TITULACAO_LIST = [1, 2, 3, 4]\n",
    "    DESCRICAO_TITULACAO_LIST = ['Graduado', 'Especialista', 'Mestre', 'Doutor']\n",
    "    for i in range(len(ID_TITULACAO_LIST)):\n",
    "        ID_TITULACAO = ID_TITULACAO_LIST[i]\n",
    "        DESCRICAO_TITULACAO = DESCRICAO_TITULACAO_LIST[i]\n",
    "        sql = f\"INSERT INTO TITULACAO (ID_TITULACAO, DESCRICAO_TITULACAO) VALUES ({ID_TITULACAO}, '{DESCRICAO_TITULACAO}')\"\n",
    "        f.write(sql + '\\n')"
   ],
   "metadata": {
    "collapsed": false,
    "pycharm": {
     "name": "#%%\n"
    }
   }
  },
  {
   "cell_type": "code",
   "execution_count": 174,
   "outputs": [],
   "source": [
    "# CREATE TXT FILE WITH ALL INSERTS COMMANDS FOR SETOR\n",
    "with open('INSERTS_FACULDADE_DOMINIOS/SETOR.txt', 'w', encoding='utf-8') as f:\n",
    "    ID_SETOR_LIST = [1, 2, 3, 4]\n",
    "    DESCRICAO_SETOR_LIST = ['Secretariado', 'Coordenação', 'Biblioteca', 'Facilities']\n",
    "    for i in range(len(ID_SETOR_LIST)):\n",
    "        ID_SETOR = ID_SETOR_LIST[i]\n",
    "        DESCRICAO_SETOR = DESCRICAO_SETOR_LIST[i]\n",
    "        sql = f\"INSERT INTO SETOR (ID_SETOR, DESCRICAO_SETOR) VALUES ({ID_SETOR}, '{DESCRICAO_SETOR}')\"\n",
    "        f.write(sql + '\\n')"
   ],
   "metadata": {
    "collapsed": false,
    "pycharm": {
     "name": "#%%\n"
    }
   }
  },
  {
   "cell_type": "code",
   "execution_count": 175,
   "outputs": [],
   "source": [
    "# CREATE TXT FILE WITH ALL INSERTS COMMANDS FOR TURNO\n",
    "with open('INSERTS_FACULDADE_DOMINIOS/TURNO.txt', 'w', encoding='utf-8') as f:\n",
    "    ID_TURNO_LIST = [1, 2, 3, 4]\n",
    "    DESCRICAO_TURNO_LIST = ['Matutino', 'Vespertino', 'Noturno', 'Integral']\n",
    "    for i in range(len(ID_TURNO_LIST)):\n",
    "        ID_TURNO = ID_TURNO_LIST[i]\n",
    "        DESCRICAO_TURNO = DESCRICAO_TURNO_LIST[i]\n",
    "        sql = f\"INSERT INTO TURNO (ID_TURNO, DESCRICAO_TURNO) VALUES ({ID_TURNO}, '{DESCRICAO_TURNO}')\"\n",
    "        f.write(sql + '\\n')"
   ],
   "metadata": {
    "collapsed": false,
    "pycharm": {
     "name": "#%%\n"
    }
   }
  },
  {
   "cell_type": "code",
   "execution_count": 189,
   "outputs": [],
   "source": [
    "# CREATE TXT FILE WITH ALL INSERTS COMMANDS FOR TIPO_AVALIACAO\n",
    "with open('INSERTS_FACULDADE_DOMINIOS/TIPO_AVALIACAO.txt', 'w', encoding='utf-8') as f:\n",
    "    ID_TIPO_AVALIACAO_LIST = [1, 2, 3, 4, 5]\n",
    "    DESCRICAO_TIPO_AVALIACAO_LIST = ['Prova 1', 'Prova 2', 'Prova 3', 'Prova de Recuperação', 'Prova de Final']\n",
    "    for i in range(len(ID_TIPO_AVALIACAO_LIST)):\n",
    "        ID_TIPO_AVALIACAO = ID_TIPO_AVALIACAO_LIST[i]\n",
    "        DESCRICAO_TIPO_AVALIACAO = DESCRICAO_TIPO_AVALIACAO_LIST[i]\n",
    "        sql = f\"INSERT INTO TIPO_AVALIACAO (ID_TIPO_AVALIACAO, DESCRICAO_TIPO_AVALIACAO) VALUES ({ID_TIPO_AVALIACAO}, '{DESCRICAO_TIPO_AVALIACAO}')\"\n",
    "        f.write(sql + '\\n')"
   ],
   "metadata": {
    "collapsed": false,
    "pycharm": {
     "name": "#%%\n"
    }
   }
  },
  {
   "cell_type": "code",
   "execution_count": 177,
   "outputs": [],
   "source": [
    "# CREATE TXT FILE WITH ALL INSERTS COMMANDS FOR DEPARTAMENTO\n",
    "with open('INSERTS_FACULDADE_DOMINIOS/DEPARTAMENTO.txt', 'w', encoding='utf-8') as f:\n",
    "    ID_DEPARTAMENTO_LIST = [1, 2, 3, 4, 5, 6]\n",
    "    DESCRICAO_DEPARTAMENTO_LIST = ['DADOS', 'EXATAS', 'BIOLOGICAS', 'HUMANAS E SOCIAIS', 'ARTES', 'LINGUAS']\n",
    "    for i in range(len(ID_DEPARTAMENTO_LIST)):\n",
    "        ID_DEPARTAMENTO = ID_DEPARTAMENTO_LIST[i]\n",
    "        DESCRICAO_DEPARTAMENTO = DESCRICAO_DEPARTAMENTO_LIST[i]\n",
    "        sql = f\"INSERT INTO DEPARTAMENTO (ID_DEPARTAMENTO, DESCRICAO_DEPARTAMENTO) VALUES ({ID_DEPARTAMENTO}, '{DESCRICAO_DEPARTAMENTO}')\"\n",
    "        f.write(sql + '\\n')\n",
    "\n",
    "# CREATE TXT FILE WITH ALL INSERTS COMMANDS FOR CURSO.\n",
    "# CURSO IS ASSOCIATED WITH DEPARTAMENTO\n",
    "DESCRICAO_CURSO_GRADUACAO_LIST = ['Engenharia de Dados', 'Ciência de Dados', 'Análise de Dados', 'Engenharias de Machine Learning',\n",
    "                                'Estatística', 'Matemática', 'Física', 'Química',\n",
    "                                'Biologia', 'Medicina', 'Enfermagem', 'Fisioterapia',\n",
    "                                'Filosofia', 'Administração', 'Sociologia', 'Pedagogia',\n",
    "                                'Artes Cênicas', 'Música', 'Turismo', 'Artes Visuais',\n",
    "                                'Português', 'Linguas Estrangeiras', 'Linguas Clássicas', 'Filologia']\n",
    "\n",
    "ID_CURSO_GRADUACAO = 0\n",
    "with open('INSERTS_FACULDADE_DOMINIOS/CURSO_GRADUACAO.txt', 'w', encoding='utf-8') as f:\n",
    "    for i in range(len(ID_DEPARTAMENTO_LIST)):\n",
    "        for j in range(4):\n",
    "            ID_DEPARTAMENTO = ID_DEPARTAMENTO_LIST[i]\n",
    "            DESCRICAO_CURSO_GRADUACAO = DESCRICAO_CURSO_GRADUACAO_LIST[ID_CURSO_GRADUACAO]\n",
    "            ID_CURSO_GRADUACAO += 1\n",
    "            sql = f\"INSERT INTO CURSO_GRADUACAO (ID_CURSO_GRADUACAO, ID_DEPARTAMENTO, DESCRICAO_CURSO_GRADUACAO) VALUES ({ID_CURSO_GRADUACAO}, {ID_DEPARTAMENTO}, '{DESCRICAO_CURSO_GRADUACAO}')\"\n",
    "            f.write(sql + '\\n')\n",
    "\n",
    "# CREATE TXT FILE WITH ALL INSERTS COMMANDS FOR DISCIPLINA.\n",
    "# CURSO IS ASSOCIATED WITH CURSO\n",
    "import random\n",
    "n_disciplinas = 20\n",
    "CARGA_HORARIA_DISCIPLINA_RND_LIST = [30, 60, 90, 120]\n",
    "PRETEXTUAL_DISCIPLINA_RND_LIST = ['Introdução a', 'Tópicos em', 'Conceitos de', 'Projeto de']\n",
    "POSTEXTUAL_DISCIPLINA_RND_LIST = ['Prática', 'Teórica', 'Avançada', 'Básica']\n",
    "\n",
    "ID_DISCIPLINA = 0\n",
    "with open('INSERTS_FACULDADE_DOMINIOS/DISCIPLINA.txt', 'w', encoding='utf-8') as f:\n",
    "    for i in range(len(DESCRICAO_CURSO_GRADUACAO_LIST)):\n",
    "        ID_CURSO_GRADUACAO = i + 1\n",
    "        dict_disciplinas = {}\n",
    "        for j in range(n_disciplinas):\n",
    "            ID_DISCIPLINA += 1\n",
    "            CARGA_HORARIA_DISCIPLINA = random.choice(CARGA_HORARIA_DISCIPLINA_RND_LIST)\n",
    "            PRETEXTUAL_DISCIPLINA = random.choice(PRETEXTUAL_DISCIPLINA_RND_LIST)\n",
    "            POSTEXTUAL_DISCIPLINA = random.choice(POSTEXTUAL_DISCIPLINA_RND_LIST)\n",
    "            DESCRICAO_DISCIPLINA = f'{PRETEXTUAL_DISCIPLINA} {DESCRICAO_CURSO_GRADUACAO_LIST[i]} {POSTEXTUAL_DISCIPLINA}'\n",
    "            if DESCRICAO_DISCIPLINA not in dict_disciplinas:\n",
    "                dict_disciplinas[DESCRICAO_DISCIPLINA] = 1\n",
    "            else:\n",
    "                aparicoes = dict_disciplinas[DESCRICAO_DISCIPLINA]\n",
    "                aparicoes += 1\n",
    "                DESCRICAO_DISCIPLINA = DESCRICAO_DISCIPLINA + ' ' + str(aparicoes)\n",
    "                dict_disciplinas[DESCRICAO_DISCIPLINA] = aparicoes\n",
    "            sql = f\"INSERT INTO DISCIPLINA (ID_DISCIPLINA, DESCRICAO_DISCIPLINA, CARGA_HORARIA_DISCIPLINA, ID_CURSO_GRADUACAO) VALUES ({ID_DISCIPLINA}, '{DESCRICAO_DISCIPLINA}', {CARGA_HORARIA_DISCIPLINA},  {ID_CURSO_GRADUACAO})\"\n",
    "            f.write(sql + '\\n')"
   ],
   "metadata": {
    "collapsed": false,
    "pycharm": {
     "name": "#%%\n"
    }
   }
  },
  {
   "cell_type": "code",
   "execution_count": 180,
   "outputs": [],
   "source": [
    "# # CREATE TXT FILE WITH ALL INSERTS COMMANDS FOR TIPO_LOGRADOURO\n",
    "# with open('INSERTS_FACULDADE_DOMINIOS/TIPO_LOGRADOURO.txt', 'w', encoding='utf-8') as f:\n",
    "#     ID_TIPO_LOGRADOURO_LIST = [1, 2, 3, 4, 5, 6, 7]\n",
    "#     DESCRICAO_TIPO_LOGRADOURO_LIST = ['Rua', 'Avenida', 'Alameda', 'Praça', 'Travessa', 'Estrada', 'Rodovia']\n",
    "#     for i in range(len(ID_TIPO_LOGRADOURO_LIST)):\n",
    "#         ID_TIPO_LOGRADOURO = ID_TIPO_LOGRADOURO_LIST[i]\n",
    "#         DESCRICAO_TIPO_LOGRADOURO = DESCRICAO_TIPO_LOGRADOURO_LIST[i]\n",
    "#         sql = f\"INSERT INTO TIPO_LOGRADOURO (ID_TIPO_LOGRADOURO, DESCRICAO_TIPO_LOGRADOURO) VALUES ({ID_TIPO_LOGRADOURO}, '{DESCRICAO_TIPO_LOGRADOURO}')\"\n",
    "#         f.write(sql + '\\n')"
   ],
   "metadata": {
    "collapsed": false,
    "pycharm": {
     "name": "#%%\n"
    }
   }
  },
  {
   "cell_type": "code",
   "execution_count": 181,
   "outputs": [],
   "source": [
    "# Read ceps.txt file as utf-8\n",
    "# keep only the first 3 columns\n",
    "# break second column on '/'\n",
    "# keep one in one hundred\n",
    "keep_one_in = 100\n",
    "with open('INSERTS_FACULDADE_DOMINIOS/CEPS.txt', 'w', encoding='utf-8') as f:\n",
    "    with open('ceps.txt', 'r', encoding='utf-8') as ceps:\n",
    "        for i,line in enumerate(ceps):\n",
    "            if i % keep_one_in == 0:\n",
    "                line = line.split('\\t')\n",
    "                # line = line[0:3]\n",
    "                cep = line[0].strip()\n",
    "                city_state = line[1].split('/')\n",
    "                cidade = city_state[0].strip()\n",
    "                estado = city_state[1].strip()[0:2]\n",
    "                bairro = line[2].strip()\n",
    "                if bairro == '':\n",
    "                    bairro = 'Sem Bairro'\n",
    "                logradouro = line[3].strip()\n",
    "                if logradouro == '':\n",
    "                    logradouro = 'Sem Logradouro'\n",
    "                line = cep +';'+ cidade +';'+ estado +';'+ bairro\n",
    "                line = line +';'+ logradouro\n",
    "                # line = line +';'+ str(random.choice(ID_TIPO_LOGRADOURO_LIST)) +';'+ logradouro\n",
    "                f.write(line + '\\n')\n"
   ],
   "metadata": {
    "collapsed": false,
    "pycharm": {
     "name": "#%%\n"
    }
   }
  },
  {
   "cell_type": "code",
   "execution_count": 182,
   "outputs": [],
   "source": [
    "# Read 'INSERTS_FACULDADE_DOMINIOS/CEPS.txt' file as utf-8\n",
    "# Create a list with all unique ESTADO, CIDADE, BAIRRO, LOGRADOURO\n",
    "with open('INSERTS_FACULDADE_DOMINIOS/CEPS.txt', 'r', encoding='utf-8') as f:\n",
    "    cidade_list = []\n",
    "    bairro_list = []\n",
    "    estado_list = []\n",
    "    logradouro_list = []\n",
    "    for i,line in enumerate(f):\n",
    "        line = line.split(';')\n",
    "        cidade_list.append(line[1].strip())\n",
    "        estado_list.append(line[2].strip())\n",
    "        bairro_list.append(line[3].strip())\n",
    "        logradouro_list.append(line[4].strip())\n",
    "cidade_list = list(set(cidade_list))\n",
    "bairro_list = list(set(bairro_list))\n",
    "estado_list = list(set(estado_list))\n",
    "logradouro_list = list(set(logradouro_list))\n",
    "cidade_list.sort()\n",
    "bairro_list.sort()\n",
    "estado_list.sort()\n",
    "logradouro_list.sort()\n",
    "\n",
    "# CREATE TXT FILE WITH ALL INSERTS COMMANDS FOR ESTADO\n",
    "with open('INSERTS_FACULDADE_DOMINIOS/ESTADO.txt', 'w', encoding='utf-8') as f:\n",
    "    for i in range(len(estado_list)):\n",
    "        DESCRICAO_ESTADO = estado_list[i]\n",
    "        sql = f\"INSERT INTO ESTADO (ID_ESTADO, DESCRICAO_ESTADO) VALUES ({i+1}, '{DESCRICAO_ESTADO}')\"\n",
    "        f.write(sql + '\\n')\n",
    "\n",
    "# CREATE TXT FILE WITH ALL INSERTS COMMANDS FOR CIDADE\n",
    "with open('INSERTS_FACULDADE_DOMINIOS/CIDADE.txt', 'w', encoding='utf-8') as f:\n",
    "    for i in range(len(cidade_list)):\n",
    "        DESCRICAO_CIDADE = cidade_list[i]\n",
    "        sql = f\"INSERT INTO CIDADE (ID_CIDADE, DESCRICAO_CIDADE) VALUES ({i+1}, '{DESCRICAO_CIDADE}')\"\n",
    "        f.write(sql + '\\n')\n",
    "\n",
    "# CREATE TXT FILE WITH ALL INSERTS COMMANDS FOR BAIRRO\n",
    "with open('INSERTS_FACULDADE_DOMINIOS/BAIRRO.txt', 'w', encoding='utf-8') as f:\n",
    "    for i in range(len(bairro_list)):\n",
    "        DESCRICAO_BAIRRO = bairro_list[i]\n",
    "        sql = f\"INSERT INTO BAIRRO (ID_BAIRRO, DESCRICAO_BAIRRO) VALUES ({i+1}, '{DESCRICAO_BAIRRO}')\"\n",
    "        f.write(sql + '\\n')\n",
    "\n",
    "# CREATE TXT FILE WITH ALL INSERTS COMMANDS FOR LOGRADOURO\n",
    "with open('INSERTS_FACULDADE_DOMINIOS/LOGRADOURO.txt', 'w', encoding='utf-8') as f:\n",
    "    for i in range(len(logradouro_list)):\n",
    "        DESCRICAO_LOGRADOURO = logradouro_list[i]\n",
    "        sql = f\"INSERT INTO LOGRADOURO (ID_LOGRADOURO, DESCRICAO_LOGRADOURO) VALUES ({i+1}, '{DESCRICAO_LOGRADOURO}')\"\n",
    "        f.write(sql + '\\n')\n",
    "\n",
    "# Read 'INSERTS_FACULDADE_DOMINIOS/CEPS.txt' file as utf-8\n",
    "with open('INSERTS_FACULDADE_DOMINIOS/CEPS.txt', 'r', encoding='utf-8') as f:\n",
    "    with open('INSERTS_FACULDADE_DOMINIOS/CEP.txt', 'w', encoding='utf-8') as f_cep:\n",
    "        for line in f:\n",
    "            line = line.split(';')\n",
    "            cep = line[0].strip()\n",
    "            cidade = line[1].strip()\n",
    "            estado = line[2].strip()\n",
    "            bairro = line[3].strip()\n",
    "            logradouro = line[4].strip()\n",
    "            ID_CIDADE = cidade_list.index(cidade) + 1\n",
    "            ID_BAIRRO = bairro_list.index(bairro) + 1\n",
    "            ID_ESTADO = estado_list.index(estado) + 1\n",
    "            ID_LOGRADOURO = logradouro_list.index(logradouro) + 1\n",
    "            sql = f\"INSERT INTO CEP (CEP, ID_CIDADE, ID_BAIRRO, ID_ESTADO, ID_LOGRADOURO) VALUES ({cep}, {ID_CIDADE}, {ID_BAIRRO}, {ID_ESTADO}, {ID_LOGRADOURO})\"\n",
    "            f_cep.write(sql + '\\n')\n"
   ],
   "metadata": {
    "collapsed": false,
    "pycharm": {
     "name": "#%%\n"
    }
   }
  },
  {
   "cell_type": "code",
   "execution_count": 190,
   "outputs": [],
   "source": [
    "# Unite all INSERTS COMMANDS TXT FILES\n",
    "with open('INSERTS_FACULDADE_DOMINIOS/INSERTS_FACULDADE_DOMINIOS.txt', 'w', encoding='utf-8') as f:\n",
    "    INSERTS = ['SETOR', 'STATUS_ALUNO', 'STATUS_FUNCIONARIO', 'TITULACAO',\n",
    "               'TIPO_AVALIACAO', 'TURNO',\n",
    "               'DEPARTAMENTO', 'CURSO_GRADUACAO', 'DISCIPLINA',\n",
    "               'ESTADO', 'CIDADE', 'BAIRRO', 'LOGRADOURO', 'CEP']\n",
    "    for i in INSERTS:\n",
    "        with open(f'INSERTS_FACULDADE_DOMINIOS/{i}.txt', 'r', encoding='utf-8') as f_i:\n",
    "            for line in f_i:\n",
    "                f.write(line)"
   ],
   "metadata": {
    "collapsed": false,
    "pycharm": {
     "name": "#%%\n"
    }
   }
  }
 ],
 "metadata": {
  "kernelspec": {
   "display_name": "Python 3",
   "language": "python",
   "name": "python3"
  },
  "language_info": {
   "codemirror_mode": {
    "name": "ipython",
    "version": 2
   },
   "file_extension": ".py",
   "mimetype": "text/x-python",
   "name": "python",
   "nbconvert_exporter": "python",
   "pygments_lexer": "ipython2",
   "version": "2.7.6"
  }
 },
 "nbformat": 4,
 "nbformat_minor": 0
}