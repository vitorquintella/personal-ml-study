{
 "cells": [
  {
   "cell_type": "code",
   "execution_count": 38,
   "outputs": [],
   "source": [
    "CONST_MAX = 500\n",
    "MATERIA_MAX = 288\n",
    "TURNO_MAX = 4\n",
    "SEMESTRE_MAX = 2\n",
    "ANO_MIN = 2000\n",
    "ANO_MAX = 2021\n",
    "CEP_MAX = 733\n",
    "GRADUACOES_MAX=4*6"
   ],
   "metadata": {
    "collapsed": false,
    "pycharm": {
     "name": "#%%\n"
    }
   }
  },
  {
   "cell_type": "markdown",
   "source": [
    "# DOMINIOS"
   ],
   "metadata": {
    "collapsed": false
   }
  },
  {
   "cell_type": "code",
   "execution_count": 19,
   "metadata": {
    "collapsed": true
   },
   "outputs": [],
   "source": [
    "# CREATE TXT FILE WITH ALL INSERTS COMMANDS FOR STATUS_ALUNO\n",
    "with open(\"INSERTS_FACULDADE_DOMINIOS/STATUS_ALUNO.sql\", \"w\", encoding=\"utf-8\") as f:\n",
    "    # CREATE INSERT INTO STATUS_ALUNO\n",
    "    ID_STATUS_LIST = [1,2,3,4]\n",
    "    DESCRICAO_STATUS_LIST = [\"Cursando\", \"Trancado\", \"Formado\", \"Jubilado\"]\n",
    "    for i in range(len(ID_STATUS_LIST)):\n",
    "        ID_STATUS = ID_STATUS_LIST[i]\n",
    "        DESCRICAO_STATUS = DESCRICAO_STATUS_LIST[i]\n",
    "        sql = f'INSERT INTO STATUS_ALUNO (ID_STATUS, DESCRICAO_STATUS) VALUES ({ID_STATUS}, \"{DESCRICAO_STATUS}\")'\n",
    "        f.write(sql + \";\" + \"\\n\")"
   ]
  },
  {
   "cell_type": "code",
   "execution_count": 20,
   "outputs": [],
   "source": [
    "# CREATE TXT FILE WITH ALL INSERTS COMMANDS FOR STATUS_FUNCIONARIO\n",
    "with open(\"INSERTS_FACULDADE_DOMINIOS/STATUS_FUNCIONARIO.sql\", \"w\", encoding=\"utf-8\") as f:\n",
    "    ID_STATUS_LIST = [1,2,3,4]\n",
    "    DESCRICAO_STATUS_LIST = [\"Ativo\", \"Desligado\", \"Férias\", \"Afastado\"]\n",
    "    for i in range(len(ID_STATUS_LIST)):\n",
    "        ID_STATUS = ID_STATUS_LIST[i]\n",
    "        DESCRICAO_STATUS = DESCRICAO_STATUS_LIST[i]\n",
    "        sql = f'INSERT INTO STATUS_FUNCIONARIO (ID_STATUS, DESCRICAO_STATUS) VALUES ({ID_STATUS}, \"{DESCRICAO_STATUS}\")'\n",
    "        f.write(sql + \";\" + \"\\n\")"
   ],
   "metadata": {
    "collapsed": false,
    "pycharm": {
     "name": "#%%\n"
    }
   }
  },
  {
   "cell_type": "code",
   "execution_count": 21,
   "outputs": [],
   "source": [
    "# CREATE TXT FILE WITH ALL INSERTS COMMANDS FOR TITULACAO\n",
    "with open(\"INSERTS_FACULDADE_DOMINIOS/TITULACAO.sql\", \"w\", encoding=\"utf-8\") as f:\n",
    "    ID_TITULACAO_LIST = [1, 2, 3, 4]\n",
    "    DESCRICAO_TITULACAO_LIST = [\"Graduado\", \"Especialista\", \"Mestre\", \"Doutor\"]\n",
    "    for i in range(len(ID_TITULACAO_LIST)):\n",
    "        ID_TITULACAO = ID_TITULACAO_LIST[i]\n",
    "        DESCRICAO_TITULACAO = DESCRICAO_TITULACAO_LIST[i]\n",
    "        sql = f'INSERT INTO TITULACAO (ID_TITULACAO, DESCRICAO_TITULACAO) VALUES ({ID_TITULACAO}, \"{DESCRICAO_TITULACAO}\")'\n",
    "        f.write(sql + \";\" + \"\\n\")"
   ],
   "metadata": {
    "collapsed": false,
    "pycharm": {
     "name": "#%%\n"
    }
   }
  },
  {
   "cell_type": "code",
   "execution_count": 22,
   "outputs": [],
   "source": [
    "# CREATE TXT FILE WITH ALL INSERTS COMMANDS FOR SETOR\n",
    "with open(\"INSERTS_FACULDADE_DOMINIOS/SETOR.sql\", \"w\", encoding=\"utf-8\") as f:\n",
    "    ID_SETOR_LIST = [1, 2, 3, 4]\n",
    "    DESCRICAO_SETOR_LIST = [\"Secretariado\", \"Coordenação\", \"Biblioteca\", \"Facilities\"]\n",
    "    for i in range(len(ID_SETOR_LIST)):\n",
    "        ID_SETOR = ID_SETOR_LIST[i]\n",
    "        DESCRICAO_SETOR = DESCRICAO_SETOR_LIST[i]\n",
    "        sql = f'INSERT INTO SETOR (ID_SETOR, DESCRICAO_SETOR) VALUES ({ID_SETOR}, \"{DESCRICAO_SETOR}\")'\n",
    "        f.write(sql + \";\" + \"\\n\")"
   ],
   "metadata": {
    "collapsed": false,
    "pycharm": {
     "name": "#%%\n"
    }
   }
  },
  {
   "cell_type": "code",
   "execution_count": 23,
   "outputs": [],
   "source": [
    "# CREATE TXT FILE WITH ALL INSERTS COMMANDS FOR TURNO\n",
    "with open(\"INSERTS_FACULDADE_DOMINIOS/TURNO.sql\", \"w\", encoding=\"utf-8\") as f:\n",
    "    ID_TURNO_LIST = [1, 2, 3, 4]\n",
    "    DESCRICAO_TURNO_LIST = [\"Matutino\", \"Vespertino\", \"Noturno\", \"Integral\"]\n",
    "    for i in range(len(ID_TURNO_LIST)):\n",
    "        ID_TURNO = ID_TURNO_LIST[i]\n",
    "        DESCRICAO_TURNO = DESCRICAO_TURNO_LIST[i]\n",
    "        sql = f'INSERT INTO TURNO (ID_TURNO, DESCRICAO_TURNO) VALUES ({ID_TURNO}, \"{DESCRICAO_TURNO}\")'\n",
    "        f.write(sql + \";\" + \"\\n\")"
   ],
   "metadata": {
    "collapsed": false,
    "pycharm": {
     "name": "#%%\n"
    }
   }
  },
  {
   "cell_type": "code",
   "execution_count": 24,
   "outputs": [],
   "source": [
    "# CREATE TXT FILE WITH ALL INSERTS COMMANDS FOR TIPO_AVALIACAO\n",
    "with open(\"INSERTS_FACULDADE_DOMINIOS/TIPO_AVALIACAO.sql\", \"w\", encoding=\"utf-8\") as f:\n",
    "    ID_TIPO_AVALIACAO_LIST = [1, 2, 3, 4, 5]\n",
    "    DESCRICAO_TIPO_AVALIACAO_LIST = [\"Prova 1\", \"Prova 2\", \"Prova 3\", \"Prova de Recuperação\", \"Prova de Final\"]\n",
    "    for i in range(len(ID_TIPO_AVALIACAO_LIST)):\n",
    "        ID_TIPO_AVALIACAO = ID_TIPO_AVALIACAO_LIST[i]\n",
    "        DESCRICAO_TIPO_AVALIACAO = DESCRICAO_TIPO_AVALIACAO_LIST[i]\n",
    "        sql = f'INSERT INTO TIPO_AVALIACAO (ID_TIPO_AVALIACAO, DESCRICAO_TIPO_AVALIACAO) VALUES ({ID_TIPO_AVALIACAO}, \"{DESCRICAO_TIPO_AVALIACAO}\")'\n",
    "        f.write(sql + \";\" + \"\\n\")"
   ],
   "metadata": {
    "collapsed": false,
    "pycharm": {
     "name": "#%%\n"
    }
   }
  },
  {
   "cell_type": "markdown",
   "source": [
    "# GERADORES DE MASSA DE DADOS"
   ],
   "metadata": {
    "collapsed": false
   }
  },
  {
   "cell_type": "markdown",
   "source": [
    "## GERADOR MATERIAS"
   ],
   "metadata": {
    "collapsed": false
   }
  },
  {
   "cell_type": "code",
   "execution_count": 25,
   "outputs": [],
   "source": [
    "# CREATE TXT FILE WITH ALL INSERTS COMMANDS FOR DEPARTAMENTO\n",
    "with open(\"INSERTS_FACULDADE_DOMINIOS/DEPARTAMENTO.sql\", \"w\", encoding=\"utf-8\") as f:\n",
    "    ID_DEPARTAMENTO_LIST = [1, 2, 3, 4, 5, 6]\n",
    "    DESCRICAO_DEPARTAMENTO_LIST = [\"DADOS\", \"EXATAS\", \"BIOLOGICAS\", \"HUMANAS E SOCIAIS\", \"ARTES\", \"LINGUAS\"]\n",
    "    for i in range(len(ID_DEPARTAMENTO_LIST)):\n",
    "        ID_DEPARTAMENTO = ID_DEPARTAMENTO_LIST[i]\n",
    "        DESCRICAO_DEPARTAMENTO = DESCRICAO_DEPARTAMENTO_LIST[i]\n",
    "        sql = f'INSERT INTO DEPARTAMENTO (ID_DEPARTAMENTO, DESCRICAO_DEPARTAMENTO) VALUES ({ID_DEPARTAMENTO}, \"{DESCRICAO_DEPARTAMENTO}\")'\n",
    "        f.write(sql + \";\" + \"\\n\")\n",
    "\n",
    "# CREATE TXT FILE WITH ALL INSERTS COMMANDS FOR CURSO.\n",
    "# CURSO IS ASSOCIATED WITH DEPARTAMENTO\n",
    "DESCRICAO_CURSO_GRADUACAO_LIST = [\"Engenharia de Dados\", \"Ciência de Dados\", \"Análise de Dados\", \"Engenharias de Machine Learning\",\n",
    "                                \"Estatística\", \"Matemática\", \"Física\", \"Química\",\n",
    "                                \"Biologia\", \"Medicina\", \"Enfermagem\", \"Fisioterapia\",\n",
    "                                \"Filosofia\", \"Administração\", \"Sociologia\", \"Pedagogia\",\n",
    "                                \"Artes Cênicas\", \"Música\", \"Turismo\", \"Artes Visuais\",\n",
    "                                \"Português\", \"Linguas Estrangeiras\", \"Linguas Clássicas\", \"Filologia\"]\n",
    "\n",
    "ID_CURSO_GRADUACAO = 0\n",
    "with open(\"INSERTS_FACULDADE_DOMINIOS/CURSO_GRADUACAO.sql\", \"w\", encoding=\"utf-8\") as f:\n",
    "    for i in range(len(ID_DEPARTAMENTO_LIST)):\n",
    "        for j in range(4):\n",
    "            ID_DEPARTAMENTO = ID_DEPARTAMENTO_LIST[i]\n",
    "            DESCRICAO_CURSO_GRADUACAO = DESCRICAO_CURSO_GRADUACAO_LIST[ID_CURSO_GRADUACAO]\n",
    "            ID_CURSO_GRADUACAO += 1\n",
    "            sql = f'INSERT INTO CURSO_GRADUACAO (ID_CURSO_GRADUACAO, ID_DEPARTAMENTO, DESCRICAO_CURSO_GRADUACAO) VALUES ({ID_CURSO_GRADUACAO}, {ID_DEPARTAMENTO}, \"{DESCRICAO_CURSO_GRADUACAO}\")'\n",
    "            f.write(sql + \";\" + \"\\n\")\n",
    "\n",
    "# CREATE TXT FILE WITH ALL INSERTS COMMANDS FOR DISCIPLINA.\n",
    "# CURSO IS ASSOCIATED WITH CURSO\n",
    "import random\n",
    "n_disciplinas = 12\n",
    "CARGA_HORARIA_DISCIPLINA_RND_LIST = [30, 60, 90, 120]\n",
    "PRETEXTUAL_DISCIPLINA_RND_LIST = [\"Introdução a\", \"Tópicos em\", \"Conceitos de\", \"Projeto de\"]\n",
    "POSTEXTUAL_DISCIPLINA_RND_LIST = [\"Prática\", \"Teórica\", \"Avançada\", \"Básica\"]\n",
    "\n",
    "ID_DISCIPLINA = 0\n",
    "with open(\"INSERTS_FACULDADE_DOMINIOS/DISCIPLINA.sql\", \"w\", encoding=\"utf-8\") as f:\n",
    "    for i in range(len(DESCRICAO_CURSO_GRADUACAO_LIST)):\n",
    "        ID_CURSO_GRADUACAO = i + 1\n",
    "        dict_disciplinas = {}\n",
    "        for j in range(n_disciplinas):\n",
    "            ID_DISCIPLINA += 1\n",
    "            CARGA_HORARIA_DISCIPLINA = random.choice(CARGA_HORARIA_DISCIPLINA_RND_LIST)\n",
    "            PRETEXTUAL_DISCIPLINA = random.choice(PRETEXTUAL_DISCIPLINA_RND_LIST)\n",
    "            POSTEXTUAL_DISCIPLINA = random.choice(POSTEXTUAL_DISCIPLINA_RND_LIST)\n",
    "            DESCRICAO_DISCIPLINA = f\"{PRETEXTUAL_DISCIPLINA} {DESCRICAO_CURSO_GRADUACAO_LIST[i]} {POSTEXTUAL_DISCIPLINA}\"\n",
    "            if DESCRICAO_DISCIPLINA not in dict_disciplinas:\n",
    "                dict_disciplinas[DESCRICAO_DISCIPLINA] = 1\n",
    "            else:\n",
    "                aparicoes = dict_disciplinas[DESCRICAO_DISCIPLINA]\n",
    "                aparicoes += 1\n",
    "                DESCRICAO_DISCIPLINA = DESCRICAO_DISCIPLINA + \" \" + str(aparicoes)\n",
    "                dict_disciplinas[DESCRICAO_DISCIPLINA] = aparicoes\n",
    "            sql = f'INSERT INTO DISCIPLINA (ID_DISCIPLINA, DESCRICAO_DISCIPLINA, CARGA_HORARIA_DISCIPLINA, ID_CURSO_GRADUACAO) VALUES ({ID_DISCIPLINA}, \"{DESCRICAO_DISCIPLINA}\", {CARGA_HORARIA_DISCIPLINA},  {ID_CURSO_GRADUACAO})'\n",
    "            f.write(sql + \";\"+ \"\\n\")"
   ],
   "metadata": {
    "collapsed": false,
    "pycharm": {
     "name": "#%%\n"
    }
   }
  },
  {
   "cell_type": "markdown",
   "source": [
    "## GERADOR DE ENDERECOS"
   ],
   "metadata": {
    "collapsed": false
   }
  },
  {
   "cell_type": "code",
   "execution_count": 26,
   "outputs": [],
   "source": [
    "# Read ceps.sql file as utf-8\n",
    "# keep only the first 3 columns\n",
    "# break second column on \"/\"\n",
    "# keep one in one hundred\n",
    "keep_one_in = 1000\n",
    "with open(\"INSERTS_FACULDADE_DOMINIOS/CEPS.txt\", \"w\", encoding=\"utf-8\") as f:\n",
    "    with open(\"ceps.txt\", \"r\", encoding=\"utf-8\") as ceps:\n",
    "        for i,line in enumerate(ceps):\n",
    "            if i % keep_one_in == 0:\n",
    "                line = line.split(\"\\t\")\n",
    "                # line = line[0:3]\n",
    "                cep = line[0].strip()[0:5] + '-' + line[0].strip()[0:3]\n",
    "                city_state = line[1].split(\"/\")\n",
    "                cidade = city_state[0].strip()[:40]\n",
    "                estado = city_state[1].strip()[0:2][:40]\n",
    "                bairro = line[2].strip()[:40]\n",
    "                if bairro == \"\":\n",
    "                    bairro = \"Sem Bairro\"\n",
    "                logradouro = line[3].strip()[:40]\n",
    "                if logradouro == \"\":\n",
    "                    logradouro = \"Sem Logradouro\"\n",
    "                line = cep +\";\"+ cidade +\";\"+ estado +\";\"+ bairro\n",
    "                line = line +\";\"+ logradouro\n",
    "                # line = line +\";\"+ str(random.choice(ID_TIPO_LOGRADOURO_LIST)) +\";\"+ logradouro\n",
    "                f.write(line + \"\\n\")\n"
   ],
   "metadata": {
    "collapsed": false,
    "pycharm": {
     "name": "#%%\n"
    }
   }
  },
  {
   "cell_type": "code",
   "execution_count": 27,
   "outputs": [],
   "source": [
    "# Read \"INSERTS_FACULDADE_DOMINIOS/CEPS.txt\" file as utf-8\n",
    "# Create a list with all unique ESTADO, CIDADE, BAIRRO, LOGRADOURO\n",
    "with open(\"INSERTS_FACULDADE_DOMINIOS/CEPS.txt\", \"r\", encoding=\"utf-8\") as f:\n",
    "    cidade_list = []\n",
    "    bairro_list = []\n",
    "    estado_list = []\n",
    "    logradouro_list = []\n",
    "    for i,line in enumerate(f):\n",
    "        line = line.split(\";\")\n",
    "        cidade_list.append(line[1].strip())\n",
    "        estado_list.append(line[2].strip())\n",
    "        bairro_list.append(line[3].strip())\n",
    "        logradouro_list.append(line[4].strip())\n",
    "cidade_list = list(set(cidade_list))\n",
    "bairro_list = list(set(bairro_list))\n",
    "estado_list = list(set(estado_list))\n",
    "logradouro_list = list(set(logradouro_list))\n",
    "cidade_list.sort()\n",
    "bairro_list.sort()\n",
    "estado_list.sort()\n",
    "logradouro_list.sort()\n",
    "\n",
    "# CREATE TXT FILE WITH ALL INSERTS COMMANDS FOR ESTADO\n",
    "with open(\"INSERTS_FACULDADE_DOMINIOS/ESTADO.sql\", \"w\", encoding=\"utf-8\") as f:\n",
    "    for i in range(len(estado_list)):\n",
    "        DESCRICAO_ESTADO = estado_list[i]\n",
    "        sql = f'INSERT INTO ESTADO (ID_ESTADO, DESCRICAO_ESTADO) VALUES ({i+1}, \"{DESCRICAO_ESTADO}\")'\n",
    "        f.write(sql + \";\"+ \"\\n\")\n",
    "\n",
    "# CREATE TXT FILE WITH ALL INSERTS COMMANDS FOR CIDADE\n",
    "with open(\"INSERTS_FACULDADE_DOMINIOS/CIDADE.sql\", \"w\", encoding=\"utf-8\") as f:\n",
    "    for i in range(len(cidade_list)):\n",
    "        DESCRICAO_CIDADE = cidade_list[i]\n",
    "        sql = f'INSERT INTO CIDADE (ID_CIDADE, DESCRICAO_CIDADE) VALUES ({i+1}, \"{DESCRICAO_CIDADE}\")'\n",
    "        f.write(sql + \";\"+ \"\\n\")\n",
    "\n",
    "# CREATE TXT FILE WITH ALL INSERTS COMMANDS FOR BAIRRO\n",
    "with open(\"INSERTS_FACULDADE_DOMINIOS/BAIRRO.sql\", \"w\", encoding=\"utf-8\") as f:\n",
    "    for i in range(len(bairro_list)):\n",
    "        DESCRICAO_BAIRRO = bairro_list[i]\n",
    "        sql = f'INSERT INTO BAIRRO (ID_BAIRRO, DESCRICAO_BAIRRO) VALUES ({i+1}, \"{DESCRICAO_BAIRRO}\")'\n",
    "        f.write(sql + \";\"+ \"\\n\")\n",
    "\n",
    "# CREATE TXT FILE WITH ALL INSERTS COMMANDS FOR LOGRADOURO\n",
    "with open(\"INSERTS_FACULDADE_DOMINIOS/LOGRADOURO.sql\", \"w\", encoding=\"utf-8\") as f:\n",
    "    for i in range(len(logradouro_list)):\n",
    "        DESCRICAO_LOGRADOURO = logradouro_list[i]\n",
    "        sql = f'INSERT INTO LOGRADOURO (ID_LOGRADOURO, DESCRICAO_LOGRADOURO) VALUES ({i+1}, \"{DESCRICAO_LOGRADOURO}\")'\n",
    "        f.write(sql + \";\"+ \"\\n\")\n",
    "\n",
    "cep_list = []\n",
    "# Read \"INSERTS_FACULDADE_DOMINIOS/CEPS.txt\" file as utf-8\n",
    "with open(\"INSERTS_FACULDADE_DOMINIOS/CEPS.txt\", \"r\", encoding=\"utf-8\") as f:\n",
    "    with open(\"INSERTS_FACULDADE_DOMINIOS/CEP.sql\", \"w\", encoding=\"utf-8\") as f_cep:\n",
    "        for line in f:\n",
    "            line = line.split(\";\")\n",
    "            cep = line[0].strip()\n",
    "            cep_list.append(cep)\n",
    "            cidade = line[1].strip()\n",
    "            estado = line[2].strip()\n",
    "            bairro = line[3].strip()\n",
    "            logradouro = line[4].strip()\n",
    "            ID_CIDADE = cidade_list.index(cidade) + 1\n",
    "            ID_BAIRRO = bairro_list.index(bairro) + 1\n",
    "            ID_ESTADO = estado_list.index(estado) + 1\n",
    "            ID_LOGRADOURO = logradouro_list.index(logradouro) + 1\n",
    "            sql = f'INSERT INTO CEP (CEP, ID_CIDADE, ID_BAIRRO, ID_ESTADO, ID_LOGRADOURO) VALUES ({cep}, {ID_CIDADE}, {ID_BAIRRO}, {ID_ESTADO}, {ID_LOGRADOURO})'\n",
    "            f_cep.write(sql + \";\"+ \"\\n\")\n"
   ],
   "metadata": {
    "collapsed": false,
    "pycharm": {
     "name": "#%%\n"
    }
   }
  },
  {
   "cell_type": "code",
   "execution_count": 28,
   "outputs": [],
   "source": [
    "# cep_list = []\n",
    "# with open('INSERTS_FACULDADE_DOMINIOS/CEPS.txt', 'r', encoding=\"utf-8\") as f:\n",
    "#     for line in f:\n",
    "#         line = line.split(\";\")\n",
    "#         cep = line[0].strip()\n",
    "#         cep_list.append(cep)\n"
   ],
   "metadata": {
    "collapsed": false,
    "pycharm": {
     "name": "#%%\n"
    }
   }
  },
  {
   "cell_type": "code",
   "execution_count": 29,
   "outputs": [],
   "source": [
    "# CREATE TXT FILE WITH ALL INSERTS COMMANDS FOR ENDERECO\n",
    "def get_random_cep():\n",
    "    return random.choice(cep_list)\n",
    "\n",
    "n_enderecos = 1500\n",
    "with open(\"INSERTS_FACULDADE_DOMINIOS/ENDERECO.sql\", \"w\", encoding=\"utf-8\") as f:\n",
    "    for i in range(n_enderecos):\n",
    "        ID_ENDERECO = i+1\n",
    "        NUMERO_ENDERECO = random.randint(1, 300)\n",
    "        COMPLEMENTO_ENDERECO = f'Apartamento {random.randint(1, 3000)}'\n",
    "        CEP = get_random_cep()\n",
    "        sql = f'INSERT INTO ENDERECO (ID_ENDERECO, NUMERO_ENDERECO, COMPLEMENTO_ENDERECO, CEP) VALUES ({ID_ENDERECO}, {NUMERO_ENDERECO}, \"{COMPLEMENTO_ENDERECO}\", {CEP})'\n",
    "        f.write(sql + \";\"+ \"\\n\")"
   ],
   "metadata": {
    "collapsed": false,
    "pycharm": {
     "name": "#%%\n"
    }
   }
  },
  {
   "cell_type": "markdown",
   "source": [
    "## GERADOR DE PESSOAS"
   ],
   "metadata": {
    "collapsed": false
   }
  },
  {
   "cell_type": "code",
   "execution_count": 30,
   "outputs": [],
   "source": [
    "import random\n",
    "\n",
    "def random_date(inicio, fim):\n",
    "    year = random.randint(inicio, fim)\n",
    "    month = random.randint(1, 12)\n",
    "    day = random.randint(1, 28)\n",
    "    return f\"{year:02d}-{month:02d}-{day:02d}\""
   ],
   "metadata": {
    "collapsed": false,
    "pycharm": {
     "name": "#%%\n"
    }
   }
  },
  {
   "cell_type": "code",
   "execution_count": 31,
   "outputs": [],
   "source": [
    "# CREATE TXT FILE WITH ALL INSERTS COMMANDS FOR PESSOA\n",
    "n_pessoas = 1500\n",
    "\n",
    "def create_email(nome_completo):\n",
    "    nome_completo = nome_completo.split(\" \")\n",
    "    email = nome_completo[0] + \".\" + nome_completo[1] + \"@contratados.com\"\n",
    "    return email\n",
    "\n",
    "with open(\"INSERTS_FACULDADE_DOMINIOS/nomes.txt\", \"r\", encoding=\"utf-8\") as f:\n",
    "    nome_list = []\n",
    "    for line in f:\n",
    "        nome_list.append(line.strip())\n",
    "\n",
    "with open(\"INSERTS_FACULDADE_DOMINIOS/sobrenomes.txt\", \"r\", encoding=\"utf-8\") as f:\n",
    "    sobrenome_list = []\n",
    "    for line in f:\n",
    "        sobrenome_list.append(line.strip())\n",
    "\n",
    "cpsf_list = random.sample(range(1, 89999999999), n_pessoas)\n",
    "cpsf_list = [cpf+10000000000 for cpf in cpsf_list]\n",
    "\n",
    "with open(\"INSERTS_FACULDADE_DOMINIOS/PESSOA.sql\", \"w\", encoding=\"utf-8\") as f:\n",
    "    for i in range(n_enderecos):\n",
    "        CPF = cpsf_list[i]\n",
    "        NOME_COMPLETO = f'{random.choice(nome_list)} {random.choice(sobrenome_list)} {random.choice(sobrenome_list)}'\n",
    "        DATA_NASCIMENTO = random_date(1960, 2000)\n",
    "        EMAIL = create_email(NOME_COMPLETO)\n",
    "        ID_ENDERECO = i+1\n",
    "        # Sem telefone por enquanto\n",
    "        sql = f'INSERT INTO PESSOA (CPF, NOME_COMPLETO, DATA_NASCIMENTO, EMAIL, ID_ENDERECO) VALUES ({CPF}, \"{NOME_COMPLETO}\", \"{DATA_NASCIMENTO}\", \"{EMAIL}\", {ID_ENDERECO})'\n",
    "        f.write(sql + \";\"+ \"\\n\")"
   ],
   "metadata": {
    "collapsed": false,
    "pycharm": {
     "name": "#%%\n"
    }
   }
  },
  {
   "cell_type": "code",
   "execution_count": 32,
   "outputs": [],
   "source": [
    "# CREATE TXT FILE WITH ALL INSERTS COMMANDS FOR ALUNO\n",
    "# each aluno is poped from a list of pessoas\n",
    "# INSERT INTO ALUNO (MATRICULA_ALUNO, NOME_MAE, NOME_PAI, ANO_ENTRADA, SEMESTRE_ENTRADA, QTD_PERIODO_CURSADO, ID_STATUS, CPF, ID_CURSO_GRADUACAO) VALUES (NULL, NULL, NULL, NULL, NULL, NULL, NULL, NULL, NULL);\n",
    "n_alunos = 500\n",
    "\n",
    "ANO_MIN = 2000\n",
    "ANO_MAX = 2021\n",
    "\n",
    "with open(\"INSERTS_FACULDADE_DOMINIOS/ALUNO.sql\", \"w\", encoding=\"utf-8\") as f:\n",
    "        for i in range(n_alunos):\n",
    "            NOME_MAE = f'{random.choice(nome_list)} {random.choice(sobrenome_list)} {random.choice(sobrenome_list)}'\n",
    "            NOME_PAI = f'{random.choice(nome_list)} {random.choice(sobrenome_list)} {random.choice(sobrenome_list)}'\n",
    "            ANO_ENTRADA = random.randint(ANO_MIN, ANO_MAX)\n",
    "            SEMESTRE_ENTRADA = random.randint(1, 2)\n",
    "            QTD_PERIODO_CURSADO = random.randint(1, 10)\n",
    "            ID_STATUS = random.randint(1, 4)\n",
    "            CPF = cpsf_list.pop()\n",
    "            sql = f'INSERT INTO ALUNO (NOME_MAE, NOME_PAI, ANO_ENTRADA, SEMESTRE_ENTRADA, QTD_PERIODO_CURSADO, ID_STATUS, CPF, ID_CURSO_GRADUACAO) VALUES ({NOME_MAE}, {NOME_PAI}, {ANO_ENTRADA}, {SEMESTRE_ENTRADA}, {QTD_PERIODO_CURSADO}, {ID_STATUS}, {CPF}, (SELECT COUNT(*) FROM CURSO_GRADUACAO ORDER BY RAND() LIMIT 1))';\n",
    "            f.write(sql + \";\"+ \"\\n\")\n",
    "\n",
    "# CREATE TXT FILE WITH ALL INSERTS COMMANDS FOR FUNCIONARIO\n",
    "# each funcionario is poped from a list of pessoas\n",
    "# INSERT INTO FUNCIONARIO (MATRICULA_FUNCIONARIO, DATA_ADMISSAO, DATA_DEMISSAO, ID_STATUS, ID_DEPARTAMENTO, CPF) VALUES (NULL, NULL, NULL, NULL, NULL, NULL);\n",
    "n_funcionarios = len(cpsf_list)\n",
    "\n",
    "with open(\"INSERTS_FACULDADE_DOMINIOS/FUNCIONARIO.sql\", \"w\", encoding=\"utf-8\") as f:\n",
    "        for i in range(n_funcionarios):\n",
    "            MATRICULA_FUNCIONARIO = i+1\n",
    "            DATA_ADMISSAO = random_date(ANO_MIN, ANO_MAX)\n",
    "            ID_STATUS = random.randint(1, 4)\n",
    "            CPF = cpsf_list.pop()\n",
    "            sql = f'INSERT INTO FUNCIONARIO (MATRICULA_FUNCIONARIO, DATA_ADMISSAO, ID_STATUS, ID_DEPARTAMENTO, CPF) VALUES ({MATRICULA_FUNCIONARIO}, \"{DATA_ADMISSAO}\", {ID_STATUS}, (SELECT COUNT(*) FROM DEPARTAMENTO ORDER BY RAND() LIMIT 1), {CPF})';\n",
    "            f.write(sql + \";\"+ \"\\n\")\n",
    "id_funcionario_list = list(range(1, n_funcionarios+1))\n",
    "\n",
    "# CREATE TXT FILE WITH ALL INSERTS COMMANDS FOR PROFESSOR\n",
    "# each professor is poped from id_funcionario_list\n",
    "# INSERT INTO PROFESSOR (MATRICULA_PROFESSOR, MATRICULA_FUNCIONARIO, ID_TITULACAO) VALUES (NULL, NULL, NULL);\n",
    "n_professores = int(n_funcionarios/2)\n",
    "with open(\"INSERTS_FACULDADE_DOMINIOS/PROFESSOR.sql\", \"w\", encoding=\"utf-8\") as f:\n",
    "        for i in range(n_professores):\n",
    "            MATRICULA_FUNCIONARIO = id_funcionario_list.pop()\n",
    "            ID_TITULACAO = random.randint(1, 4)\n",
    "            sql = f'INSERT INTO PROFESSOR (MATRICULA_FUNCIONARIO, ID_TITULACAO) VALUES ({MATRICULA_FUNCIONARIO}, {ID_TITULACAO})';\n",
    "            f.write(sql + \";\"+ \"\\n\")\n",
    "\n",
    "# CREATE TXT FILE WITH ALL INSERTS COMMANDS FOR ADMINISTATIVO\n",
    "# each professor is poped from id_funcionario_list\n",
    "# INSERT INTO ADMINISTRATIVO (MATRICULA_ADM, MATRICULA_FUNCIONARIO, ID_SETOR) VALUES (NULL, NULL, NULL);\n",
    "with open(\"INSERTS_FACULDADE_DOMINIOS/ADMINISTRATIVO.sql\", \"w\", encoding=\"utf-8\") as f:\n",
    "        for i in id_funcionario_list:\n",
    "            MATRICULA_FUNCIONARIO = i\n",
    "            ID_SETOR = random.randint(1, 4)\n",
    "            sql = f'INSERT INTO ADMINISTRATIVO (MATRICULA_FUNCIONARIO, ID_SETOR) VALUES ({MATRICULA_FUNCIONARIO}, {ID_SETOR})';\n",
    "            f.write(sql + \";\"+ \"\\n\")"
   ],
   "metadata": {
    "collapsed": false,
    "pycharm": {
     "name": "#%%\n"
    }
   }
  },
  {
   "cell_type": "markdown",
   "source": [
    "## Gerador de aulas"
   ],
   "metadata": {
    "collapsed": false
   }
  },
  {
   "cell_type": "code",
   "execution_count": 39,
   "outputs": [],
   "source": [
    "# CREATE TXT FILE WITH ALL INSERTS COMMANDS FOR TURMA AND AULA\n",
    "# 7 e 8 Juntos\n",
    "\n",
    "def gerar_turma_aula():\n",
    "    id_turma = 1\n",
    "    output = []\n",
    "    for _ in range(CONST_MAX):\n",
    "        id_materia = random.randint(1, MATERIA_MAX)\n",
    "        matricula_prof = random.randint(1, CONST_MAX)\n",
    "        ano_turma_aula = random.randint(ANO_MIN, ANO_MAX)\n",
    "        semestre_turma = random.randint(1, SEMESTRE_MAX)\n",
    "        if (semestre_turma == 1):\n",
    "            mes_aula = random.randint(1, 6)\n",
    "        else:\n",
    "            mes_aula = random.randint(7, 12)\n",
    "        dia_aula= random.randint(1, 28)\n",
    "        turno = 1\n",
    "\n",
    "        output.append(f'INSERT INTO TURMA(ANO_TURMA, SEMESTRE_TURMA, ID_MATERIA, MATRICULA_PROFESSOR) VALUES({ano_turma_aula}, {semestre_turma}, {id_materia}, {matricula_prof});')\n",
    "        for i in range (1,4):\n",
    "            output.append(f'INSERT INTO AULA (DATA_AULA, ID_TURMA, ID_TURNO) VALUES(\"{ano_turma_aula:02d}-{mes_aula:02d}-{dia_aula:02d}\", {id_turma}, {turno});')\n",
    "            turno += 1\n",
    "        id_turma += 1\n",
    "    return output\n",
    "\n",
    "# CRIAR ARQUIVO SQL COM O OUTPUT DA FUNÇÃO ACIMA #7 E #8\n",
    "\n",
    "with open('TURMA_AND_AULA.SQL', 'w', encoding=\"utf-8\") as f:\n",
    "  for i in gerar_turma_aula():\n",
    "    f.write(i + \"\\n\")"
   ],
   "metadata": {
    "collapsed": false,
    "pycharm": {
     "name": "#%%\n"
    }
   }
  },
  {
   "cell_type": "code",
   "execution_count": null,
   "outputs": [],
   "source": [],
   "metadata": {
    "collapsed": false,
    "pycharm": {
     "name": "#%%\n"
    }
   }
  },
  {
   "cell_type": "code",
   "execution_count": null,
   "outputs": [],
   "source": [
    "# CREATE TXT FILE WITH ALL INSERTS COMMANDS FOR ALUNO_AULA\n",
    "\n",
    "#9\n",
    "\n",
    "def aluno_aula():\n",
    "    id_aula = 1\n",
    "    output_aluno_aula = []\n",
    "    for _ in range(CONST_MAX):\n",
    "        presenca = random.randint(0, 1)\n",
    "        for _ in range(20):\n",
    "            output_aluno_aula.append(f'INSERT INTO ALUNO_AULA_XREF(ID_AULA, MATRICULA_ALUNO, PRESENCA) VALUES({id_aula}, (SELECT MATRICULA_ALUNO FROM INSCRICAO INNER JOIN TURMA ON INSCRICAO.ID_TURMA=TURMA.ID_TURMA INNER JOIN AULA ON TURMA.ID_TURMA=AULA.ID_TURMA WHERE AULA.ID_TURMA=INSCRICAO.ID_TURMA), {presenca});')\n",
    "            id_aula += 1\n",
    "    return output_aluno_aula\n",
    "\n",
    "with open('aluno_aula.SQL', 'w', encoding=\"utf-8\") as f:\n",
    "  for i in aluno_aula():\n",
    "    f.write(i + \"\\n\")"
   ],
   "metadata": {
    "collapsed": false,
    "pycharm": {
     "name": "#%%\n"
    }
   }
  },
  {
   "cell_type": "markdown",
   "source": [
    "# Compilação sql"
   ],
   "metadata": {
    "collapsed": false
   }
  },
  {
   "cell_type": "code",
   "execution_count": 33,
   "outputs": [],
   "source": [
    "tabelas_dominios = ['BAIRRO','CEP','CIDADE', 'CURSO_GRADUACAO', 'DEPARTAMENTO', 'DISCIPLINA', 'ESTADO', 'LOGRADOURO', 'SETOR', 'STATUS_ALUNO', 'STATUS_FUNCIONARIO', 'TIPO_AVALIACAO', 'TITULACAO', 'TURNO']"
   ],
   "metadata": {
    "collapsed": false,
    "pycharm": {
     "name": "#%%\n"
    }
   }
  },
  {
   "cell_type": "code",
   "execution_count": 34,
   "outputs": [],
   "source": [
    "tabelas_pessoas = ['ADMINISTRATIVO', 'ALUNO', 'ENDERECO', 'FUNCIONARIO', 'PESSOA', 'PROFESSOR']"
   ],
   "metadata": {
    "collapsed": false,
    "pycharm": {
     "name": "#%%\n"
    }
   }
  },
  {
   "cell_type": "code",
   "execution_count": 36,
   "outputs": [],
   "source": [
    "# merge all .sql files in a single .sql file\n",
    "with open(\"INSERTS_FACULDADE_DOMINIOS/INSERTS_FACULDADE_PESSOAS.sql\", \"w\", encoding=\"utf-8\") as f:\n",
    "    for tabela in tabelas_pessoas:\n",
    "        with open(f\"INSERTS_FACULDADE_DOMINIOS/{tabela}.sql\", \"r\", encoding=\"utf-8\") as g:\n",
    "            f.write(g.read())\n",
    "\n",
    "  # merge all .sql files in a single .sql file\n",
    "with open(\"INSERTS_FACULDADE_DOMINIOS/INSERTS_FACULDADE_DOMINIOS.sql\", \"w\", encoding=\"utf-8\") as f:\n",
    "    for tabela in tabelas_dominios:\n",
    "        with open(f\"INSERTS_FACULDADE_DOMINIOS/{tabela}.sql\", \"r\", encoding=\"utf-8\") as g:\n",
    "            f.write(g.read())\n",
    "\n"
   ],
   "metadata": {
    "collapsed": false,
    "pycharm": {
     "name": "#%%\n"
    }
   }
  },
  {
   "cell_type": "code",
   "execution_count": null,
   "outputs": [],
   "source": [],
   "metadata": {
    "collapsed": false,
    "pycharm": {
     "name": "#%%\n"
    }
   }
  },
  {
   "cell_type": "code",
   "execution_count": null,
   "outputs": [],
   "source": [],
   "metadata": {
    "collapsed": false,
    "pycharm": {
     "name": "#%%\n"
    }
   }
  }
 ],
 "metadata": {
  "kernelspec": {
   "display_name": "Python 3",
   "language": "python",
   "name": "python3"
  },
  "language_info": {
   "codemirror_mode": {
    "name": "ipython",
    "version": 2
   },
   "file_extension": ".py",
   "mimetype": "text/x-python",
   "name": "python",
   "nbconvert_exporter": "python",
   "pygments_lexer": "ipython2",
   "version": "2.7.6"
  }
 },
 "nbformat": 4,
 "nbformat_minor": 0
}