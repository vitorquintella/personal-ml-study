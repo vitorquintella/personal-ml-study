{
 "cells": [
  {
   "cell_type": "markdown",
   "metadata": {
    "id": "view-in-github",
    "colab_type": "text"
   },
   "source": [
    "<a href=\"https://colab.research.google.com/github/vitorquintella/personal-ml-study/blob/main/Exerc%C3%ADcio_Rede_Neural_Tradicional_fashion_entrega.ipynb\" target=\"_parent\"><img src=\"https://colab.research.google.com/assets/colab-badge.svg\" alt=\"Open In Colab\"/></a>"
   ]
  },
  {
   "cell_type": "markdown",
   "metadata": {
    "id": "uqY1AZtwQIXo"
   },
   "source": [
    "# Resumo\n",
    "* Esta base se mostrou uma base muito mais fácil para o treinamento.\n",
    "* Os modelos iniciais deram bom desempenho.\n",
    "* Modelos sinmplificados mantiveram o desempenho\n",
    "* Fica a pergunta:  com modelos mais elaborados ou com maior dedicação, seria possível superar os 84-88% de acurácia?\n",
    "  * Acredito que sim.\n",
    "* Aparentemente eliminamos o overfitting com o dropout.\n",
    "  * não houve desempenho em teste tão bom quanto em treino"
   ]
  },
  {
   "cell_type": "markdown",
   "metadata": {
    "id": "KOOVTy6_zQ6R"
   },
   "source": [
    "### Prática\n",
    "1. Aquisição e pré-processamento dos dados\n",
    "2. Treinamento\n",
    "* Implementar arquitetura\n",
    "* Definir otimizadores, métricas e regularizadores\n",
    "3. Teste (avaliação de desempenho)"
   ]
  },
  {
   "cell_type": "code",
   "execution_count": 1,
   "metadata": {
    "id": "pO49itIUxr-c"
   },
   "outputs": [
    {
     "ename": "AttributeError",
     "evalue": "module 'google.protobuf.internal.containers' has no attribute 'MutableMapping'",
     "output_type": "error",
     "traceback": [
      "\u001B[1;31m---------------------------------------------------------------------------\u001B[0m",
      "\u001B[1;31mAttributeError\u001B[0m                            Traceback (most recent call last)",
      "\u001B[1;32mC:\\Users\\VITOR~1.QUI\\AppData\\Local\\Temp/ipykernel_3880/1965392206.py\u001B[0m in \u001B[0;36m<module>\u001B[1;34m\u001B[0m\n\u001B[1;32m----> 1\u001B[1;33m \u001B[1;32mfrom\u001B[0m \u001B[0mtensorflow\u001B[0m \u001B[1;32mimport\u001B[0m \u001B[0mkeras\u001B[0m\u001B[1;33m\u001B[0m\u001B[1;33m\u001B[0m\u001B[0m\n\u001B[0m\u001B[0;32m      2\u001B[0m \u001B[1;32mimport\u001B[0m \u001B[0mmatplotlib\u001B[0m\u001B[1;33m.\u001B[0m\u001B[0mpyplot\u001B[0m \u001B[1;32mas\u001B[0m \u001B[0mplt\u001B[0m\u001B[1;33m\u001B[0m\u001B[1;33m\u001B[0m\u001B[0m\n\u001B[0;32m      3\u001B[0m \u001B[1;32mimport\u001B[0m \u001B[0mnumpy\u001B[0m \u001B[1;32mas\u001B[0m \u001B[0mnp\u001B[0m\u001B[1;33m\u001B[0m\u001B[1;33m\u001B[0m\u001B[0m\n\u001B[0;32m      4\u001B[0m \u001B[1;32mimport\u001B[0m \u001B[0mglob\u001B[0m \u001B[1;31m# Uma boa bilioteca de manipulação entre arquivos é \"glob\"\u001B[0m\u001B[1;33m\u001B[0m\u001B[1;33m\u001B[0m\u001B[0m\n\u001B[0;32m      5\u001B[0m \u001B[1;32mfrom\u001B[0m \u001B[0msklearn\u001B[0m\u001B[1;33m.\u001B[0m\u001B[0mmodel_selection\u001B[0m \u001B[1;32mimport\u001B[0m \u001B[0mtrain_test_split\u001B[0m\u001B[1;33m\u001B[0m\u001B[1;33m\u001B[0m\u001B[0m\n",
      "\u001B[1;32m~\\anaconda3\\lib\\site-packages\\tensorflow\\__init__.py\u001B[0m in \u001B[0;36m<module>\u001B[1;34m\u001B[0m\n\u001B[0;32m     39\u001B[0m \u001B[1;32mimport\u001B[0m \u001B[0msys\u001B[0m \u001B[1;32mas\u001B[0m \u001B[0m_sys\u001B[0m\u001B[1;33m\u001B[0m\u001B[1;33m\u001B[0m\u001B[0m\n\u001B[0;32m     40\u001B[0m \u001B[1;33m\u001B[0m\u001B[0m\n\u001B[1;32m---> 41\u001B[1;33m \u001B[1;32mfrom\u001B[0m \u001B[0mtensorflow\u001B[0m\u001B[1;33m.\u001B[0m\u001B[0mpython\u001B[0m\u001B[1;33m.\u001B[0m\u001B[0mtools\u001B[0m \u001B[1;32mimport\u001B[0m \u001B[0mmodule_util\u001B[0m \u001B[1;32mas\u001B[0m \u001B[0m_module_util\u001B[0m\u001B[1;33m\u001B[0m\u001B[1;33m\u001B[0m\u001B[0m\n\u001B[0m\u001B[0;32m     42\u001B[0m \u001B[1;32mfrom\u001B[0m \u001B[0mtensorflow\u001B[0m\u001B[1;33m.\u001B[0m\u001B[0mpython\u001B[0m\u001B[1;33m.\u001B[0m\u001B[0mutil\u001B[0m\u001B[1;33m.\u001B[0m\u001B[0mlazy_loader\u001B[0m \u001B[1;32mimport\u001B[0m \u001B[0mLazyLoader\u001B[0m \u001B[1;32mas\u001B[0m \u001B[0m_LazyLoader\u001B[0m\u001B[1;33m\u001B[0m\u001B[1;33m\u001B[0m\u001B[0m\n\u001B[0;32m     43\u001B[0m \u001B[1;33m\u001B[0m\u001B[0m\n",
      "\u001B[1;32m~\\anaconda3\\lib\\site-packages\\tensorflow\\python\\__init__.py\u001B[0m in \u001B[0;36m<module>\u001B[1;34m\u001B[0m\n\u001B[0;32m     38\u001B[0m \u001B[1;31m# pylint: disable=wildcard-import,g-bad-import-order,g-import-not-at-top\u001B[0m\u001B[1;33m\u001B[0m\u001B[1;33m\u001B[0m\u001B[1;33m\u001B[0m\u001B[0m\n\u001B[0;32m     39\u001B[0m \u001B[1;33m\u001B[0m\u001B[0m\n\u001B[1;32m---> 40\u001B[1;33m \u001B[1;32mfrom\u001B[0m \u001B[0mtensorflow\u001B[0m\u001B[1;33m.\u001B[0m\u001B[0mpython\u001B[0m\u001B[1;33m.\u001B[0m\u001B[0meager\u001B[0m \u001B[1;32mimport\u001B[0m \u001B[0mcontext\u001B[0m\u001B[1;33m\u001B[0m\u001B[1;33m\u001B[0m\u001B[0m\n\u001B[0m\u001B[0;32m     41\u001B[0m \u001B[1;33m\u001B[0m\u001B[0m\n\u001B[0;32m     42\u001B[0m \u001B[1;31m# pylint: enable=wildcard-import\u001B[0m\u001B[1;33m\u001B[0m\u001B[1;33m\u001B[0m\u001B[1;33m\u001B[0m\u001B[0m\n",
      "\u001B[1;32m~\\anaconda3\\lib\\site-packages\\tensorflow\\python\\eager\\context.py\u001B[0m in \u001B[0;36m<module>\u001B[1;34m\u001B[0m\n\u001B[0;32m     30\u001B[0m \u001B[1;32mimport\u001B[0m \u001B[0msix\u001B[0m\u001B[1;33m\u001B[0m\u001B[1;33m\u001B[0m\u001B[0m\n\u001B[0;32m     31\u001B[0m \u001B[1;33m\u001B[0m\u001B[0m\n\u001B[1;32m---> 32\u001B[1;33m \u001B[1;32mfrom\u001B[0m \u001B[0mtensorflow\u001B[0m\u001B[1;33m.\u001B[0m\u001B[0mcore\u001B[0m\u001B[1;33m.\u001B[0m\u001B[0mframework\u001B[0m \u001B[1;32mimport\u001B[0m \u001B[0mfunction_pb2\u001B[0m\u001B[1;33m\u001B[0m\u001B[1;33m\u001B[0m\u001B[0m\n\u001B[0m\u001B[0;32m     33\u001B[0m \u001B[1;32mfrom\u001B[0m \u001B[0mtensorflow\u001B[0m\u001B[1;33m.\u001B[0m\u001B[0mcore\u001B[0m\u001B[1;33m.\u001B[0m\u001B[0mprotobuf\u001B[0m \u001B[1;32mimport\u001B[0m \u001B[0mconfig_pb2\u001B[0m\u001B[1;33m\u001B[0m\u001B[1;33m\u001B[0m\u001B[0m\n\u001B[0;32m     34\u001B[0m \u001B[1;32mfrom\u001B[0m \u001B[0mtensorflow\u001B[0m\u001B[1;33m.\u001B[0m\u001B[0mcore\u001B[0m\u001B[1;33m.\u001B[0m\u001B[0mprotobuf\u001B[0m \u001B[1;32mimport\u001B[0m \u001B[0mrewriter_config_pb2\u001B[0m\u001B[1;33m\u001B[0m\u001B[1;33m\u001B[0m\u001B[0m\n",
      "\u001B[1;32m~\\anaconda3\\lib\\site-packages\\tensorflow\\core\\framework\\function_pb2.py\u001B[0m in \u001B[0;36m<module>\u001B[1;34m\u001B[0m\n\u001B[0;32m      5\u001B[0m \u001B[1;32mimport\u001B[0m \u001B[0msys\u001B[0m\u001B[1;33m\u001B[0m\u001B[1;33m\u001B[0m\u001B[0m\n\u001B[0;32m      6\u001B[0m \u001B[0m_b\u001B[0m\u001B[1;33m=\u001B[0m\u001B[0msys\u001B[0m\u001B[1;33m.\u001B[0m\u001B[0mversion_info\u001B[0m\u001B[1;33m[\u001B[0m\u001B[1;36m0\u001B[0m\u001B[1;33m]\u001B[0m\u001B[1;33m<\u001B[0m\u001B[1;36m3\u001B[0m \u001B[1;32mand\u001B[0m \u001B[1;33m(\u001B[0m\u001B[1;32mlambda\u001B[0m \u001B[0mx\u001B[0m\u001B[1;33m:\u001B[0m\u001B[0mx\u001B[0m\u001B[1;33m)\u001B[0m \u001B[1;32mor\u001B[0m \u001B[1;33m(\u001B[0m\u001B[1;32mlambda\u001B[0m \u001B[0mx\u001B[0m\u001B[1;33m:\u001B[0m\u001B[0mx\u001B[0m\u001B[1;33m.\u001B[0m\u001B[0mencode\u001B[0m\u001B[1;33m(\u001B[0m\u001B[1;34m'latin1'\u001B[0m\u001B[1;33m)\u001B[0m\u001B[1;33m)\u001B[0m\u001B[1;33m\u001B[0m\u001B[1;33m\u001B[0m\u001B[0m\n\u001B[1;32m----> 7\u001B[1;33m \u001B[1;32mfrom\u001B[0m \u001B[0mgoogle\u001B[0m\u001B[1;33m.\u001B[0m\u001B[0mprotobuf\u001B[0m \u001B[1;32mimport\u001B[0m \u001B[0mdescriptor\u001B[0m \u001B[1;32mas\u001B[0m \u001B[0m_descriptor\u001B[0m\u001B[1;33m\u001B[0m\u001B[1;33m\u001B[0m\u001B[0m\n\u001B[0m\u001B[0;32m      8\u001B[0m \u001B[1;32mfrom\u001B[0m \u001B[0mgoogle\u001B[0m\u001B[1;33m.\u001B[0m\u001B[0mprotobuf\u001B[0m \u001B[1;32mimport\u001B[0m \u001B[0mmessage\u001B[0m \u001B[1;32mas\u001B[0m \u001B[0m_message\u001B[0m\u001B[1;33m\u001B[0m\u001B[1;33m\u001B[0m\u001B[0m\n\u001B[0;32m      9\u001B[0m \u001B[1;32mfrom\u001B[0m \u001B[0mgoogle\u001B[0m\u001B[1;33m.\u001B[0m\u001B[0mprotobuf\u001B[0m \u001B[1;32mimport\u001B[0m \u001B[0mreflection\u001B[0m \u001B[1;32mas\u001B[0m \u001B[0m_reflection\u001B[0m\u001B[1;33m\u001B[0m\u001B[1;33m\u001B[0m\u001B[0m\n",
      "\u001B[1;32m~\\anaconda3\\lib\\site-packages\\google\\protobuf\\descriptor.py\u001B[0m in \u001B[0;36m<module>\u001B[1;34m\u001B[0m\n\u001B[0;32m     45\u001B[0m   \u001B[1;32mimport\u001B[0m \u001B[0mbinascii\u001B[0m\u001B[1;33m\u001B[0m\u001B[1;33m\u001B[0m\u001B[0m\n\u001B[0;32m     46\u001B[0m   \u001B[1;32mimport\u001B[0m \u001B[0mos\u001B[0m\u001B[1;33m\u001B[0m\u001B[1;33m\u001B[0m\u001B[0m\n\u001B[1;32m---> 47\u001B[1;33m   \u001B[1;32mfrom\u001B[0m \u001B[0mgoogle\u001B[0m\u001B[1;33m.\u001B[0m\u001B[0mprotobuf\u001B[0m\u001B[1;33m.\u001B[0m\u001B[0mpyext\u001B[0m \u001B[1;32mimport\u001B[0m \u001B[0m_message\u001B[0m\u001B[1;33m\u001B[0m\u001B[1;33m\u001B[0m\u001B[0m\n\u001B[0m\u001B[0;32m     48\u001B[0m   \u001B[0m_USE_C_DESCRIPTORS\u001B[0m \u001B[1;33m=\u001B[0m \u001B[1;32mTrue\u001B[0m\u001B[1;33m\u001B[0m\u001B[1;33m\u001B[0m\u001B[0m\n\u001B[0;32m     49\u001B[0m \u001B[1;33m\u001B[0m\u001B[0m\n",
      "\u001B[1;31mAttributeError\u001B[0m: module 'google.protobuf.internal.containers' has no attribute 'MutableMapping'"
     ]
    }
   ],
   "source": [
    "from tensorflow import keras\n",
    "import matplotlib.pyplot as plt\n",
    "import numpy as np\n",
    "import glob # Uma boa bilioteca de manipulação entre arquivos é \"glob\"\n",
    "from sklearn.model_selection import train_test_split\n",
    "import cv2 # Ubiblioteca para manipulação de imagens\n",
    "import tensorflow\n",
    "import matplotlib.pyplot as plot\n",
    "from random import randint\n",
    "from sklearn.preprocessing import OneHotEncoder\n",
    "\n",
    "from tensorflow.python.keras.layers import Input, Dense, Activation, Dropout, Flatten\n",
    "from tensorflow.python.keras.models import Sequential\n",
    "from tensorflow.python.keras.callbacks import EarlyStopping\n",
    "from tensorflow.keras import datasets\n",
    "from tensorflow.keras.metrics import AUC"
   ]
  },
  {
   "cell_type": "code",
   "source": [
    "def random_plot(X,y):\n",
    "# Vizualizando algumas imagens aleatórias\n",
    "  f,ax = plot.subplots(5,5) \n",
    "  f.subplots_adjust(0,0,3,3)\n",
    "  for i in range(0,5,1):\n",
    "      for j in range(0,5,1):\n",
    "          rnd_number = randint(0,len(X))\n",
    "          ax[i,j].imshow(X[rnd_number], cmap ='gray')\n",
    "          ax[i,j].set_title(y[rnd_number])\n",
    "          ax[i,j].axis('off')"
   ],
   "metadata": {
    "id": "cMjreuCCU1nD"
   },
   "execution_count": 2,
   "outputs": []
  },
  {
   "cell_type": "code",
   "source": [
    "(X, y), (X_test, y_test) = datasets.fashion_mnist.load_data()"
   ],
   "metadata": {
    "id": "ZYybSlwBTe9L",
    "colab": {
     "base_uri": "https://localhost:8080/"
    },
    "outputId": "7a797555-c6fa-4682-d9e4-feb6ff0160d9"
   },
   "execution_count": 3,
   "outputs": [
    {
     "ename": "NameError",
     "evalue": "name 'datasets' is not defined",
     "output_type": "error",
     "traceback": [
      "\u001B[1;31m---------------------------------------------------------------------------\u001B[0m",
      "\u001B[1;31mNameError\u001B[0m                                 Traceback (most recent call last)",
      "\u001B[1;32mC:\\Users\\VITOR~1.QUI\\AppData\\Local\\Temp/ipykernel_3880/2285263893.py\u001B[0m in \u001B[0;36m<module>\u001B[1;34m\u001B[0m\n\u001B[1;32m----> 1\u001B[1;33m \u001B[1;33m(\u001B[0m\u001B[0mX\u001B[0m\u001B[1;33m,\u001B[0m \u001B[0my\u001B[0m\u001B[1;33m)\u001B[0m\u001B[1;33m,\u001B[0m \u001B[1;33m(\u001B[0m\u001B[0mX_test\u001B[0m\u001B[1;33m,\u001B[0m \u001B[0my_test\u001B[0m\u001B[1;33m)\u001B[0m \u001B[1;33m=\u001B[0m \u001B[0mdatasets\u001B[0m\u001B[1;33m.\u001B[0m\u001B[0mfashion_mnist\u001B[0m\u001B[1;33m.\u001B[0m\u001B[0mload_data\u001B[0m\u001B[1;33m(\u001B[0m\u001B[1;33m)\u001B[0m\u001B[1;33m\u001B[0m\u001B[1;33m\u001B[0m\u001B[0m\n\u001B[0m",
      "\u001B[1;31mNameError\u001B[0m: name 'datasets' is not defined"
     ]
    }
   ]
  },
  {
   "cell_type": "code",
   "source": [
    "X_train, X_val, y_train, y_val = train_test_split(\n",
    "     X, y, stratify=y, test_size=0.33, random_state=42)"
   ],
   "metadata": {
    "id": "I7r1UcXRWNWS"
   },
   "execution_count": null,
   "outputs": []
  },
  {
   "cell_type": "code",
   "source": [
    "X_train.shape"
   ],
   "metadata": {
    "colab": {
     "base_uri": "https://localhost:8080/"
    },
    "id": "QEVXT--Sd8cD",
    "outputId": "9951f6e3-3b03-4ee9-dc14-dfbd9ef3441d"
   },
   "execution_count": null,
   "outputs": [
    {
     "output_type": "execute_result",
     "data": {
      "text/plain": [
       "(40200, 28, 28)"
      ]
     },
     "metadata": {},
     "execution_count": 5
    }
   ]
  },
  {
   "cell_type": "code",
   "source": [
    "def translate_ylabels(y):\n",
    "  classes_labels = {0:\t'T-shirt/top',\n",
    "                    1:\t'Trouser',\n",
    "                    2:\t'Pullover',\n",
    "                    3:\t'Dress',\n",
    "                    4:\t'Coat',\n",
    "                    5:\t'Sandal',\n",
    "                    6:\t'Shirt',\n",
    "                    7:\t'Sneaker',\n",
    "                    8:\t'Bag',\n",
    "                    9:\t'Ankle_boot'}\n",
    "  return np.array([classes_labels[i] for i in y])\n",
    "\n",
    "          \n",
    "\n",
    "y = translate_ylabels(y)\n",
    "y_train = translate_ylabels(y_train)\n",
    "y_val = translate_ylabels(y_val)\n",
    "y_test = translate_ylabels(y_test)"
   ],
   "metadata": {
    "id": "DCSam4sqYfJ5"
   },
   "execution_count": null,
   "outputs": []
  },
  {
   "cell_type": "code",
   "source": [
    "random_plot(X_train,y_train)"
   ],
   "metadata": {
    "colab": {
     "base_uri": "https://localhost:8080/",
     "height": 911
    },
    "id": "OsPCQJqWTsgx",
    "outputId": "6d968f2d-cb8c-48b9-d151-6f4194ed213d"
   },
   "execution_count": null,
   "outputs": [
    {
     "output_type": "display_data",
     "data": {
      "text/plain": [
       "<Figure size 432x288 with 25 Axes>"
      ],
      "image/png": "[encoded data removed]"
     },
     "metadata": {
      "needs_background": "light"
     }
    }
   ]
  },
  {
   "cell_type": "markdown",
   "metadata": {
    "id": "73HiTLKCOSg1"
   },
   "source": [
    "### Pré-processamento"
   ]
  },
  {
   "cell_type": "code",
   "source": [
    "# Ajustando o y\n",
    "hot = OneHotEncoder()\n",
    "y_train = hot.fit_transform(y_train.reshape(-1, 1)).toarray()\n",
    "y_val = hot.transform(y_val.reshape(-1, 1)).toarray()\n",
    "y_test = hot.transform(y_test.reshape(-1, 1)).toarray()\n",
    "\n",
    "\n",
    "# Ajustando o X entre 0 e 1\n",
    "m = np.max(X_train)\n",
    "X_train = X_train/m\n",
    "X_val = X_val/m\n",
    "X_teste = X_test/m"
   ],
   "metadata": {
    "id": "wxX0YFaoa_jl"
   },
   "execution_count": null,
   "outputs": []
  },
  {
   "cell_type": "markdown",
   "metadata": {
    "id": "yPnOGT-kQhmr"
   },
   "source": [
    "#### 4. Treinamento - definição de arquitetura"
   ]
  },
  {
   "cell_type": "code",
   "source": [
    "from sklearn.metrics import confusion_matrix\n",
    "from sklearn.metrics import accuracy_score\n",
    "\n",
    "# Visualizando resultados\n",
    "def plot_overfitting(historico, metric):\n",
    "  loss = historico.history[metric]\n",
    "  val_loss = historico.history['val_'+metric]\n",
    "  epochs = range(len(loss))\n",
    "  plt.figure()\n",
    "  plt.plot(epochs, loss, 'bo', label = 'Training loss')\n",
    "  plt.plot(epochs, val_loss, 'b', label = 'Validation loss')\n",
    "  plt.title('Training and validation loss')\n",
    "  plt.legend()\n",
    "  plt.show()\n",
    "\n"
   ],
   "metadata": {
    "id": "RZ-UKbCHkoWM"
   },
   "execution_count": null,
   "outputs": []
  },
  {
   "cell_type": "markdown",
   "source": [
    "##### 6.1 - Rede inicial"
   ],
   "metadata": {
    "id": "882HaEPXkUEb"
   }
  },
  {
   "cell_type": "markdown",
   "source": [
    "###### modelo, fitting, predict"
   ],
   "metadata": {
    "id": "HIC3Eonro-LW"
   }
  },
  {
   "cell_type": "markdown",
   "source": [
    ""
   ],
   "metadata": {
    "id": "Wgoj3agPhYy0"
   }
  },
  {
   "cell_type": "code",
   "execution_count": null,
   "metadata": {
    "id": "f1x4jMQuP0Fs",
    "colab": {
     "base_uri": "https://localhost:8080/"
    },
    "outputId": "e965c26c-b7a2-4128-9ac0-0ae2b239790d"
   },
   "outputs": [
    {
     "output_type": "stream",
     "name": "stdout",
     "text": [
      "Epoch 1/15\n",
      "629/629 [==============================] - 6s 4ms/step - loss: 0.6223 - accuracy: 0.7818 - auc: 0.9406 - val_loss: 0.4290 - val_accuracy: 0.8502 - val_auc: 0.9790\n",
      "Epoch 2/15\n",
      "629/629 [==============================] - 2s 3ms/step - loss: 0.4191 - accuracy: 0.8489 - auc: 0.9823 - val_loss: 0.3759 - val_accuracy: 0.8676 - val_auc: 0.9843\n",
      "Epoch 3/15\n",
      "629/629 [==============================] - 2s 4ms/step - loss: 0.3766 - accuracy: 0.8644 - auc: 0.9856 - val_loss: 0.3928 - val_accuracy: 0.8593 - val_auc: 0.9863\n",
      "Epoch 4/15\n",
      "629/629 [==============================] - 2s 3ms/step - loss: 0.3505 - accuracy: 0.8722 - auc: 0.9869 - val_loss: 0.3513 - val_accuracy: 0.8737 - val_auc: 0.9875\n",
      "Epoch 5/15\n",
      "629/629 [==============================] - 2s 3ms/step - loss: 0.3350 - accuracy: 0.8777 - auc: 0.9880 - val_loss: 0.3427 - val_accuracy: 0.8783 - val_auc: 0.9883\n",
      "Epoch 6/15\n",
      "629/629 [==============================] - 2s 3ms/step - loss: 0.3190 - accuracy: 0.8828 - auc: 0.9887 - val_loss: 0.3501 - val_accuracy: 0.8739 - val_auc: 0.9890\n",
      "Epoch 7/15\n",
      "629/629 [==============================] - 2s 4ms/step - loss: 0.3023 - accuracy: 0.8885 - auc: 0.9893 - val_loss: 0.3594 - val_accuracy: 0.8702 - val_auc: 0.9895\n",
      "Epoch 8/15\n",
      "629/629 [==============================] - 2s 3ms/step - loss: 0.2943 - accuracy: 0.8893 - auc: 0.9897 - val_loss: 0.3259 - val_accuracy: 0.8820 - val_auc: 0.9899\n",
      "Epoch 9/15\n",
      "629/629 [==============================] - 2s 4ms/step - loss: 0.2834 - accuracy: 0.8946 - auc: 0.9901 - val_loss: 0.3319 - val_accuracy: 0.8851 - val_auc: 0.9902\n",
      "Epoch 10/15\n",
      "629/629 [==============================] - 2s 4ms/step - loss: 0.2808 - accuracy: 0.8974 - auc: 0.9904 - val_loss: 0.3390 - val_accuracy: 0.8759 - val_auc: 0.9905\n",
      "Epoch 11/15\n",
      "629/629 [==============================] - 2s 3ms/step - loss: 0.2694 - accuracy: 0.8988 - auc: 0.9907 - val_loss: 0.3230 - val_accuracy: 0.8844 - val_auc: 0.9908\n",
      "Epoch 12/15\n",
      "629/629 [==============================] - 2s 3ms/step - loss: 0.2638 - accuracy: 0.9016 - auc: 0.9909 - val_loss: 0.3254 - val_accuracy: 0.8822 - val_auc: 0.9910\n",
      "Epoch 13/15\n",
      "629/629 [==============================] - 2s 3ms/step - loss: 0.2530 - accuracy: 0.9065 - auc: 0.9911 - val_loss: 0.3208 - val_accuracy: 0.8897 - val_auc: 0.9912\n",
      "Epoch 14/15\n",
      "629/629 [==============================] - 2s 4ms/step - loss: 0.2505 - accuracy: 0.9052 - auc: 0.9913 - val_loss: 0.3231 - val_accuracy: 0.8874 - val_auc: 0.9914\n",
      "Epoch 15/15\n",
      "629/629 [==============================] - 3s 4ms/step - loss: 0.2441 - accuracy: 0.9080 - auc: 0.9915 - val_loss: 0.3370 - val_accuracy: 0.8860 - val_auc: 0.9916\n"
     ]
    }
   ],
   "source": [
    "n_classes = 10\n",
    "\n",
    "# Criando um modelo sequencial\n",
    "rede_simples = Sequential()\n",
    "rede_simples.add(Flatten()) \n",
    "n_pixels =  X_train.shape[1]*X_train.shape[2]\n",
    "rede_simples.add(Dense(52,  input_dim = n_pixels))\n",
    "rede_simples.add(Activation('relu'))\n",
    "rede_simples.add(Dense(52))\n",
    "rede_simples.add(Activation('relu'))\n",
    "rede_simples.add(Dense(52))\n",
    "rede_simples.add(Activation('relu'))\n",
    "rede_simples.add(Dense(n_classes))\n",
    "rede_simples.add(Activation('softmax'))\n",
    "\n",
    "# Categorical_crossentropy é uma perda adaptada para categoricas\n",
    "# Podemos utilizar métricas para visualizar informações mais comums em ML\n",
    "rede_simples.compile(loss = 'categorical_crossentropy',\n",
    "                     optimizer = 'Adam', \n",
    "                     metrics=['accuracy',AUC(from_logits=True)])\n",
    "# Treinamento\n",
    "historico = rede_simples.fit(X_train, \n",
    "                             y_train, \n",
    "                             epochs = 15,\n",
    "                             batch_size=64,\n",
    "                             verbose = 1,\n",
    "                             validation_data = (X_val, y_val))"
   ]
  },
  {
   "cell_type": "code",
   "source": [
    "# plot_overfitting(historico,'loss')\n",
    "# plot_overfitting(historico,'auc')\n",
    "plot_overfitting(historico,'accuracy')"
   ],
   "metadata": {
    "colab": {
     "base_uri": "https://localhost:8080/",
     "height": 281
    },
    "id": "2Kv2lEFnpg11",
    "outputId": "bee32c45-adde-4d0f-a48d-9312d0a22a67"
   },
   "execution_count": null,
   "outputs": [
    {
     "output_type": "display_data",
     "data": {
      "text/plain": [
       "<Figure size 432x288 with 1 Axes>"
      ],
      "image/png": "[encoded data removed]"
     },
     "metadata": {
      "needs_background": "light"
     }
    }
   ]
  },
  {
   "cell_type": "markdown",
   "source": [
    "###### Resultados"
   ],
   "metadata": {
    "id": "9IKnnzLLpL3W"
   }
  },
  {
   "cell_type": "code",
   "source": [
    "metric_treino = historico.history['accuracy'][-1]\n",
    "metric_val = historico.history['val_accuracy'][-1]\n",
    "\n",
    "print(f'accuracy treino:    {metric_treino:.4f}')\n",
    "print(f'accuracy validação: {metric_val:.4f}')\n"
   ],
   "metadata": {
    "colab": {
     "base_uri": "https://localhost:8080/"
    },
    "id": "4hPxZdcvpJ7F",
    "outputId": "18e5f1fa-1f80-4971-d7c4-6aab9da24470"
   },
   "execution_count": null,
   "outputs": [
    {
     "output_type": "stream",
     "name": "stdout",
     "text": [
      "accuracy treino:    0.9080\n",
      "accuracy validação: 0.8860\n"
     ]
    }
   ]
  },
  {
   "cell_type": "markdown",
   "source": [
    "##### 6.2 - Rede reduzida"
   ],
   "metadata": {
    "id": "GxUZz8eLsED_"
   }
  },
  {
   "cell_type": "markdown",
   "source": [
    "###### modelo, fitting, predict"
   ],
   "metadata": {
    "id": "5gTPhEEYsEEA"
   }
  },
  {
   "cell_type": "code",
   "execution_count": null,
   "metadata": {
    "colab": {
     "base_uri": "https://localhost:8080/"
    },
    "id": "Vpdu-AcpsEEA",
    "outputId": "39b35fa8-47d2-4bb2-8018-799fa45a730a"
   },
   "outputs": [
    {
     "output_type": "stream",
     "name": "stdout",
     "text": [
      "Epoch 1/15\n",
      "629/629 [==============================] - 3s 4ms/step - loss: 0.6067 - accuracy: 0.7878 - auc_1: 0.9540 - val_loss: 0.4387 - val_accuracy: 0.8495 - val_auc_1: 0.9801\n",
      "Epoch 2/15\n",
      "629/629 [==============================] - 2s 4ms/step - loss: 0.4261 - accuracy: 0.8480 - auc_1: 0.9829 - val_loss: 0.3961 - val_accuracy: 0.8605 - val_auc_1: 0.9844\n",
      "Epoch 3/15\n",
      "629/629 [==============================] - 2s 3ms/step - loss: 0.3841 - accuracy: 0.8610 - auc_1: 0.9854 - val_loss: 0.3684 - val_accuracy: 0.8706 - val_auc_1: 0.9863\n",
      "Epoch 4/15\n",
      "629/629 [==============================] - 2s 3ms/step - loss: 0.3568 - accuracy: 0.8699 - auc_1: 0.9870 - val_loss: 0.3632 - val_accuracy: 0.8704 - val_auc_1: 0.9875\n",
      "Epoch 5/15\n",
      "629/629 [==============================] - 2s 3ms/step - loss: 0.3401 - accuracy: 0.8743 - auc_1: 0.9879 - val_loss: 0.3489 - val_accuracy: 0.8726 - val_auc_1: 0.9883\n",
      "Epoch 6/15\n",
      "629/629 [==============================] - 2s 3ms/step - loss: 0.3224 - accuracy: 0.8813 - auc_1: 0.9886 - val_loss: 0.3555 - val_accuracy: 0.8748 - val_auc_1: 0.9889\n",
      "Epoch 7/15\n",
      "629/629 [==============================] - 2s 4ms/step - loss: 0.3095 - accuracy: 0.8854 - auc_1: 0.9892 - val_loss: 0.3431 - val_accuracy: 0.8775 - val_auc_1: 0.9894\n",
      "Epoch 8/15\n",
      "629/629 [==============================] - 2s 3ms/step - loss: 0.2987 - accuracy: 0.8895 - auc_1: 0.9897 - val_loss: 0.3277 - val_accuracy: 0.8813 - val_auc_1: 0.9899\n",
      "Epoch 9/15\n",
      "629/629 [==============================] - 2s 3ms/step - loss: 0.2910 - accuracy: 0.8924 - auc_1: 0.9900 - val_loss: 0.3372 - val_accuracy: 0.8785 - val_auc_1: 0.9902\n",
      "Epoch 10/15\n",
      "629/629 [==============================] - 2s 3ms/step - loss: 0.2818 - accuracy: 0.8951 - auc_1: 0.9903 - val_loss: 0.3327 - val_accuracy: 0.8817 - val_auc_1: 0.9905\n",
      "Epoch 11/15\n",
      "629/629 [==============================] - 2s 3ms/step - loss: 0.2728 - accuracy: 0.8985 - auc_1: 0.9906 - val_loss: 0.3345 - val_accuracy: 0.8808 - val_auc_1: 0.9907\n",
      "Epoch 12/15\n",
      "629/629 [==============================] - 2s 3ms/step - loss: 0.2647 - accuracy: 0.9026 - auc_1: 0.9909 - val_loss: 0.3271 - val_accuracy: 0.8848 - val_auc_1: 0.9910\n",
      "Epoch 13/15\n",
      "629/629 [==============================] - 2s 3ms/step - loss: 0.2569 - accuracy: 0.9040 - auc_1: 0.9911 - val_loss: 0.3242 - val_accuracy: 0.8862 - val_auc_1: 0.9912\n",
      "Epoch 14/15\n",
      "629/629 [==============================] - 2s 3ms/step - loss: 0.2517 - accuracy: 0.9064 - auc_1: 0.9913 - val_loss: 0.3259 - val_accuracy: 0.8851 - val_auc_1: 0.9914\n",
      "Epoch 15/15\n",
      "629/629 [==============================] - 2s 3ms/step - loss: 0.2458 - accuracy: 0.9096 - auc_1: 0.9914 - val_loss: 0.3227 - val_accuracy: 0.8855 - val_auc_1: 0.9915\n"
     ]
    }
   ],
   "source": [
    "n_classes = 10\n",
    "\n",
    "# Criando um modelo sequencial\n",
    "rede_simples = Sequential()\n",
    "rede_simples.add(Flatten()) \n",
    "n_pixels =  X_train.shape[1]*X_train.shape[2]\n",
    "rede_simples.add(Dense(52,  input_dim = n_pixels))\n",
    "rede_simples.add(Activation('relu'))\n",
    "rede_simples.add(Dense(52))\n",
    "rede_simples.add(Activation('relu'))\n",
    "rede_simples.add(Dense(n_classes))\n",
    "rede_simples.add(Activation('softmax'))\n",
    "\n",
    "# Categorical_crossentropy é uma perda adaptada para categoricas\n",
    "# Podemos utilizar métricas para visualizar informações mais comums em ML\n",
    "rede_simples.compile(loss = 'categorical_crossentropy',\n",
    "                     optimizer = 'Adam', \n",
    "                     metrics=['accuracy',AUC(from_logits=True)])\n",
    "# Treinamento\n",
    "historico = rede_simples.fit(X_train, \n",
    "                             y_train, \n",
    "                             epochs = 15,\n",
    "                             batch_size=64,\n",
    "                             verbose = 1,\n",
    "                             validation_data = (X_val, y_val))"
   ]
  },
  {
   "cell_type": "code",
   "source": [
    "# plot_overfitting(historico,'loss')\n",
    "# plot_overfitting(historico,'auc')\n",
    "plot_overfitting(historico,'accuracy')"
   ],
   "metadata": {
    "colab": {
     "base_uri": "https://localhost:8080/",
     "height": 281
    },
    "outputId": "e177c27c-5c78-4546-cbf5-36cbc76707b5",
    "id": "BMOA3uHssEEB"
   },
   "execution_count": null,
   "outputs": [
    {
     "output_type": "display_data",
     "data": {
      "text/plain": [
       "<Figure size 432x288 with 1 Axes>"
      ],
      "image/png": "[encoded data removed]"
     },
     "metadata": {
      "needs_background": "light"
     }
    }
   ]
  },
  {
   "cell_type": "markdown",
   "source": [
    "###### Resultados"
   ],
   "metadata": {
    "id": "rEJy_puNsEEB"
   }
  },
  {
   "cell_type": "code",
   "source": [
    "metric_treino = historico.history['accuracy'][-1]\n",
    "metric_val = historico.history['val_accuracy'][-1]\n",
    "\n",
    "print(f'accuracy treino:    {metric_treino:.4f}')\n",
    "print(f'accuracy validação: {metric_val:.4f}')\n"
   ],
   "metadata": {
    "colab": {
     "base_uri": "https://localhost:8080/"
    },
    "outputId": "1984abdb-fedb-454e-e9b2-72f657017dde",
    "id": "uA7zLR8YsEEC"
   },
   "execution_count": null,
   "outputs": [
    {
     "output_type": "stream",
     "name": "stdout",
     "text": [
      "accuracy treino:    0.9096\n",
      "accuracy validação: 0.8855\n"
     ]
    }
   ]
  },
  {
   "cell_type": "code",
   "source": [
    ""
   ],
   "metadata": {
    "id": "0XuD7rQcsEEC"
   },
   "execution_count": null,
   "outputs": []
  },
  {
   "cell_type": "markdown",
   "source": [
    "##### 6.2 - Rede mais reduzida\n"
   ],
   "metadata": {
    "id": "3JT7z6Oi8TPd"
   }
  },
  {
   "cell_type": "markdown",
   "source": [
    "###### modelo, fitting, predict"
   ],
   "metadata": {
    "id": "2SGrl49L8TPl"
   }
  },
  {
   "cell_type": "code",
   "execution_count": null,
   "metadata": {
    "colab": {
     "base_uri": "https://localhost:8080/"
    },
    "outputId": "ae3f1e65-1d65-4e0b-9a29-ec69fa67f9db",
    "id": "njqMyYWA8TPl"
   },
   "outputs": [
    {
     "output_type": "stream",
     "name": "stdout",
     "text": [
      "Epoch 1/15\n",
      "629/629 [==============================] - 3s 4ms/step - loss: 0.6727 - accuracy: 0.7667 - auc_2: 0.9434 - val_loss: 0.4812 - val_accuracy: 0.8332 - val_auc_2: 0.9764\n",
      "Epoch 2/15\n",
      "629/629 [==============================] - 2s 3ms/step - loss: 0.4609 - accuracy: 0.8388 - auc_2: 0.9798 - val_loss: 0.4232 - val_accuracy: 0.8529 - val_auc_2: 0.9820\n",
      "Epoch 3/15\n",
      "629/629 [==============================] - 2s 3ms/step - loss: 0.4187 - accuracy: 0.8503 - auc_2: 0.9833 - val_loss: 0.4273 - val_accuracy: 0.8471 - val_auc_2: 0.9841\n",
      "Epoch 4/15\n",
      "629/629 [==============================] - 2s 3ms/step - loss: 0.3956 - accuracy: 0.8583 - auc_2: 0.9848 - val_loss: 0.3754 - val_accuracy: 0.8705 - val_auc_2: 0.9854\n",
      "Epoch 5/15\n",
      "629/629 [==============================] - 2s 3ms/step - loss: 0.3762 - accuracy: 0.8655 - auc_2: 0.9859 - val_loss: 0.3846 - val_accuracy: 0.8625 - val_auc_2: 0.9864\n",
      "Epoch 6/15\n",
      "629/629 [==============================] - 2s 3ms/step - loss: 0.3640 - accuracy: 0.8689 - auc_2: 0.9867 - val_loss: 0.3630 - val_accuracy: 0.8706 - val_auc_2: 0.9870\n",
      "Epoch 7/15\n",
      "629/629 [==============================] - 2s 3ms/step - loss: 0.3517 - accuracy: 0.8741 - auc_2: 0.9873 - val_loss: 0.3801 - val_accuracy: 0.8661 - val_auc_2: 0.9875\n",
      "Epoch 8/15\n",
      "629/629 [==============================] - 2s 3ms/step - loss: 0.3413 - accuracy: 0.8768 - auc_2: 0.9878 - val_loss: 0.3571 - val_accuracy: 0.8742 - val_auc_2: 0.9880\n",
      "Epoch 9/15\n",
      "629/629 [==============================] - 2s 3ms/step - loss: 0.3321 - accuracy: 0.8782 - auc_2: 0.9882 - val_loss: 0.3597 - val_accuracy: 0.8731 - val_auc_2: 0.9883\n",
      "Epoch 10/15\n",
      "629/629 [==============================] - 2s 4ms/step - loss: 0.3233 - accuracy: 0.8829 - auc_2: 0.9885 - val_loss: 0.3530 - val_accuracy: 0.8752 - val_auc_2: 0.9887\n",
      "Epoch 11/15\n",
      "629/629 [==============================] - 2s 3ms/step - loss: 0.3172 - accuracy: 0.8838 - auc_2: 0.9888 - val_loss: 0.3508 - val_accuracy: 0.8772 - val_auc_2: 0.9890\n",
      "Epoch 12/15\n",
      "629/629 [==============================] - 2s 3ms/step - loss: 0.3095 - accuracy: 0.8879 - auc_2: 0.9891 - val_loss: 0.3420 - val_accuracy: 0.8809 - val_auc_2: 0.9892\n",
      "Epoch 13/15\n",
      "629/629 [==============================] - 2s 3ms/step - loss: 0.3027 - accuracy: 0.8888 - auc_2: 0.9894 - val_loss: 0.3501 - val_accuracy: 0.8774 - val_auc_2: 0.9895\n",
      "Epoch 14/15\n",
      "629/629 [==============================] - 2s 3ms/step - loss: 0.2986 - accuracy: 0.8907 - auc_2: 0.9896 - val_loss: 0.3402 - val_accuracy: 0.8809 - val_auc_2: 0.9897\n",
      "Epoch 15/15\n",
      "629/629 [==============================] - 2s 3ms/step - loss: 0.2909 - accuracy: 0.8935 - auc_2: 0.9898 - val_loss: 0.3500 - val_accuracy: 0.8742 - val_auc_2: 0.9899\n"
     ]
    }
   ],
   "source": [
    "n_classes = 10\n",
    "\n",
    "# Criando um modelo sequencial\n",
    "rede_simples = Sequential()\n",
    "rede_simples.add(Flatten()) \n",
    "n_pixels =  X_train.shape[1]*X_train.shape[2]\n",
    "rede_simples.add(Dense(26,  input_dim = n_pixels))\n",
    "rede_simples.add(Activation('relu'))\n",
    "rede_simples.add(Dense(26))\n",
    "rede_simples.add(Activation('relu'))\n",
    "rede_simples.add(Dense(n_classes))\n",
    "rede_simples.add(Activation('softmax'))\n",
    "\n",
    "# Categorical_crossentropy é uma perda adaptada para categoricas\n",
    "# Podemos utilizar métricas para visualizar informações mais comums em ML\n",
    "rede_simples.compile(loss = 'categorical_crossentropy',\n",
    "                     optimizer = 'Adam', \n",
    "                     metrics=['accuracy',AUC(from_logits=True)])\n",
    "# Treinamento\n",
    "historico = rede_simples.fit(X_train, \n",
    "                             y_train, \n",
    "                             epochs = 15,\n",
    "                             batch_size=64,\n",
    "                             verbose = 1,\n",
    "                             validation_data = (X_val, y_val))"
   ]
  },
  {
   "cell_type": "code",
   "source": [
    "# plot_overfitting(historico,'loss')\n",
    "# plot_overfitting(historico,'auc')\n",
    "plot_overfitting(historico,'accuracy')"
   ],
   "metadata": {
    "colab": {
     "base_uri": "https://localhost:8080/",
     "height": 281
    },
    "outputId": "f4a0ac60-e674-4c30-86f7-50ee1508eb91",
    "id": "1er0r-U_8TPm"
   },
   "execution_count": null,
   "outputs": [
    {
     "output_type": "display_data",
     "data": {
      "text/plain": [
       "<Figure size 432x288 with 1 Axes>"
      ],
      "image/png": "[encoded data removed]"
     },
     "metadata": {
      "needs_background": "light"
     }
    }
   ]
  },
  {
   "cell_type": "markdown",
   "source": [
    "###### Resultados\n",
    "Perda de desempenho"
   ],
   "metadata": {
    "id": "JfMPcNtw8TPn"
   }
  },
  {
   "cell_type": "code",
   "source": [
    "metric_treino = historico.history['accuracy'][-1]\n",
    "metric_val = historico.history['val_accuracy'][-1]\n",
    "\n",
    "print(f'accuracy treino:    {metric_treino:.4f}')\n",
    "print(f'accuracy validação: {metric_val:.4f}')\n"
   ],
   "metadata": {
    "colab": {
     "base_uri": "https://localhost:8080/"
    },
    "outputId": "234b20a4-6cb1-4f57-c416-356ddb2718c0",
    "id": "EbsIEELa8TPn"
   },
   "execution_count": null,
   "outputs": [
    {
     "output_type": "stream",
     "name": "stdout",
     "text": [
      "accuracy treino:    0.8935\n",
      "accuracy validação: 0.8742\n"
     ]
    }
   ]
  },
  {
   "cell_type": "code",
   "source": [
    ""
   ],
   "metadata": {
    "id": "fRpWVXK98TPn"
   },
   "execution_count": null,
   "outputs": []
  },
  {
   "cell_type": "markdown",
   "source": [
    "##### 6.2 - Rede reduzida multipla"
   ],
   "metadata": {
    "id": "1J-v9KDg9QfC"
   }
  },
  {
   "cell_type": "markdown",
   "source": [
    "###### modelo, fitting, predict"
   ],
   "metadata": {
    "id": "qS8cDJx29QfK"
   }
  },
  {
   "cell_type": "code",
   "execution_count": null,
   "metadata": {
    "colab": {
     "base_uri": "https://localhost:8080/"
    },
    "outputId": "d11f23e4-2ca0-4559-a08e-0d85a6780b97",
    "id": "J9vDmXLh9QfK"
   },
   "outputs": [
    {
     "output_type": "stream",
     "name": "stdout",
     "text": [
      "Epoch 1/200\n",
      "629/629 [==============================] - 3s 4ms/step - loss: 0.6517 - accuracy: 0.7685 - auc_3: 0.9460 - val_loss: 0.4645 - val_accuracy: 0.8364 - val_auc_3: 0.9768\n",
      "Epoch 2/200\n",
      "629/629 [==============================] - 2s 4ms/step - loss: 0.4434 - accuracy: 0.8408 - auc_3: 0.9803 - val_loss: 0.3913 - val_accuracy: 0.8597 - val_auc_3: 0.9827\n",
      "Epoch 3/200\n",
      "629/629 [==============================] - 2s 4ms/step - loss: 0.3878 - accuracy: 0.8583 - auc_3: 0.9842 - val_loss: 0.3734 - val_accuracy: 0.8653 - val_auc_3: 0.9853\n",
      "Epoch 4/200\n",
      "629/629 [==============================] - 2s 4ms/step - loss: 0.3613 - accuracy: 0.8677 - auc_3: 0.9861 - val_loss: 0.3702 - val_accuracy: 0.8683 - val_auc_3: 0.9867\n",
      "Epoch 5/200\n",
      "629/629 [==============================] - 2s 4ms/step - loss: 0.3454 - accuracy: 0.8725 - auc_3: 0.9872 - val_loss: 0.3639 - val_accuracy: 0.8671 - val_auc_3: 0.9876\n",
      "Epoch 6/200\n",
      "629/629 [==============================] - 2s 4ms/step - loss: 0.3256 - accuracy: 0.8796 - auc_3: 0.9880 - val_loss: 0.3533 - val_accuracy: 0.8728 - val_auc_3: 0.9883\n",
      "Epoch 7/200\n",
      "629/629 [==============================] - 2s 4ms/step - loss: 0.3158 - accuracy: 0.8820 - auc_3: 0.9886 - val_loss: 0.3414 - val_accuracy: 0.8790 - val_auc_3: 0.9889\n",
      "Epoch 8/200\n",
      "629/629 [==============================] - 2s 4ms/step - loss: 0.3057 - accuracy: 0.8872 - auc_3: 0.9891 - val_loss: 0.3443 - val_accuracy: 0.8785 - val_auc_3: 0.9893\n",
      "Epoch 9/200\n",
      "629/629 [==============================] - 2s 4ms/step - loss: 0.2935 - accuracy: 0.8917 - auc_3: 0.9895 - val_loss: 0.3525 - val_accuracy: 0.8739 - val_auc_3: 0.9897\n",
      "Epoch 10/200\n",
      "629/629 [==============================] - 2s 4ms/step - loss: 0.2859 - accuracy: 0.8919 - auc_3: 0.9899 - val_loss: 0.3238 - val_accuracy: 0.8846 - val_auc_3: 0.9900\n",
      "Epoch 11/200\n",
      "629/629 [==============================] - 2s 4ms/step - loss: 0.2783 - accuracy: 0.8949 - auc_3: 0.9902 - val_loss: 0.3214 - val_accuracy: 0.8862 - val_auc_3: 0.9903\n",
      "Epoch 12/200\n",
      "629/629 [==============================] - 2s 4ms/step - loss: 0.2679 - accuracy: 0.8982 - auc_3: 0.9905 - val_loss: 0.3331 - val_accuracy: 0.8860 - val_auc_3: 0.9906\n",
      "Epoch 13/200\n",
      "629/629 [==============================] - 2s 4ms/step - loss: 0.2622 - accuracy: 0.9012 - auc_3: 0.9907 - val_loss: 0.3312 - val_accuracy: 0.8844 - val_auc_3: 0.9908\n",
      "Epoch 14/200\n",
      "629/629 [==============================] - 2s 4ms/step - loss: 0.2574 - accuracy: 0.9026 - auc_3: 0.9909 - val_loss: 0.3247 - val_accuracy: 0.8872 - val_auc_3: 0.9910\n",
      "Epoch 15/200\n",
      "629/629 [==============================] - 2s 4ms/step - loss: 0.2495 - accuracy: 0.9043 - auc_3: 0.9911 - val_loss: 0.3251 - val_accuracy: 0.8902 - val_auc_3: 0.9911\n",
      "Epoch 16/200\n",
      "629/629 [==============================] - 2s 4ms/step - loss: 0.2443 - accuracy: 0.9083 - auc_3: 0.9912 - val_loss: 0.3664 - val_accuracy: 0.8767 - val_auc_3: 0.9913\n",
      "Epoch 00016: early stopping\n"
     ]
    }
   ],
   "source": [
    "n_classes = 10\n",
    "\n",
    "# Criando um modelo sequencial\n",
    "rede_simples = Sequential()\n",
    "rede_simples.add(Flatten()) \n",
    "n_pixels =  X_train.shape[1]*X_train.shape[2]\n",
    "rede_simples.add(Dense(52,  input_dim = n_pixels))\n",
    "rede_simples.add(Activation('relu'))\n",
    "rede_simples.add(Dense(52))\n",
    "rede_simples.add(Activation('relu'))\n",
    "rede_simples.add(Dense(52))\n",
    "rede_simples.add(Activation('relu'))\n",
    "rede_simples.add(Dense(52))\n",
    "rede_simples.add(Activation('relu'))\n",
    "rede_simples.add(Dense(52))\n",
    "rede_simples.add(Activation('relu'))\n",
    "rede_simples.add(Dense(n_classes))\n",
    "rede_simples.add(Activation('softmax'))\n",
    "\n",
    "# Categorical_crossentropy é uma perda adaptada para categoricas\n",
    "# Podemos utilizar métricas para visualizar informações mais comums em ML\n",
    "rede_simples.compile(loss = 'categorical_crossentropy',\n",
    "                     optimizer = 'Adam', \n",
    "                     metrics=['accuracy',AUC(from_logits=True)])\n",
    "\n",
    "es = EarlyStopping(monitor = 'val_loss', \n",
    "                   min_delta = 0.001, \n",
    "                   patience = 5, \n",
    "                   verbose = 1, \n",
    "                   mode = 'auto')\n",
    "\n",
    "# Treinamento\n",
    "historico = rede_simples.fit(X_train, \n",
    "                             y_train, \n",
    "                             epochs = 200,\n",
    "                             batch_size=64,\n",
    "                             verbose = 1,\n",
    "                             validation_data = (X_val, y_val),\n",
    "                             callbacks =[es])"
   ]
  },
  {
   "cell_type": "markdown",
   "source": [
    "###### Resultados"
   ],
   "metadata": {
    "id": "rm2RxrII9QfL"
   }
  },
  {
   "cell_type": "code",
   "source": [
    "# plot_overfitting(historico,'loss')\n",
    "# plot_overfitting(historico,'auc')\n",
    "plot_overfitting(historico,'accuracy')"
   ],
   "metadata": {
    "colab": {
     "base_uri": "https://localhost:8080/",
     "height": 281
    },
    "outputId": "10c736d2-765f-422d-d607-cfaa8f4f24b1",
    "id": "_oDUicHk9QfK"
   },
   "execution_count": null,
   "outputs": [
    {
     "output_type": "display_data",
     "data": {
      "text/plain": [
       "<Figure size 432x288 with 1 Axes>"
      ],
      "image/png": "[encoded data removed]"
     },
     "metadata": {
      "needs_background": "light"
     }
    }
   ]
  },
  {
   "cell_type": "code",
   "source": [
    "metric_treino = historico.history['accuracy'][-1]\n",
    "metric_val = historico.history['val_accuracy'][-1]\n",
    "\n",
    "print(f'accuracy treino:    {metric_treino:.4f}')\n",
    "print(f'accuracy validação: {metric_val:.4f}')\n"
   ],
   "metadata": {
    "colab": {
     "base_uri": "https://localhost:8080/"
    },
    "id": "14nTMCID-2sQ",
    "outputId": "9ae0e4cb-dffe-457b-d07a-623c09ae630e"
   },
   "execution_count": null,
   "outputs": [
    {
     "output_type": "stream",
     "name": "stdout",
     "text": [
      "accuracy treino:    0.9083\n",
      "accuracy validação: 0.8767\n"
     ]
    }
   ]
  },
  {
   "cell_type": "code",
   "source": [
    ""
   ],
   "metadata": {
    "id": "PksCuOGK9QfL"
   },
   "execution_count": null,
   "outputs": []
  },
  {
   "cell_type": "markdown",
   "source": [
    "##### 6.2 - Rede rasa com dropout\n",
    "\n",
    "Melhor dedesempenho que a profunda, em uma rede mais simples. com resultado mais estável"
   ],
   "metadata": {
    "id": "0t04KFPn_N85"
   }
  },
  {
   "cell_type": "markdown",
   "source": [
    "###### modelo, fitting, predict"
   ],
   "metadata": {
    "id": "-gb_NEyY_N9A"
   }
  },
  {
   "cell_type": "code",
   "execution_count": null,
   "metadata": {
    "colab": {
     "base_uri": "https://localhost:8080/"
    },
    "outputId": "5633547c-4b25-4905-945d-7989556cc0a8",
    "id": "U16m48Uz_N9A"
   },
   "outputs": [
    {
     "output_type": "stream",
     "name": "stdout",
     "text": [
      "Epoch 1/200\n",
      "629/629 [==============================] - 3s 4ms/step - loss: 0.7258 - accuracy: 0.7338 - auc_4: 0.9339 - val_loss: 0.4429 - val_accuracy: 0.8404 - val_auc_4: 0.9732\n",
      "Epoch 2/200\n",
      "629/629 [==============================] - 2s 4ms/step - loss: 0.5092 - accuracy: 0.8163 - auc_4: 0.9777 - val_loss: 0.3909 - val_accuracy: 0.8618 - val_auc_4: 0.9801\n",
      "Epoch 3/200\n",
      "629/629 [==============================] - 2s 4ms/step - loss: 0.4589 - accuracy: 0.8300 - auc_4: 0.9817 - val_loss: 0.3885 - val_accuracy: 0.8626 - val_auc_4: 0.9827\n",
      "Epoch 4/200\n",
      "629/629 [==============================] - 2s 4ms/step - loss: 0.4365 - accuracy: 0.8400 - auc_4: 0.9835 - val_loss: 0.4049 - val_accuracy: 0.8494 - val_auc_4: 0.9841\n",
      "Epoch 5/200\n",
      "629/629 [==============================] - 2s 4ms/step - loss: 0.4186 - accuracy: 0.8462 - auc_4: 0.9846 - val_loss: 0.3569 - val_accuracy: 0.8711 - val_auc_4: 0.9851\n",
      "Epoch 6/200\n",
      "629/629 [==============================] - 2s 4ms/step - loss: 0.4053 - accuracy: 0.8497 - auc_4: 0.9855 - val_loss: 0.3490 - val_accuracy: 0.8704 - val_auc_4: 0.9859\n",
      "Epoch 7/200\n",
      "629/629 [==============================] - 2s 4ms/step - loss: 0.3934 - accuracy: 0.8542 - auc_4: 0.9862 - val_loss: 0.3514 - val_accuracy: 0.8708 - val_auc_4: 0.9865\n",
      "Epoch 8/200\n",
      "629/629 [==============================] - 2s 4ms/step - loss: 0.3811 - accuracy: 0.8569 - auc_4: 0.9867 - val_loss: 0.3353 - val_accuracy: 0.8794 - val_auc_4: 0.9870\n",
      "Epoch 9/200\n",
      "629/629 [==============================] - 2s 4ms/step - loss: 0.3731 - accuracy: 0.8627 - auc_4: 0.9872 - val_loss: 0.3362 - val_accuracy: 0.8779 - val_auc_4: 0.9874\n",
      "Epoch 10/200\n",
      "629/629 [==============================] - 2s 4ms/step - loss: 0.3713 - accuracy: 0.8631 - auc_4: 0.9876 - val_loss: 0.3388 - val_accuracy: 0.8743 - val_auc_4: 0.9878\n",
      "Epoch 11/200\n",
      "629/629 [==============================] - 2s 4ms/step - loss: 0.3640 - accuracy: 0.8642 - auc_4: 0.9879 - val_loss: 0.3330 - val_accuracy: 0.8785 - val_auc_4: 0.9881\n",
      "Epoch 12/200\n",
      "629/629 [==============================] - 2s 4ms/step - loss: 0.3558 - accuracy: 0.8660 - auc_4: 0.9882 - val_loss: 0.3277 - val_accuracy: 0.8787 - val_auc_4: 0.9883\n",
      "Epoch 13/200\n",
      "629/629 [==============================] - 2s 4ms/step - loss: 0.3536 - accuracy: 0.8654 - auc_4: 0.9885 - val_loss: 0.3270 - val_accuracy: 0.8809 - val_auc_4: 0.9886\n",
      "Epoch 14/200\n",
      "629/629 [==============================] - 2s 4ms/step - loss: 0.3483 - accuracy: 0.8706 - auc_4: 0.9887 - val_loss: 0.3233 - val_accuracy: 0.8837 - val_auc_4: 0.9888\n",
      "Epoch 15/200\n",
      "629/629 [==============================] - 2s 4ms/step - loss: 0.3435 - accuracy: 0.8732 - auc_4: 0.9889 - val_loss: 0.3248 - val_accuracy: 0.8818 - val_auc_4: 0.9890\n",
      "Epoch 16/200\n",
      "629/629 [==============================] - 2s 4ms/step - loss: 0.3396 - accuracy: 0.8734 - auc_4: 0.9891 - val_loss: 0.3543 - val_accuracy: 0.8690 - val_auc_4: 0.9891\n",
      "Epoch 17/200\n",
      "629/629 [==============================] - 2s 4ms/step - loss: 0.3370 - accuracy: 0.8741 - auc_4: 0.9892 - val_loss: 0.3213 - val_accuracy: 0.8808 - val_auc_4: 0.9893\n",
      "Epoch 18/200\n",
      "629/629 [==============================] - 2s 4ms/step - loss: 0.3321 - accuracy: 0.8753 - auc_4: 0.9894 - val_loss: 0.3143 - val_accuracy: 0.8875 - val_auc_4: 0.9895\n",
      "Epoch 19/200\n",
      "629/629 [==============================] - 2s 4ms/step - loss: 0.3239 - accuracy: 0.8775 - auc_4: 0.9895 - val_loss: 0.3124 - val_accuracy: 0.8870 - val_auc_4: 0.9896\n",
      "Epoch 20/200\n",
      "629/629 [==============================] - 2s 4ms/step - loss: 0.3247 - accuracy: 0.8796 - auc_4: 0.9897 - val_loss: 0.3227 - val_accuracy: 0.8844 - val_auc_4: 0.9897\n",
      "Epoch 21/200\n",
      "629/629 [==============================] - 2s 4ms/step - loss: 0.3209 - accuracy: 0.8799 - auc_4: 0.9898 - val_loss: 0.3227 - val_accuracy: 0.8837 - val_auc_4: 0.9899\n",
      "Epoch 22/200\n",
      "629/629 [==============================] - 2s 4ms/step - loss: 0.3158 - accuracy: 0.8808 - auc_4: 0.9899 - val_loss: 0.3249 - val_accuracy: 0.8823 - val_auc_4: 0.9900\n",
      "Epoch 23/200\n",
      "629/629 [==============================] - 2s 4ms/step - loss: 0.3189 - accuracy: 0.8803 - auc_4: 0.9900 - val_loss: 0.3182 - val_accuracy: 0.8836 - val_auc_4: 0.9901\n",
      "Epoch 24/200\n",
      "629/629 [==============================] - 2s 4ms/step - loss: 0.3144 - accuracy: 0.8826 - auc_4: 0.9901 - val_loss: 0.3133 - val_accuracy: 0.8883 - val_auc_4: 0.9902\n",
      "Epoch 00024: early stopping\n"
     ]
    }
   ],
   "source": [
    "n_classes = 10\n",
    "\n",
    "# Criando um modelo sequencial\n",
    "rede_simples = Sequential()\n",
    "rede_simples.add(Flatten()) \n",
    "n_pixels =  X_train.shape[1]*X_train.shape[2]\n",
    "rede_simples.add(Dense(104,  input_dim = n_pixels))\n",
    "rede_simples.add(Dropout(0.2))\n",
    "rede_simples.add(Activation('relu'))\n",
    "rede_simples.add(Dropout(0.2))\n",
    "rede_simples.add(Dense(104))\n",
    "rede_simples.add(Activation('relu'))\n",
    "rede_simples.add(Dropout(0.2))\n",
    "rede_simples.add(Dense(104))\n",
    "rede_simples.add(Activation('relu'))\n",
    "rede_simples.add(Dense(n_classes))\n",
    "rede_simples.add(Activation('softmax'))\n",
    "\n",
    "# Categorical_crossentropy é uma perda adaptada para categoricas\n",
    "# Podemos utilizar métricas para visualizar informações mais comums em ML\n",
    "rede_simples.compile(loss = 'categorical_crossentropy',\n",
    "                     optimizer = 'Adam', \n",
    "                     metrics=['accuracy',AUC(from_logits=True)])\n",
    "\n",
    "es = EarlyStopping(monitor = 'val_loss', \n",
    "                   min_delta = 0.001, \n",
    "                   patience = 5, \n",
    "                   verbose = 1, \n",
    "                   mode = 'auto')\n",
    "\n",
    "# Treinamento\n",
    "historico = rede_simples.fit(X_train, \n",
    "                             y_train, \n",
    "                             epochs = 200,\n",
    "                             batch_size=64,\n",
    "                             verbose = 1,\n",
    "                             validation_data = (X_val, y_val),\n",
    "                             callbacks =[es])"
   ]
  },
  {
   "cell_type": "markdown",
   "source": [
    "###### Resultados"
   ],
   "metadata": {
    "id": "qBsMYNi4_N9B"
   }
  },
  {
   "cell_type": "code",
   "source": [
    "# plot_overfitting(historico,'loss')\n",
    "# plot_overfitting(historico,'auc')\n",
    "plot_overfitting(historico,'accuracy')"
   ],
   "metadata": {
    "colab": {
     "base_uri": "https://localhost:8080/",
     "height": 281
    },
    "outputId": "e0ae8b43-91d7-4eb1-8a95-5e2e2ab8267a",
    "id": "HBZ2KzIs_N9B"
   },
   "execution_count": null,
   "outputs": [
    {
     "output_type": "display_data",
     "data": {
      "text/plain": [
       "<Figure size 432x288 with 1 Axes>"
      ],
      "image/png": "[encoded data removed]"
     },
     "metadata": {
      "needs_background": "light"
     }
    }
   ]
  },
  {
   "cell_type": "code",
   "source": [
    "metric_treino = historico.history['accuracy'][-1]\n",
    "metric_val = historico.history['val_accuracy'][-1]\n",
    "\n",
    "print(f'accuracy treino:    {metric_treino:.4f}')\n",
    "print(f'accuracy validação: {metric_val:.4f}')\n"
   ],
   "metadata": {
    "colab": {
     "base_uri": "https://localhost:8080/"
    },
    "outputId": "1b9ecb96-eb9e-4e32-e626-c887cb757ece",
    "id": "Xk64jZtV_N9B"
   },
   "execution_count": null,
   "outputs": [
    {
     "output_type": "stream",
     "name": "stdout",
     "text": [
      "accuracy treino:    0.8826\n",
      "accuracy validação: 0.8883\n"
     ]
    }
   ]
  },
  {
   "cell_type": "code",
   "source": [
    ""
   ],
   "metadata": {
    "id": "DREsYZgu_N9B"
   },
   "execution_count": null,
   "outputs": []
  },
  {
   "cell_type": "markdown",
   "source": [
    "##### 6.2 - Rede produnda com dropout\n",
    "\n",
    "Pior desempenho"
   ],
   "metadata": {
    "id": "p48c2hDMBdSN"
   }
  },
  {
   "cell_type": "markdown",
   "source": [
    "###### modelo, fitting, predict"
   ],
   "metadata": {
    "id": "lTrRrahcBdSU"
   }
  },
  {
   "cell_type": "code",
   "execution_count": null,
   "metadata": {
    "colab": {
     "base_uri": "https://localhost:8080/"
    },
    "outputId": "025ba7f5-117c-4679-91a0-aff3cf6360e6",
    "id": "_uJffeZSBdSU"
   },
   "outputs": [
    {
     "output_type": "stream",
     "name": "stdout",
     "text": [
      "Epoch 1/200\n",
      "315/315 [==============================] - 2s 5ms/step - loss: 0.8403 - accuracy: 0.6763 - auc_5: 0.9057 - val_loss: 0.5051 - val_accuracy: 0.8219 - val_auc_5: 0.9647\n",
      "Epoch 2/200\n",
      "315/315 [==============================] - 1s 4ms/step - loss: 0.5609 - accuracy: 0.7979 - auc_5: 0.9714 - val_loss: 0.4428 - val_accuracy: 0.8392 - val_auc_5: 0.9750\n",
      "Epoch 3/200\n",
      "315/315 [==============================] - 1s 4ms/step - loss: 0.5059 - accuracy: 0.8189 - auc_5: 0.9771 - val_loss: 0.4569 - val_accuracy: 0.8354 - val_auc_5: 0.9785\n",
      "Epoch 4/200\n",
      "315/315 [==============================] - 1s 4ms/step - loss: 0.4827 - accuracy: 0.8235 - auc_5: 0.9795 - val_loss: 0.4267 - val_accuracy: 0.8451 - val_auc_5: 0.9804\n",
      "Epoch 5/200\n",
      "315/315 [==============================] - 1s 4ms/step - loss: 0.4638 - accuracy: 0.8345 - auc_5: 0.9811 - val_loss: 0.4076 - val_accuracy: 0.8502 - val_auc_5: 0.9817\n",
      "Epoch 6/200\n",
      "315/315 [==============================] - 1s 4ms/step - loss: 0.4504 - accuracy: 0.8372 - auc_5: 0.9822 - val_loss: 0.4166 - val_accuracy: 0.8476 - val_auc_5: 0.9826\n",
      "Epoch 7/200\n",
      "315/315 [==============================] - 1s 4ms/step - loss: 0.4361 - accuracy: 0.8430 - auc_5: 0.9830 - val_loss: 0.3746 - val_accuracy: 0.8652 - val_auc_5: 0.9834\n",
      "Epoch 8/200\n",
      "315/315 [==============================] - 1s 4ms/step - loss: 0.4193 - accuracy: 0.8490 - auc_5: 0.9838 - val_loss: 0.3799 - val_accuracy: 0.8687 - val_auc_5: 0.9841\n",
      "Epoch 9/200\n",
      "315/315 [==============================] - 1s 4ms/step - loss: 0.4143 - accuracy: 0.8501 - auc_5: 0.9844 - val_loss: 0.3642 - val_accuracy: 0.8748 - val_auc_5: 0.9847\n",
      "Epoch 10/200\n",
      "315/315 [==============================] - 1s 4ms/step - loss: 0.4050 - accuracy: 0.8532 - auc_5: 0.9849 - val_loss: 0.3696 - val_accuracy: 0.8644 - val_auc_5: 0.9851\n",
      "Epoch 11/200\n",
      "315/315 [==============================] - 1s 4ms/step - loss: 0.4002 - accuracy: 0.8548 - auc_5: 0.9853 - val_loss: 0.3661 - val_accuracy: 0.8696 - val_auc_5: 0.9855\n",
      "Epoch 12/200\n",
      "315/315 [==============================] - 1s 4ms/step - loss: 0.3971 - accuracy: 0.8544 - auc_5: 0.9857 - val_loss: 0.3545 - val_accuracy: 0.8759 - val_auc_5: 0.9859\n",
      "Epoch 13/200\n",
      "315/315 [==============================] - 1s 4ms/step - loss: 0.3896 - accuracy: 0.8590 - auc_5: 0.9861 - val_loss: 0.3695 - val_accuracy: 0.8720 - val_auc_5: 0.9862\n",
      "Epoch 14/200\n",
      "315/315 [==============================] - 1s 4ms/step - loss: 0.3922 - accuracy: 0.8584 - auc_5: 0.9863 - val_loss: 0.3425 - val_accuracy: 0.8774 - val_auc_5: 0.9865\n",
      "Epoch 15/200\n",
      "315/315 [==============================] - 1s 4ms/step - loss: 0.3821 - accuracy: 0.8604 - auc_5: 0.9866 - val_loss: 0.3527 - val_accuracy: 0.8792 - val_auc_5: 0.9867\n",
      "Epoch 16/200\n",
      "315/315 [==============================] - 1s 4ms/step - loss: 0.3745 - accuracy: 0.8629 - auc_5: 0.9868 - val_loss: 0.3520 - val_accuracy: 0.8802 - val_auc_5: 0.9869\n",
      "Epoch 17/200\n",
      "315/315 [==============================] - 1s 4ms/step - loss: 0.3781 - accuracy: 0.8621 - auc_5: 0.9870 - val_loss: 0.3404 - val_accuracy: 0.8794 - val_auc_5: 0.9871\n",
      "Epoch 18/200\n",
      "315/315 [==============================] - 1s 4ms/step - loss: 0.3717 - accuracy: 0.8650 - auc_5: 0.9872 - val_loss: 0.3481 - val_accuracy: 0.8779 - val_auc_5: 0.9873\n",
      "Epoch 19/200\n",
      "315/315 [==============================] - 1s 4ms/step - loss: 0.3653 - accuracy: 0.8675 - auc_5: 0.9874 - val_loss: 0.3377 - val_accuracy: 0.8791 - val_auc_5: 0.9875\n",
      "Epoch 20/200\n",
      "315/315 [==============================] - 1s 4ms/step - loss: 0.3684 - accuracy: 0.8658 - auc_5: 0.9876 - val_loss: 0.3388 - val_accuracy: 0.8795 - val_auc_5: 0.9877\n",
      "Epoch 21/200\n",
      "315/315 [==============================] - 1s 4ms/step - loss: 0.3587 - accuracy: 0.8702 - auc_5: 0.9877 - val_loss: 0.3478 - val_accuracy: 0.8765 - val_auc_5: 0.9878\n",
      "Epoch 22/200\n",
      "315/315 [==============================] - 1s 4ms/step - loss: 0.3610 - accuracy: 0.8700 - auc_5: 0.9879 - val_loss: 0.3425 - val_accuracy: 0.8796 - val_auc_5: 0.9879\n",
      "Epoch 23/200\n",
      "315/315 [==============================] - 1s 4ms/step - loss: 0.3557 - accuracy: 0.8709 - auc_5: 0.9880 - val_loss: 0.3422 - val_accuracy: 0.8774 - val_auc_5: 0.9881\n",
      "Epoch 24/200\n",
      "315/315 [==============================] - 1s 4ms/step - loss: 0.3561 - accuracy: 0.8705 - auc_5: 0.9881 - val_loss: 0.3515 - val_accuracy: 0.8770 - val_auc_5: 0.9882\n",
      "Epoch 00024: early stopping\n"
     ]
    }
   ],
   "source": [
    "n_classes = 10\n",
    "\n",
    "# Criando um modelo sequencial\n",
    "rede_simples = Sequential()\n",
    "rede_simples.add(Flatten()) \n",
    "n_pixels =  X_train.shape[1]*X_train.shape[2]\n",
    "rede_simples.add(Dense(104,  input_dim = n_pixels))\n",
    "rede_simples.add(Dropout(0.2))\n",
    "rede_simples.add(Activation('relu'))\n",
    "rede_simples.add(Dropout(0.2))\n",
    "rede_simples.add(Dense(128))\n",
    "rede_simples.add(Activation('relu'))\n",
    "rede_simples.add(Dropout(0.2))\n",
    "rede_simples.add(Dense(168))\n",
    "rede_simples.add(Activation('relu'))\n",
    "rede_simples.add(Dense(192))\n",
    "rede_simples.add(Activation('relu'))\n",
    "rede_simples.add(Dropout(0.2))\n",
    "rede_simples.add(Dense(224))\n",
    "rede_simples.add(Activation('relu'))\n",
    "rede_simples.add(Dense(248))\n",
    "rede_simples.add(Activation('relu'))\n",
    "rede_simples.add(Dropout(0.2))\n",
    "rede_simples.add(Dense(260))\n",
    "rede_simples.add(Activation('relu'))\n",
    "rede_simples.add(Dense(n_classes))\n",
    "rede_simples.add(Activation('softmax'))\n",
    "\n",
    "# Categorical_crossentropy é uma perda adaptada para categoricas\n",
    "# Podemos utilizar métricas para visualizar informações mais comums em ML\n",
    "rede_simples.compile(loss = 'categorical_crossentropy',\n",
    "                     optimizer = 'Adam', \n",
    "                     metrics=['accuracy',AUC(from_logits=True)])\n",
    "\n",
    "es = EarlyStopping(monitor = 'val_loss', \n",
    "                   min_delta = 0.001, \n",
    "                   patience = 5, \n",
    "                   verbose = 1, \n",
    "                   mode = 'auto')\n",
    "\n",
    "# Treinamento\n",
    "historico = rede_simples.fit(X_train, \n",
    "                             y_train, \n",
    "                             epochs = 200,\n",
    "                             batch_size=128,\n",
    "                             verbose = 1,\n",
    "                             validation_data = (X_val, y_val),\n",
    "                             callbacks =[es])"
   ]
  },
  {
   "cell_type": "markdown",
   "source": [
    "###### Resultados"
   ],
   "metadata": {
    "id": "KOi-Ze_0BdSV"
   }
  },
  {
   "cell_type": "code",
   "source": [
    "# plot_overfitting(historico,'loss')\n",
    "# plot_overfitting(historico,'auc')\n",
    "plot_overfitting(historico,'accuracy')"
   ],
   "metadata": {
    "colab": {
     "base_uri": "https://localhost:8080/",
     "height": 281
    },
    "outputId": "7976fc1c-e82a-4641-8170-e3bd9e92e406",
    "id": "JWXpOIXEBdSV"
   },
   "execution_count": null,
   "outputs": [
    {
     "output_type": "display_data",
     "data": {
      "text/plain": [
       "<Figure size 432x288 with 1 Axes>"
      ],
      "image/png": "[encoded data removed]"
     },
     "metadata": {
      "needs_background": "light"
     }
    }
   ]
  },
  {
   "cell_type": "code",
   "source": [
    "metric_treino = historico.history['accuracy'][-1]\n",
    "metric_val = historico.history['val_accuracy'][-1]\n",
    "\n",
    "print(f'accuracy treino:    {metric_treino:.4f}')\n",
    "print(f'accuracy validação: {metric_val:.4f}')\n"
   ],
   "metadata": {
    "colab": {
     "base_uri": "https://localhost:8080/"
    },
    "outputId": "62028b1a-ee64-4a14-e6ff-d36341575527",
    "id": "eDqVRLopBdSV"
   },
   "execution_count": null,
   "outputs": [
    {
     "output_type": "stream",
     "name": "stdout",
     "text": [
      "accuracy treino:    0.8705\n",
      "accuracy validação: 0.8770\n"
     ]
    }
   ]
  },
  {
   "cell_type": "code",
   "source": [
    ""
   ],
   "metadata": {
    "id": "Ni0TuViZBdSV"
   },
   "execution_count": null,
   "outputs": []
  },
  {
   "cell_type": "markdown",
   "source": [
    "##### 6.2 - Rede rasa com dropout e batch grande\n",
    "\n",
    "conseguimos eliminar o overfitting com  o auxilio do dropout!\n",
    "O uso de batchs maiores acelerou o treinamento. alcançando as métricas mais rapidamente.\n",
    "\n",
    "Parece que o modelo também ficou mais estável"
   ],
   "metadata": {
    "id": "3h1FjQyuA1Y4"
   }
  },
  {
   "cell_type": "markdown",
   "source": [
    "###### modelo, fitting, predict"
   ],
   "metadata": {
    "id": "-3bdUFALA1Y-"
   }
  },
  {
   "cell_type": "code",
   "execution_count": null,
   "metadata": {
    "colab": {
     "base_uri": "https://localhost:8080/"
    },
    "outputId": "601e47ae-a094-4173-e709-2e51eb16a06f",
    "id": "G9oL3nhDA1Y_"
   },
   "outputs": [
    {
     "output_type": "stream",
     "name": "stdout",
     "text": [
      "Epoch 1/200\n",
      "158/158 [==============================] - 2s 6ms/step - loss: 0.8863 - accuracy: 0.6765 - auc_6: 0.8943 - val_loss: 0.4947 - val_accuracy: 0.8277 - val_auc_6: 0.9626\n",
      "Epoch 2/200\n",
      "158/158 [==============================] - 1s 4ms/step - loss: 0.5457 - accuracy: 0.8047 - auc_6: 0.9706 - val_loss: 0.4279 - val_accuracy: 0.8437 - val_auc_6: 0.9749\n",
      "Epoch 3/200\n",
      "158/158 [==============================] - 1s 4ms/step - loss: 0.4847 - accuracy: 0.8270 - auc_6: 0.9775 - val_loss: 0.3907 - val_accuracy: 0.8577 - val_auc_6: 0.9792\n",
      "Epoch 4/200\n",
      "158/158 [==============================] - 1s 4ms/step - loss: 0.4503 - accuracy: 0.8360 - auc_6: 0.9805 - val_loss: 0.3878 - val_accuracy: 0.8566 - val_auc_6: 0.9816\n",
      "Epoch 5/200\n",
      "158/158 [==============================] - 1s 4ms/step - loss: 0.4361 - accuracy: 0.8423 - auc_6: 0.9823 - val_loss: 0.3775 - val_accuracy: 0.8601 - val_auc_6: 0.9830\n",
      "Epoch 6/200\n",
      "158/158 [==============================] - 1s 4ms/step - loss: 0.4131 - accuracy: 0.8491 - auc_6: 0.9836 - val_loss: 0.3549 - val_accuracy: 0.8695 - val_auc_6: 0.9841\n",
      "Epoch 7/200\n",
      "158/158 [==============================] - 1s 4ms/step - loss: 0.3987 - accuracy: 0.8543 - auc_6: 0.9845 - val_loss: 0.3490 - val_accuracy: 0.8737 - val_auc_6: 0.9849\n",
      "Epoch 8/200\n",
      "158/158 [==============================] - 1s 4ms/step - loss: 0.3919 - accuracy: 0.8579 - auc_6: 0.9853 - val_loss: 0.3519 - val_accuracy: 0.8737 - val_auc_6: 0.9856\n",
      "Epoch 9/200\n",
      "158/158 [==============================] - 1s 4ms/step - loss: 0.3926 - accuracy: 0.8569 - auc_6: 0.9858 - val_loss: 0.3402 - val_accuracy: 0.8767 - val_auc_6: 0.9861\n",
      "Epoch 10/200\n",
      "158/158 [==============================] - 1s 4ms/step - loss: 0.3740 - accuracy: 0.8616 - auc_6: 0.9863 - val_loss: 0.3368 - val_accuracy: 0.8805 - val_auc_6: 0.9865\n",
      "Epoch 11/200\n",
      "158/158 [==============================] - 1s 4ms/step - loss: 0.3711 - accuracy: 0.8644 - auc_6: 0.9867 - val_loss: 0.3354 - val_accuracy: 0.8775 - val_auc_6: 0.9869\n",
      "Epoch 12/200\n",
      "158/158 [==============================] - 1s 4ms/step - loss: 0.3584 - accuracy: 0.8678 - auc_6: 0.9871 - val_loss: 0.3307 - val_accuracy: 0.8791 - val_auc_6: 0.9873\n",
      "Epoch 13/200\n",
      "158/158 [==============================] - 1s 4ms/step - loss: 0.3576 - accuracy: 0.8679 - auc_6: 0.9874 - val_loss: 0.3337 - val_accuracy: 0.8791 - val_auc_6: 0.9876\n",
      "Epoch 14/200\n",
      "158/158 [==============================] - 1s 4ms/step - loss: 0.3671 - accuracy: 0.8626 - auc_6: 0.9877 - val_loss: 0.3364 - val_accuracy: 0.8778 - val_auc_6: 0.9878\n",
      "Epoch 15/200\n",
      "158/158 [==============================] - 1s 4ms/step - loss: 0.3608 - accuracy: 0.8669 - auc_6: 0.9879 - val_loss: 0.3248 - val_accuracy: 0.8842 - val_auc_6: 0.9880\n",
      "Epoch 16/200\n",
      "158/158 [==============================] - 1s 4ms/step - loss: 0.3440 - accuracy: 0.8728 - auc_6: 0.9882 - val_loss: 0.3265 - val_accuracy: 0.8815 - val_auc_6: 0.9883\n",
      "Epoch 17/200\n",
      "158/158 [==============================] - 1s 4ms/step - loss: 0.3447 - accuracy: 0.8725 - auc_6: 0.9883 - val_loss: 0.3255 - val_accuracy: 0.8826 - val_auc_6: 0.9884\n",
      "Epoch 18/200\n",
      "158/158 [==============================] - 1s 4ms/step - loss: 0.3334 - accuracy: 0.8740 - auc_6: 0.9885 - val_loss: 0.3242 - val_accuracy: 0.8806 - val_auc_6: 0.9886\n",
      "Epoch 19/200\n",
      "158/158 [==============================] - 1s 4ms/step - loss: 0.3362 - accuracy: 0.8746 - auc_6: 0.9887 - val_loss: 0.3328 - val_accuracy: 0.8769 - val_auc_6: 0.9888\n",
      "Epoch 20/200\n",
      "158/158 [==============================] - 1s 4ms/step - loss: 0.3291 - accuracy: 0.8771 - auc_6: 0.9889 - val_loss: 0.3196 - val_accuracy: 0.8851 - val_auc_6: 0.9890\n",
      "Epoch 21/200\n",
      "158/158 [==============================] - 1s 4ms/step - loss: 0.3220 - accuracy: 0.8780 - auc_6: 0.9890 - val_loss: 0.3190 - val_accuracy: 0.8867 - val_auc_6: 0.9891\n",
      "Epoch 22/200\n",
      "158/158 [==============================] - 1s 4ms/step - loss: 0.3278 - accuracy: 0.8758 - auc_6: 0.9892 - val_loss: 0.3196 - val_accuracy: 0.8857 - val_auc_6: 0.9893\n",
      "Epoch 23/200\n",
      "158/158 [==============================] - 1s 4ms/step - loss: 0.3180 - accuracy: 0.8802 - auc_6: 0.9893 - val_loss: 0.3146 - val_accuracy: 0.8889 - val_auc_6: 0.9894\n",
      "Epoch 24/200\n",
      "158/158 [==============================] - 1s 4ms/step - loss: 0.3125 - accuracy: 0.8830 - auc_6: 0.9895 - val_loss: 0.3172 - val_accuracy: 0.8860 - val_auc_6: 0.9895\n",
      "Epoch 25/200\n",
      "158/158 [==============================] - 1s 4ms/step - loss: 0.3205 - accuracy: 0.8793 - auc_6: 0.9896 - val_loss: 0.3209 - val_accuracy: 0.8863 - val_auc_6: 0.9896\n",
      "Epoch 26/200\n",
      "158/158 [==============================] - 1s 4ms/step - loss: 0.3100 - accuracy: 0.8848 - auc_6: 0.9897 - val_loss: 0.3280 - val_accuracy: 0.8833 - val_auc_6: 0.9897\n",
      "Epoch 27/200\n",
      "158/158 [==============================] - 1s 4ms/step - loss: 0.3084 - accuracy: 0.8842 - auc_6: 0.9898 - val_loss: 0.3237 - val_accuracy: 0.8836 - val_auc_6: 0.9898\n",
      "Epoch 28/200\n",
      "158/158 [==============================] - 1s 4ms/step - loss: 0.3079 - accuracy: 0.8830 - auc_6: 0.9899 - val_loss: 0.3092 - val_accuracy: 0.8882 - val_auc_6: 0.9899\n",
      "Epoch 29/200\n",
      "158/158 [==============================] - 1s 4ms/step - loss: 0.2999 - accuracy: 0.8881 - auc_6: 0.9900 - val_loss: 0.3174 - val_accuracy: 0.8864 - val_auc_6: 0.9900\n",
      "Epoch 30/200\n",
      "158/158 [==============================] - 1s 4ms/step - loss: 0.3104 - accuracy: 0.8835 - auc_6: 0.9901 - val_loss: 0.3156 - val_accuracy: 0.8879 - val_auc_6: 0.9901\n",
      "Epoch 31/200\n",
      "158/158 [==============================] - 1s 4ms/step - loss: 0.3025 - accuracy: 0.8859 - auc_6: 0.9902 - val_loss: 0.3190 - val_accuracy: 0.8865 - val_auc_6: 0.9902\n",
      "Epoch 32/200\n",
      "158/158 [==============================] - 1s 4ms/step - loss: 0.3089 - accuracy: 0.8848 - auc_6: 0.9902 - val_loss: 0.3134 - val_accuracy: 0.8883 - val_auc_6: 0.9903\n",
      "Epoch 33/200\n",
      "158/158 [==============================] - 1s 4ms/step - loss: 0.3059 - accuracy: 0.8862 - auc_6: 0.9903 - val_loss: 0.3194 - val_accuracy: 0.8875 - val_auc_6: 0.9904\n",
      "Epoch 34/200\n",
      "158/158 [==============================] - 1s 4ms/step - loss: 0.2927 - accuracy: 0.8894 - auc_6: 0.9904 - val_loss: 0.3154 - val_accuracy: 0.8883 - val_auc_6: 0.9904\n",
      "Epoch 35/200\n",
      "158/158 [==============================] - 1s 4ms/step - loss: 0.2929 - accuracy: 0.8897 - auc_6: 0.9905 - val_loss: 0.3322 - val_accuracy: 0.8813 - val_auc_6: 0.9905\n",
      "Epoch 36/200\n",
      "158/158 [==============================] - 1s 4ms/step - loss: 0.3008 - accuracy: 0.8860 - auc_6: 0.9905 - val_loss: 0.3131 - val_accuracy: 0.8889 - val_auc_6: 0.9905\n",
      "Epoch 37/200\n",
      "158/158 [==============================] - 1s 4ms/step - loss: 0.3011 - accuracy: 0.8862 - auc_6: 0.9906 - val_loss: 0.3254 - val_accuracy: 0.8869 - val_auc_6: 0.9906\n",
      "Epoch 38/200\n",
      "158/158 [==============================] - 1s 4ms/step - loss: 0.2916 - accuracy: 0.8901 - auc_6: 0.9906 - val_loss: 0.3144 - val_accuracy: 0.8909 - val_auc_6: 0.9907\n",
      "Epoch 00038: early stopping\n"
     ]
    }
   ],
   "source": [
    "n_classes = 10\n",
    "\n",
    "# Criando um modelo sequencial\n",
    "rede_simples = Sequential()\n",
    "rede_simples.add(Flatten()) \n",
    "n_pixels =  X_train.shape[1]*X_train.shape[2]\n",
    "rede_simples.add(Dense(104,  input_dim = n_pixels))\n",
    "rede_simples.add(Dropout(0.2))\n",
    "rede_simples.add(Activation('relu'))\n",
    "rede_simples.add(Dropout(0.2))\n",
    "rede_simples.add(Dense(104))\n",
    "rede_simples.add(Activation('relu'))\n",
    "rede_simples.add(Dropout(0.2))\n",
    "rede_simples.add(Dense(104))\n",
    "rede_simples.add(Activation('relu'))\n",
    "rede_simples.add(Dense(n_classes))\n",
    "rede_simples.add(Activation('softmax'))\n",
    "\n",
    "# Categorical_crossentropy é uma perda adaptada para categoricas\n",
    "# Podemos utilizar métricas para visualizar informações mais comums em ML\n",
    "rede_simples.compile(loss = 'categorical_crossentropy',\n",
    "                     optimizer = 'Adam', \n",
    "                     metrics=['accuracy',AUC(from_logits=True)])\n",
    "\n",
    "es = EarlyStopping(monitor = 'val_loss', \n",
    "                   min_delta = 0.001, \n",
    "                   patience = 10, \n",
    "                   verbose = 1, \n",
    "                   mode = 'auto')\n",
    "\n",
    "# Treinamento\n",
    "historico = rede_simples.fit(X_train, \n",
    "                             y_train, \n",
    "                             epochs = 200,\n",
    "                             batch_size=64*4,\n",
    "                             verbose = 1,\n",
    "                             validation_data = (X_val, y_val),\n",
    "                             callbacks =[es])"
   ]
  },
  {
   "cell_type": "markdown",
   "source": [
    "###### Resultados"
   ],
   "metadata": {
    "id": "nGdUBupBA1Y_"
   }
  },
  {
   "cell_type": "code",
   "source": [
    "# plot_overfitting(historico,'loss')\n",
    "# plot_overfitting(historico,'auc')\n",
    "plot_overfitting(historico,'accuracy')"
   ],
   "metadata": {
    "colab": {
     "base_uri": "https://localhost:8080/",
     "height": 281
    },
    "outputId": "2479e5e0-2bed-4e67-b821-fdd1cde2fd86",
    "id": "z50S7r56A1Y_"
   },
   "execution_count": null,
   "outputs": [
    {
     "output_type": "display_data",
     "data": {
      "text/plain": [
       "<Figure size 432x288 with 1 Axes>"
      ],
      "image/png": "[encoded data removed]"
     },
     "metadata": {
      "needs_background": "light"
     }
    }
   ]
  },
  {
   "cell_type": "code",
   "source": [
    "metric_treino = historico.history['accuracy'][-1]\n",
    "metric_val = historico.history['val_accuracy'][-1]\n",
    "\n",
    "print(f'accuracy treino:    {metric_treino:.4f}')\n",
    "print(f'accuracy validação: {metric_val:.4f}')\n"
   ],
   "metadata": {
    "colab": {
     "base_uri": "https://localhost:8080/"
    },
    "outputId": "e42d86cf-f16e-4419-c2e8-b569963b5dbf",
    "id": "LJYwSc3iA1ZA"
   },
   "execution_count": null,
   "outputs": [
    {
     "output_type": "stream",
     "name": "stdout",
     "text": [
      "accuracy treino:    0.8901\n",
      "accuracy validação: 0.8909\n"
     ]
    }
   ]
  },
  {
   "cell_type": "markdown",
   "source": [
    "# Desempenho em teste\n"
   ],
   "metadata": {
    "id": "2pvZaWZ3CRc7"
   }
  },
  {
   "cell_type": "code",
   "source": [
    "# Desempenho em teste\n",
    "pred_simples = rede_simples.predict(X_test)\n",
    "confusion_matrix(y_test.argmax(1), pred_simples.argmax(1))\n",
    "\n",
    "metric_test = accuracy_score(y_test.argmax(1), pred_simples.argmax(1))\n",
    "print(f'accuracy teste:     {metric_test:.4f}')\n",
    "print(confusion_matrix(y_test.argmax(1), pred_simples.argmax(1)))"
   ],
   "metadata": {
    "colab": {
     "base_uri": "https://localhost:8080/"
    },
    "outputId": "00fd5035-2fd9-41a7-8fa1-94e3bd8c3a73",
    "id": "dx8R1p4q9QfL"
   },
   "execution_count": null,
   "outputs": [
    {
     "output_type": "stream",
     "name": "stdout",
     "text": [
      "accuracy teste:     0.8572\n",
      "[[977   0   0   0   0   3   1  19   0   0]\n",
      " [  1 975   7   3   2   2   3   4   2   1]\n",
      " [  0   1 928  14  41   0  13   0   1   2]\n",
      " [  0   5  69 839   6   0  10   0  42  29]\n",
      " [  0   3 251  11 657   0  54   0  19   5]\n",
      " [ 50   2   0   0   0 926   0  22   0   0]\n",
      " [  0  12 195  23  63   0 466   0 231  10]\n",
      " [ 60   0   0   0   0  15   0 925   0   0]\n",
      " [  2   9  13  13  13   0  38   0 903   9]\n",
      " [  1   1   5  15   0   0   1   0   1 976]]\n"
     ]
    }
   ]
  },
  {
   "cell_type": "markdown",
   "source": [
    "Tivemos queda no desempenho em teste. talvez o overfitting não tenha sido corrigido."
   ],
   "metadata": {
    "id": "sZMvporjDUij"
   }
  },
  {
   "cell_type": "code",
   "source": [
    ""
   ],
   "metadata": {
    "id": "7nDph82-AmR9"
   },
   "execution_count": null,
   "outputs": []
  }
 ],
 "metadata": {
  "colab": {
   "collapsed_sections": [],
   "machine_shape": "hm",
   "name": "Exercício_Rede_Neural_Tradicional_fashion_entrega.ipynb",
   "provenance": [],
   "toc_visible": true,
   "mount_file_id": "1KxpMiqve4ZT5UqIbmlZZkWdgup5ayXWF",
   "authorship_tag": "ABX9TyO2hVDfq/OAgHYD7KyRK4lu",
   "include_colab_link": true
  },
  "kernelspec": {
   "display_name": "Python 3",
   "name": "python3"
  },
  "language_info": {
   "name": "python"
  },
  "accelerator": "GPU"
 },
 "nbformat": 4,
 "nbformat_minor": 0
}