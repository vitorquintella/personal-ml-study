{
 "cells": [
  {
   "cell_type": "markdown",
   "id": "9acedc11",
   "metadata": {},
   "source": [
    "### Exercícios\n",
    "Alunos\n",
    "* Vitor Versoza da Mata Quintella\n",
    "* Samya de Lara Pinheiro"
   ]
  },
  {
   "cell_type": "markdown",
   "id": "412f5725",
   "metadata": {},
   "source": [
    "Crie um novo banco de dados chamado exercicios (se ele já não existir)"
   ]
  },
  {
   "cell_type": "markdown",
   "id": "6db17181",
   "metadata": {},
   "source": [
    "### Loja de Computadores"
   ]
  },
  {
   "cell_type": "markdown",
   "id": "932f14c8",
   "metadata": {},
   "source": [
    "Execute o código abaixo para criação de tabelas que serão usadas"
   ]
  },
  {
   "cell_type": "markdown",
   "source": [
    "``` sql\n",
    "CREATE TABLE Manufacturers (\n",
    "\tCode INTEGER PRIMARY KEY NOT NULL,\n",
    "\tName CHAR(50) NOT NULL\n",
    ");\n",
    "\n",
    "CREATE TABLE Products (\n",
    "\tCode INTEGER PRIMARY KEY NOT NULL,\n",
    "\tName CHAR(50) NOT NULL ,\n",
    "\tPrice REAL NOT NULL ,\n",
    "\tManufacturer INTEGER NOT NULL\n",
    "\t\tCONSTRAINT fk_Manufacturers_Code REFERENCES Manufacturers(Code)\n",
    ");\n",
    "\n",
    "INSERT INTO Manufacturers\n",
    "    (Code,Name)\n",
    "VALUES\n",
    "    (1,'Sony'),\n",
    "    (2,'Creative Labs'),\n",
    "    (3,'Hewlett-Packard'),\n",
    "    (4,'Iomega'),\n",
    "    (5,'Fujitsu'),\n",
    "    (6,'Winchester');\n",
    "\n",
    "INSERT INTO\n",
    "    Products(Code,Name,Price,Manufacturer)\n",
    "VALUES\n",
    "    (1,'Hard drive',240,5),\n",
    "    (2,'Memory',120,6),\n",
    "    (3,'ZIP drive',150,4),\n",
    "    (4,'Floppy disk',5,6),\n",
    "    (5,'Monitor',240,1),\n",
    "    (6,'DVD drive',180,2),\n",
    "    (7,'CD drive',90,2),\n",
    "    (8,'Printer',270,3),\n",
    "    (9,'Toner cartridge',66,3),\n",
    "    (10,'DVD burner',180,2);\n",
    "```"
   ],
   "metadata": {
    "collapsed": false
   }
  },
  {
   "cell_type": "markdown",
   "id": "1c130e35",
   "metadata": {},
   "source": [
    "#### Coloque o comando SQL abaixo de cada pergunta aqui no notebook (depois de testar no pgAdmin)"
   ]
  },
  {
   "cell_type": "markdown",
   "id": "df3e106b",
   "metadata": {},
   "source": [
    "1. Selecione os nomes de todos os produtos da loja.\n",
    "\n",
    "```sql\n",
    "select name from products;\n",
    "```\n",
    "\n",
    "2. Selecione os nomes e os preços de todos os produtos da loja.\n",
    "\n",
    "```sql\n",
    "select name,price from products;\n",
    "```\n",
    "\n",
    "3. Selecione o nome dos produtos com preço menor ou igual a 200.\n",
    "\n",
    "```sql\n",
    "select name from products where price <= 200;\n",
    "```\n",
    "\n",
    "4. Selecione todos os produtos com preço entre $60 e $120.\n",
    "\n",
    "```sql\n",
    "select name from products where price between 60 and 120;\n",
    "```\n",
    "\n",
    "5. Selecione o nome e o preço em centavos (ou seja, o preço deve ser multiplicado por 100).\n",
    "\n",
    "```sql\n",
    "select name,price*100 from products;\n",
    "```\n",
    "\n",
    "6. Calcule o preço médio de todos os produtos.\n",
    "\n",
    "```sql\n",
    "select avg(price) as media_preco from products;\n",
    "```\n",
    "\n",
    "7. Calcule o preço médio de todos os produtos com código de fabricante igual a 2.\n",
    "\n",
    "```sql\n",
    "select avg(price) as media_preco from products where manufacturer = 2;\n",
    "```\n",
    "\n",
    "8. Calcule o número de produtos com preço maior ou igual a 180.\n",
    "\n",
    "```sql\n",
    "select count(*) as num_produtos from products where price >= 180;\n",
    "```\n",
    "\n",
    "9. Selecione o nome e o preço de todos os produtos com preço maior ou igual a US180 e classifique primeiro por preço (em ordem decrescente) e depois por nome (em ordem crescente).\n",
    "\n",
    "```sql\n",
    "select name,price from products where price >= 180 order by price desc,name;\n",
    "```\n",
    "\n",
    "10. Selecione todos os dados dos produtos, incluindo todos os dados do fabricante de cada produto.\n",
    "\n",
    "```sql\n",
    "select\n",
    "    products.*\n",
    "    ,manufacturers.name as manufacturer_name\n",
    "from products\n",
    "inner join manufacturers\n",
    "on products.manufacturer = manufacturers.code\n",
    "order by manufacturer, products.name;\n",
    "```\n",
    "\n",
    "11.Selecione o nome do produto, preço e nome do fabricante de todos os produtos.\n",
    "\n",
    "```sql\n",
    "select\n",
    "    products.name as product_name\n",
    "    ,products.price as price\n",
    "    ,manufacturers.name as manufacturer_name\n",
    "from products\n",
    "inner join manufacturers\n",
    "on products.manufacturer = manufacturers.code\n",
    "order by manufacturer, products.name;\n",
    "```\n",
    "\n",
    "12. Selecione o preço médio dos produtos de cada fabricante, mostrando apenas o código do fabricante.\n",
    "\n",
    "```sql\n",
    "select manufacturer, avg(price) from products group by manufacturer;\n",
    "```\n",
    "\n",
    "13. Selecione o preço médio dos produtos de cada fabricante, mostrando o nome do fabricante.\n",
    "\n",
    "```sql\n",
    "-- opcao 1: Mais limpo\n",
    "select m.name, avg(p.price) from products p inner join manufacturers m on p.manufacturer = m.code group by m.name;\n",
    "\n",
    "-- opcao 2: Menos custoso? (testar com explain)\n",
    "select name,media_preco\n",
    "from\n",
    "(select manufacturer, avg(price) as media_preco\n",
    "from products group by manufacturer )\n",
    "    as t\n",
    "inner join manufacturers\n",
    "    on t.manufacturer = manufacturers.code;\n",
    "```\n",
    "\n",
    "14. Selecione os nomes dos fabricantes cujos produtos têm preço médio maior ou igual a 50.\n",
    "\n",
    "\n",
    "```sql\n",
    "with cte_media as (\n",
    "    select m.name, avg(p.price) as media_preco\n",
    "    from products p\n",
    "    inner join manufacturers m on p.manufacturer = m.code\n",
    "    group by m.name\n",
    "    )\n",
    "select name from cte_media where media_preco >= 150;\n",
    "```\n",
    "\n",
    "15. Selecione o nome e o preço do produto mais barato.\n",
    "\n",
    "```sql\n",
    "select name,price from products order by price asc limit 1;\n",
    "\n",
    "-- opcao 2\n",
    "with cte_min as (select min(price) as min_price from products)\n",
    "select name, price from products\n",
    "inner join cte_min on price = cte_min.min_price;\n",
    "```\n",
    "\n",
    "16. Selecione o nome de cada fabricante junto com o nome e o preço de seu produto mais caro.\n",
    "\n",
    "```sql\n",
    "-- seleciona considerando a possibilidade de mais de um produto com o maior preço\n",
    "with cte_max as (select manufacturer,max(price) as max_price from products group by manufacturer)\n",
    "select manufacturers.name, products.name, price from products\n",
    "right join  cte_max on price = cte_max.max_price and products.manufacturer = cte_max.manufacturer\n",
    "inner join manufacturers on manufacturers.code = products.manufacturer\n",
    "order by manufacturers.name, products.name;\n",
    "```\n",
    "\n",
    "17. Selecione o nome de cada fabricante que tenha um preço médio acima de 145 e contenha pelo menos 2 produtos diferentes.\n",
    "\n",
    "```sql\n",
    "with cte_media as (\n",
    "    select m.name, avg(p.price) as media_preco,  count(distinct p.name) as qtd_produtos\n",
    "    from products p\n",
    "    inner join manufacturers m on p.manufacturer = m.code\n",
    "    group by m.name\n",
    "    )\n",
    "select name from cte_media where media_preco > 145 and qtd_produtos> 1;\n",
    "```\n",
    "\n",
    "18. Adicione um novo produto: Alto-falantes, US 70, fabricante 2.\n",
    "\n",
    "```sql\n",
    "insert into products\n",
    "        (code, name, price, manufacturer)\n",
    "    values\n",
    "        ((select MAX(code)+1 from products), 'Alto-falantes', 70, 2);\n",
    "```\n",
    "\n",
    "19. Atualize o nome do produto 8 para \"Impressora a Laser\".\n",
    "\n",
    "```sql\n",
    "UPDATE products SET name = 'Impressora a Laser' WHERE code = 8;\n",
    "```\n",
    "\n",
    "20. Aplique um desconto de 10% em todos os produtos.\n",
    "\n",
    "```sql\n",
    "update products set price = price * (1-0.1);\n",
    "```\n",
    "\n",
    "21. Aplique um desconto de 10% em todos os produtos com preço maior ou igual a 120.\n",
    "\n",
    "```sql\n",
    "update products set price = price * (1-0.1) where price >= 120;\n",
    "```"
   ]
  },
  {
   "cell_type": "markdown",
   "id": "d0287333",
   "metadata": {},
   "source": [
    "### Gerenciamento de Empregados"
   ]
  },
  {
   "cell_type": "markdown",
   "id": "3c080baa",
   "metadata": {},
   "source": [
    "![Relacionamento](https://upload.wikimedia.org/wikipedia/commons/thumb/3/36/Employees.png/300px-Employees.png)"
   ]
  },
  {
   "cell_type": "markdown",
   "id": "568427ca",
   "metadata": {},
   "source": [
    "Crie as tabelas e relacionamentos conforme diagrama acima."
   ]
  },
  {
   "cell_type": "markdown",
   "source": [],
   "metadata": {
    "collapsed": false
   }
  },
  {
   "cell_type": "markdown",
   "source": [
    "```sql\n",
    "CREATE TABLE Departaments (\n",
    "\tCode INTEGER PRIMARY KEY NOT NULL,\n",
    "\tName CHAR(45) NOT NULL,\n",
    "\tBudget MONEY NOT NULL\n",
    ");\n",
    "\n",
    "CREATE TABLE Employees (\n",
    "    Code INTEGER PRIMARY KEY NOT NULL,\n",
    "    Name VARCHAR(100) NOT NULL,\n",
    "    Departament INTEGER NOT NULL,\n",
    "    CONSTRAINT FK_Departament_Code FOREIGN KEY (Departament) REFERENCES departaments (Code)\n",
    ");\n",
    "````"
   ],
   "metadata": {
    "collapsed": false
   }
  },
  {
   "cell_type": "code",
   "execution_count": null,
   "outputs": [],
   "source": [],
   "metadata": {
    "collapsed": false,
    "pycharm": {
     "name": "#%%\n"
    }
   }
  },
  {
   "cell_type": "markdown",
   "id": "6a638ff7",
   "metadata": {},
   "source": [
    "Insira na tabela os valores abaixo"
   ]
  },
  {
   "attachments": {},
   "cell_type": "raw",
   "id": "8d94ab25",
   "metadata": {},
   "source": [
    "DEPARTMENTS\t\t\n",
    "CODE\tNAME\t         BUDGET\n",
    "    14\tIT\t             65000\n",
    "    37\tAccounting\t     15000\n",
    "    59\tHuman Resources\t 240000\n",
    "    77\tResearch\t     55000\n"
   ]
  },
  {
   "cell_type": "raw",
   "id": "9cc0eb93",
   "metadata": {},
   "source": [
    "Employees\n",
    "ssn\t        name\t    lastname\tdepartment\n",
    "123234877\tMichael\t    Rogers\t    14\n",
    "152934485\tAnand\t    Manikutty\t14\n",
    "222364883\tCarol\t    Smith\t    37\n",
    "326587417\tJoe\t        Stevens\t    37\n",
    "332154719\tMary-Anne\tFoster\t    14\n",
    "332569843\tGeorge\t    O'Donnell\t77\n",
    "546523478\tJohn\t    Doe\t        59\n",
    "631231482\tDavid\t    Smith\t    77\n",
    "654873219\tZacary\t    Efron\t    59\n",
    "745685214\tEric\t    Goldsmith\t59\n",
    "845657245\tElizabeth\tDoe\t        14\n",
    "845657246\tKumar\t    Swamy\t    14\n"
   ]
  },
  {
   "cell_type": "markdown",
   "source": [
    "```sql\n",
    "INSERT INTO departaments\n",
    "    (code, name, budget)\n",
    "VALUES\n",
    "       (14, 'IT', 65000),\n",
    "       (37, 'Accounting', 15000),\n",
    "       (59, 'Human Resources', 240000),\n",
    "       (77, 'Research', 55000);\n",
    "\n",
    "\n",
    "-- Create new column lastname in the table employees\n",
    "ALTER TABLE employees ADD COLUMN lastname varchar(100);\n",
    "\n",
    "-- INSERT FOLLOWING DATA INTO THE TABLE employees\n",
    "\n",
    "INSERT INTO employees\n",
    "    (code, name, lastname, departament)\n",
    "VALUES\n",
    "       (123234877, 'Michael', 'Rogers', 14),\n",
    "       (152934485, 'Anand', 'Manikutty', 14),\n",
    "       (222364883, 'Carol', 'Smith', 37),\n",
    "       (326587417, 'Joe', 'Stevens', 37),\n",
    "       (332154719, 'Mary-Anne', 'Foster', 14),\n",
    "       (332569843, 'George', 'O''Donnell', 77),\n",
    "       (546523478, 'John', 'Doe', 59),\n",
    "       (631231482, 'David', 'Smith', 77),\n",
    "       (654873219, 'Zacary', 'Efron', 59),\n",
    "       (745685214, 'Eric', 'Goldsmith', 59),\n",
    "       (845657245, 'Elizabeth', 'Doe', 14),\n",
    "       (845657246, 'Kumar', 'Swamy', 14);\n",
    "```"
   ],
   "metadata": {
    "collapsed": false
   }
  },
  {
   "cell_type": "markdown",
   "source": [
    "1. Selecione o nome e o sobrenome dos funcionários que trabalham para os departamentos com o segundo menor orçamento.\n",
    "\n",
    "```sql\n",
    "select name, lastname from employees\n",
    "where departament in (\n",
    "    select code\n",
    "    from departaments\n",
    "    order by budget limit 1 offset 1\n",
    "    );\n",
    "```\n",
    "\n",
    "2. Adicione um novo departamento chamado \"Garantia de Qualidade\", com um orçamento de 40.000 e código departamental 11. Adicione um funcionário chamado \"Mary Moore\" nesse departamento, com SSN 847-21-9811.\n",
    "\n",
    "\n",
    "```sql\n",
    "INSERT INTO departaments (code, name, budget)\n",
    "VALUES (11, 'Garantia de Qualidade', 40000);\n",
    "\n",
    "INSERT INTO employees (ssn, name, lastname, departament)\n",
    "VALUES (847219811, 'Mary Moore', 'Garcia', 11);\n",
    "```\n",
    "\n",
    "3. Reduzir o orçamento de todos os departamentos em 10%.\n",
    "```sql\n",
    "UPDATE departaments SET budget = budget * (1 - 0.1);\n",
    "```\n",
    "\n",
    "4. Reatribuir todos os funcionários do departamento de Pesquisa (código 77) para o departamento de TI (código 14).\n",
    "```sql\n",
    "UPDATE employees SET departament = 14 WHERE departament = 77;\n",
    "```\n",
    "\n",
    "5. Apague da tabela todos os funcionários do departamento de TI (código 14).\n",
    "```sql\n",
    "DELETE FROM employees WHERE departament = 14;\n",
    "```\n",
    "6. Exclua da tabela todos os funcionários que trabalham em departamentos com orçamento maior ou igual a 60.000.\n",
    "```sql\n",
    "DELETE FROM employees\n",
    "WHERE departament IN (SELECT code FROM departaments WHERE budget >= 60000::money);\n",
    "```\n",
    "\n",
    "7. Exclua da tabela todos os funcionários.\n",
    "```sql\n",
    "DELETE FROM employees;\n",
    "```"
   ],
   "metadata": {
    "collapsed": false
   }
  },
  {
   "cell_type": "markdown",
   "id": "2df33685",
   "metadata": {},
   "source": [
    "### Titanic"
   ]
  },
  {
   "cell_type": "markdown",
   "id": "d41195d7",
   "metadata": {},
   "source": [
    "1 - Utilize o site do Kaggle. Iremos baixar o arquivo CSV do Titanic:https://www.kaggle.com/competitions/titanic/data?select=test.csv"
   ]
  },
  {
   "cell_type": "raw",
   "id": "cc291904",
   "metadata": {},
   "source": [
    "2 - Abaixo o dicionário de dados, que também está no Kaggle. Para este exercício, vamos manter a descrição em inglês \n",
    "\n",
    "Variable\tDefinition\t    Key\n",
    "survival\tSurvival\t    0 = No, 1 = Yes\n",
    "pclass\t    Ticket class\t1 = 1st, 2 = 2nd, 3 = 3rd\n",
    "sex\t        Sex\t\n",
    "Age\t        Age in years\t\n",
    "sibsp\t    # of siblings / spouses aboard the Titanic\t\n",
    "parch\t    # of parents / children aboard the Titanic\t\n",
    "ticket\t    Ticket number\t\n",
    "fare\t    Passenger fare\t\n",
    "cabin\t    Cabin number\t\n",
    "embarked\tPort of Embarkation\tC = Cherbourg, Q = Queenstown, S = Southampton"
   ]
  },
  {
   "cell_type": "markdown",
   "source": [],
   "metadata": {
    "collapsed": false
   }
  },
  {
   "cell_type": "markdown",
   "source": [
    "3 - O objetivo desta tarefa é:\n",
    "    a. Criar quatro tabelas: Survival, pclass, embarked e passageiros. Isso por que para as colunas que possuem uma descrição (Key) é necessário criar uma tabela para cada uma delas."
   ],
   "metadata": {
    "collapsed": false
   }
  },
  {
   "cell_type": "code",
   "execution_count": 4,
   "outputs": [],
   "source": [
    "import psycopg2\n"
   ],
   "metadata": {
    "collapsed": false,
    "pycharm": {
     "name": "#%%\n"
    }
   }
  },
  {
   "cell_type": "code",
   "execution_count": 123,
   "outputs": [
    {
     "name": "stdout",
     "output_type": "stream",
     "text": [
      "Tabelas criadas! Conexão encerrada.\n"
     ]
    }
   ],
   "source": [
    "\n",
    "table_survival = \"CREATE TABLE IF NOT EXISTS Survival(Code int primary key, description char(3));\"\n",
    "table_pclass = \"CREATE TABLE IF NOT EXISTS pclass(Code int primary key, description char(10));\"\n",
    "table_embarked = \"CREATE TABLE IF NOT EXISTS embarked(Code varchar(10) primary key, description varchar(20));\"\n",
    "table_passenger = \"\"\"CREATE TABLE IF NOT EXISTS passenger\n",
    "(\n",
    "    PassengerId int primary key,\n",
    "    Survived    int,\n",
    "    Pclass      int,\n",
    "    Name        varchar(100),\n",
    "    Sex         char(6),\n",
    "    Age         float,\n",
    "    SibSp       int,\n",
    "    Parch       int,\n",
    "    Fare      float,\n",
    "    Cabin       varchar(100),\n",
    "    Embarked    varchar(10),\n",
    "\n",
    "\n",
    "    foreign key (Survived) references survival (code),\n",
    "    foreign key (Pclass) references pclass (code),\n",
    "    foreign key (Embarked) references embarked (code)\n",
    ");\"\"\"\n",
    "\n",
    "\n",
    "conn = psycopg2.connect(host='localhost',\n",
    "                        database='exercicios',\n",
    "                        user='postgres',\n",
    "                        password= 'admin')\n",
    "\n",
    "cur = conn.cursor()\n",
    "\n",
    "try:\n",
    "    cur.execute(table_survival)\n",
    "    conn.commit()\n",
    "    cur.execute(table_pclass)\n",
    "    conn.commit()\n",
    "    cur.execute(table_embarked)\n",
    "    conn.commit()\n",
    "    cur.execute(table_passenger)\n",
    "    conn.commit()\n",
    "    cur.close()\n",
    "\n",
    "except (Exception, psycopg2.DatabaseError) as error:\n",
    "    print(error)\n",
    "finally:\n",
    "    if conn is not None:\n",
    "        conn.close()\n",
    "        print('Tabelas criadas! Conexão encerrada.')"
   ],
   "metadata": {
    "collapsed": false,
    "pycharm": {
     "name": "#%%\n"
    }
   }
  },
  {
   "cell_type": "raw",
   "source": [
    "\n",
    "    b. Usar o arquivo CSV e carregar os respectivos dados em suas tabelas. A criação das tabelas e a inclusão de registros deverá ser feito pelo python\n",
    "    c. Nas tabelas survival, pclass e emarked não deverá ter valores duplicados\n",
    "\n"
   ],
   "metadata": {
    "collapsed": false
   }
  },
  {
   "cell_type": "code",
   "execution_count": 45,
   "outputs": [],
   "source": [
    "# Function to commit sql to DB\n",
    "def commit_query(query):\n",
    "    conn = psycopg2.connect(host='localhost',\n",
    "                            database='exercicios',\n",
    "                            user='postgres',\n",
    "                            password= 'admin')\n",
    "\n",
    "    cur = conn.cursor()\n",
    "\n",
    "    try:\n",
    "        cur.execute(query)\n",
    "        conn.commit()\n",
    "        mobile_records = cur.fetchall()\n",
    "        cur.close()\n",
    "\n",
    "    except (Exception, psycopg2.DatabaseError) as error:\n",
    "        print(error)\n",
    "    finally:\n",
    "        if conn is not None:\n",
    "            conn.close()\n",
    "        return mobile_records\n",
    "\n",
    "def dataframe_to_query(df, table):\n",
    "    cols = \",\".join([str(i) for i in df.columns.tolist()])\n",
    "    sql = f\"INSERT INTO {table} ( {cols} )\\n VALUES\\n\"\n",
    "    last_row = df.shape[0] - 1\n",
    "    for i,row in df.iterrows():\n",
    "        sql = sql + str(tuple(row))\n",
    "        if i is not last_row:\n",
    "            sql = sql +',\\n'\n",
    "        else:\n",
    "            sql = sql +';'\n",
    "    return sql\n"
   ],
   "metadata": {
    "collapsed": false,
    "pycharm": {
     "name": "#%%\n"
    }
   }
  },
  {
   "cell_type": "code",
   "execution_count": 41,
   "outputs": [],
   "source": [
    "# Input Survival\n",
    "table ='survival'\n",
    "columns = ['code', 'description']\n",
    "data = [[0,'No'],[1, 'Yes']]\n",
    "df = pd.DataFrame(data, columns=columns)\n",
    "query = dataframe_to_query(df, table)\n",
    "commit_query(query)\n",
    "\n",
    "# Input Survival\n",
    "table ='pclass'\n",
    "columns = ['code', 'description']\n",
    "data = [[1,'1st class'],[2, '2nd class'],[3, '3rd class']]\n",
    "df = pd.DataFrame(data, columns=columns)\n",
    "query = dataframe_to_query(df, table)\n",
    "commit_query(query)\n",
    "\n",
    "# Input embarked\n",
    "table ='embarked'\n",
    "columns = ['code', 'description']\n",
    "data = [['C','Cherbourg'],['Q', 'Queenstown'],['S', 'Southampton']]\n",
    "df = pd.DataFrame(data, columns=columns)\n",
    "query = dataframe_to_query(df, table)\n",
    "commit_query(query)"
   ],
   "metadata": {
    "collapsed": false,
    "pycharm": {
     "name": "#%%\n"
    }
   }
  },
  {
   "cell_type": "code",
   "execution_count": 4,
   "outputs": [
    {
     "name": "stdout",
     "output_type": "stream",
     "text": [
      "Tabela Passengers povoada! Conexão encerrada.\n"
     ]
    }
   ],
   "source": [
    "import pandas as pd\n",
    "import numpy as np\n",
    "# Read titanic.csv file keep only the columns Survived, Pclass, embarked\n",
    "df = pd.read_csv('titanic.csv')\n",
    "df = df.drop(columns='Ticket')\n",
    "df = df.replace({np.nan: None})\n",
    "\n",
    "conn = psycopg2.connect(host='localhost',\n",
    "                        database='exercicios',\n",
    "                        user='postgres',\n",
    "                        password= 'admin')\n",
    "# cursor\n",
    "cur = conn.cursor()\n",
    "\n",
    "# list for inserting\n",
    "cols = \",\".join([str(i) for i in df.columns.tolist()])\n",
    "\n",
    "# insert DataFrame records one by one.\n",
    "for i,row in df.iterrows():\n",
    "    sql = \"INSERT INTO passenger (\" +cols + \") VALUES (\" + \"%s,\"*(len(row)-1) + \"%s)\"\n",
    "    cur.execute(sql, tuple(row))\n",
    "    conn.commit()\n",
    "\n",
    "cur.close()\n",
    "conn.close()\n",
    "print('Tabela Passengers povoada! Conexão encerrada.')"
   ],
   "metadata": {
    "collapsed": false,
    "pycharm": {
     "name": "#%%\n"
    }
   }
  },
  {
   "cell_type": "markdown",
   "source": [
    "4- Responder as seguintes perguntas via SQL:\n",
    "1 - Quantas pessoas sobreviveram do sexo feminino? **resposta = 233**\n",
    "```sql\n",
    "SELECT count(passengerid) FROM passenger WHERE survived = 1 AND sex = 'female';\n",
    "\n",
    "```\n",
    "\n",
    "2 - Quantas pessoas do sexo masculino não sobreviveram?  **resposta = 468**\n",
    "\n",
    "```sql\n",
    "SELECT count(passengerid) FROM passenger WHERE survived = 0 AND sex = 'male';\n",
    "\n",
    "```\n",
    "\n",
    "3 - Agrupar em um unico resultado (mas pode ser usado varias queries) quantas pessoas sobreviveram de 0 a 10 anos, sobreviveram de 11 a 20 anos, sobreviveram de 21 a 40 anos e sobreviveram acima de 40 anos. O resultado devera ter duas colunas, o nome do grupo (por ex: Pessoas de 0 a 10 anos) e a contagem\n",
    "\n",
    "**Resposta:**\n",
    "contagem, faixa_etaria\n",
    "62  Pessoas de 0 a 10 anos\n",
    "163 Pessoas de mais de 40 anos\n",
    "102 Pessoas de 11 a 20 anos\n",
    "387 Pessoas de 21 a 40 anos\n",
    "\n",
    "\n",
    "```sql\n",
    "SELECT count(age) as Contagem,\n",
    "    CASE WHEN age >= 0 AND age < 10 THEN 'Pessoas de 0 a 10 anos'\n",
    "      WHEN age >= 10 AND age < 20 THEN 'Pessoas de 11 a 20 anos'\n",
    "      WHEN age >= 20 AND age < 40 THEN 'Pessoas de 21 a 40 anos'\n",
    "      WHEN age >= 40 THEN 'Pessoas de mais de 40 anos'\n",
    "    END Faixa_Etária\n",
    "FROM passenger\n",
    "WHERE age is not NULL\n",
    "GROUP BY Faixa_etária;\n",
    "```\n"
   ],
   "metadata": {
    "collapsed": false
   }
  },
  {
   "cell_type": "raw",
   "id": "ef208924",
   "metadata": {},
   "source": [
    "5 - [Opcional] criar uma função no python para realizar o select, sendo que receberá como parâmetros o select a ser feito e os parâmetros em caso de filtro."
   ]
  },
  {
   "cell_type": "code",
   "execution_count": 33,
   "outputs": [],
   "source": [
    "def custom_select(table, columns_return, filter_list=[]):\n",
    "    sql = f\"Select {', '.join(columns_return)} from {table}\"\n",
    "\n",
    "    if filter_list != []:\n",
    "        sql += ' WHERE '\n",
    "        for i,filter in enumerate(filter_list):\n",
    "            if i != 0:\n",
    "                sql += ' AND '\n",
    "            sql += filter\n",
    "        sql += ';'\n",
    "\n",
    "    return sql"
   ],
   "metadata": {
    "collapsed": false,
    "pycharm": {
     "name": "#%%\n"
    }
   }
  },
  {
   "cell_type": "code",
   "execution_count": 53,
   "id": "a7e03010",
   "metadata": {},
   "outputs": [
    {
     "name": "stdout",
     "output_type": "stream",
     "text": [
      "query usado: Select name, sex, age from passenger WHERE survived = 1 AND sex = 'female';\n",
      "Resultados:\n"
     ]
    },
    {
     "data": {
      "text/plain": "[('Cumings, Mrs. John Bradley (Florence Briggs Thayer)', 'female', 38.0),\n ('Heikkinen, Miss. Laina', 'female', 26.0),\n ('Futrelle, Mrs. Jacques Heath (Lily May Peel)', 'female', 35.0),\n ('Johnson, Mrs. Oscar W (Elisabeth Vilhelmina Berg)', 'female', 27.0),\n ('Nasser, Mrs. Nicholas (Adele Achem)', 'female', 14.0),\n ('Sandstrom, Miss. Marguerite Rut', 'female', 4.0),\n ('Bonnell, Miss. Elizabeth', 'female', 58.0),\n ('Hewlett, Mrs. (Mary D Kingcome) ', 'female', 55.0),\n ('Masselmani, Mrs. Fatima', 'female', None),\n ('McGowan, Miss. Anna \"Annie\"', 'female', 15.0),\n ('Asplund, Mrs. Carl Oscar (Selma Augusta Emilia Johansson)', 'female', 38.0),\n ('O\\'Dwyer, Miss. Ellen \"Nellie\"', 'female', None),\n ('Spencer, Mrs. William Augustus (Marie Eugenie)', 'female', None),\n ('Glynn, Miss. Mary Agatha', 'female', None),\n ('Nicola-Yarred, Miss. Jamila', 'female', 14.0),\n ('Laroche, Miss. Simonne Marie Anne Andree', 'female', 3.0),\n ('Devaney, Miss. Margaret Delia', 'female', 19.0),\n (\"O'Driscoll, Miss. Bridget\", 'female', None),\n ('Harper, Mrs. Henry Sleeper (Myna Haxtun)', 'female', 49.0),\n ('Faunthorpe, Mrs. Lizzie (Elizabeth Anne Wilkinson)', 'female', 29.0),\n ('Rugg, Miss. Emily', 'female', 21.0),\n ('West, Miss. Constance Mirium', 'female', 5.0),\n ('Icard, Miss. Amelie', 'female', 38.0),\n ('Nye, Mrs. (Elizabeth Ramell)', 'female', 29.0),\n ('Andersson, Miss. Erna Alexandra', 'female', 17.0),\n ('Dowdell, Miss. Elizabeth', 'female', 30.0),\n ('McDermott, Miss. Brigdet Delia', 'female', None),\n ('Ilett, Miss. Bertha', 'female', 17.0),\n ('Backstrom, Mrs. Karl Alfred (Maria Mathilda Gustafsson)', 'female', 33.0),\n ('Fortune, Miss. Mabel Helen', 'female', 23.0),\n ('Doling, Mrs. John T (Ada Julia Bone)', 'female', 34.0),\n ('Salkjelsvik, Miss. Anna Kristine', 'female', 21.0),\n ('Moran, Miss. Bertha', 'female', None),\n ('Webber, Miss. Susan', 'female', 32.5),\n ('Peter, Miss. Anna', 'female', None),\n ('Weisz, Mrs. Leopold (Mathilde Francoise Pede)', 'female', 29.0),\n ('Newsom, Miss. Helen Monypeny', 'female', 19.0),\n ('Nysten, Miss. Anna Sofia', 'female', 22.0),\n ('Hakkarainen, Mrs. Pekka Pietari (Elin Matilda Dolck)', 'female', 24.0),\n ('Pears, Mrs. Thomas (Edith Wearne)', 'female', 22.0),\n ('Gilnagh, Miss. Katherine \"Katie\"', 'female', 16.0),\n ('Watt, Mrs. James (Elizabeth \"Bessie\" Inglis Milne)', 'female', 40.0),\n ('Chibnall, Mrs. (Edith Martha Bowerman)', 'female', None),\n ('Johnson, Miss. Eleanor Ileen', 'female', 1.0),\n ('Kink-Heilmann, Miss. Luise Gretchen', 'female', 4.0),\n ('O\\'Brien, Mrs. Thomas (Johanna \"Hannah\" Godfrey)', 'female', None),\n ('Pinsky, Mrs. (Rosa)', 'female', 32.0),\n ('Andersen-Jensen, Miss. Carla Christine Nielsine', 'female', 19.0),\n ('Brown, Mrs. James Joseph (Margaret Tobin)', 'female', 44.0),\n ('Lurette, Miss. Elise', 'female', 58.0),\n ('Madigan, Miss. Margaret \"Maggie\"', 'female', None),\n ('Carr, Miss. Helen \"Ellen\"', 'female', 16.0),\n ('Cameron, Miss. Clear Annie', 'female', 35.0),\n ('Newell, Miss. Madeleine', 'female', 31.0),\n ('Honkanen, Miss. Eliina', 'female', 27.0),\n ('Bazzani, Miss. Albina', 'female', 32.0),\n ('Harris, Mrs. Henry Birkhardt (Irene Wallach)', 'female', 35.0),\n ('Asplund, Miss. Lillian Gertrud', 'female', 5.0),\n ('Collyer, Miss. Marjorie \"Lottie\"', 'female', 8.0),\n ('Murphy, Miss. Katherine \"Kate\"', 'female', None),\n ('Hamalainen, Mrs. William (Anna)', 'female', 24.0),\n ('Touma, Mrs. Darwis (Hanne Youssef Razi)', 'female', 29.0),\n ('Thorne, Mrs. Gertrude Maybelle', 'female', None),\n ('Cherry, Miss. Gladys', 'female', 30.0),\n ('Ward, Miss. Anna', 'female', 35.0),\n ('Parrish, Mrs. (Lutie Davis)', 'female', 50.0),\n ('Graham, Mrs. William Thompson (Edith Junkins)', 'female', 58.0),\n ('Bissette, Miss. Amelia', 'female', 35.0),\n ('Mellinger, Mrs. (Elizabeth Anne Maidment)', 'female', 41.0),\n ('Healy, Miss. Hanora \"Nora\"', 'female', None),\n ('Andrews, Miss. Kornelia Theodosia', 'female', 63.0),\n ('Abbott, Mrs. Stanton (Rosa Hunt)', 'female', 35.0),\n ('Connolly, Miss. Kate', 'female', 22.0),\n ('Barber, Miss. Ellen \"Nellie\"', 'female', 26.0),\n ('Bishop, Mrs. Dickinson H (Helen Walton)', 'female', 19.0),\n ('Baxter, Mrs. James (Helene DeLaudeniere Chaput)', 'female', 50.0),\n ('Kelly, Miss. Anna Katherine \"Annie Kate\"', 'female', None),\n ('Keane, Miss. Nora A', 'female', None),\n ('Fleming, Miss. Margaret', 'female', None),\n ('Penasco y Castellana, Mrs. Victor de Satode (Maria Josefa Perez de Soto y Vallejo)',\n  'female',\n  17.0),\n ('Francatelli, Miss. Laura Mabel', 'female', 30.0),\n ('Hays, Miss. Margaret Bechstein', 'female', 24.0),\n ('Ryerson, Miss. Emily Borie', 'female', 18.0),\n ('Nilsson, Miss. Helmina Josefina', 'female', 26.0),\n ('Kantor, Mrs. Sinai (Miriam Sternin)', 'female', 24.0),\n ('Wick, Miss. Mary Natalie', 'female', 31.0),\n ('Spedden, Mrs. Frederic Oakley (Margaretta Corning Stone)', 'female', 40.0),\n ('Slayter, Miss. Hilda Mary', 'female', 30.0),\n ('Caldwell, Mrs. Albert Francis (Sylvia Mae Harbaugh)', 'female', 22.0),\n ('Young, Miss. Marie Grice', 'female', 36.0),\n ('Ball, Mrs. (Ada E Hall)', 'female', 36.0),\n ('Goldsmith, Mrs. Frank John (Emily Alice Brown)', 'female', 31.0),\n ('Hippach, Miss. Jean Gertrude', 'female', 16.0),\n ('McCoy, Miss. Agnes', 'female', None),\n ('Frauenthal, Mrs. Henry William (Clara Heinsheimer)', 'female', None),\n ('Burns, Miss. Elizabeth Margaret', 'female', 41.0),\n ('Fortune, Miss. Alice Elizabeth', 'female', 24.0),\n ('Brown, Miss. Amelia \"Mildred\"', 'female', 24.0),\n ('Smith, Miss. Marion Elsie', 'female', 40.0),\n ('Davison, Mrs. Thomas Henry (Mary E Finck)', 'female', None),\n ('Bowerman, Miss. Elsie Edith', 'female', 22.0),\n ('McGovern, Miss. Mary', 'female', None),\n ('Mockler, Miss. Helen Mary \"Ellie\"', 'female', None),\n ('Warren, Mrs. Frank Manley (Anna Sophia Atkinson)', 'female', 60.0),\n ('Moussa, Mrs. (Mantoura Boulos)', 'female', None),\n ('Jermyn, Miss. Annie', 'female', None),\n ('Aubart, Mme. Leontine Pauline', 'female', 24.0),\n ('Meyer, Mrs. Edgar Joseph (Leila Saks)', 'female', None),\n ('Landergren, Miss. Aurora Adelia', 'female', 22.0),\n ('Bidois, Miss. Rosalie', 'female', 42.0),\n ('Nakid, Miss. Maria (\"Mary\")', 'female', 1.0),\n ('Holverson, Mrs. Alexander Oskar (Mary Aline Towner)', 'female', 35.0),\n ('Buss, Miss. Kate', 'female', 36.0),\n ('Lehmann, Miss. Bertha', 'female', 17.0),\n ('Newell, Miss. Marjorie', 'female', 23.0),\n ('Sandstrom, Mrs. Hjalmar (Agnes Charlotta Bengtsson)', 'female', 24.0),\n ('Trout, Mrs. William H (Jessie L)', 'female', 28.0),\n ('Minahan, Miss. Daisy E', 'female', 33.0),\n ('Drew, Mrs. James Vivian (Lulu Thorne Christian)', 'female', 34.0),\n ('Silven, Miss. Lyyli Karoliina', 'female', 18.0),\n ('Clarke, Mrs. Charles V (Ada Maria Winfield)', 'female', 28.0),\n ('Phillips, Miss. Kate Florence (\"Mrs Kate Louise Phillips Marshall\")',\n  'female',\n  19.0),\n ('Thorneycroft, Mrs. Percival (Florence Kate White)', 'female', None),\n ('Louch, Mrs. Charles Alexander (Alice Adelaide Slow)', 'female', 42.0),\n ('Carter, Miss. Lucile Polk', 'female', 14.0),\n ('Richards, Mrs. Sidney (Emily Hocking)', 'female', 24.0),\n ('Hart, Mrs. Benjamin (Esther Ada Bloomfield)', 'female', 45.0),\n ('Reynaldo, Ms. Encarnacion', 'female', 28.0),\n ('Mellinger, Miss. Madeleine Violet', 'female', 13.0),\n ('Baclini, Miss. Marie Catherine', 'female', 5.0),\n ('Kenyon, Mrs. Frederick R (Marion)', 'female', None),\n ('Toomey, Miss. Ellen', 'female', 50.0),\n ('Baclini, Miss. Helene Barbara', 'female', 0.75),\n ('West, Mrs. Edwy Arthur (Ada Mary Worth)', 'female', 33.0),\n ('Jerwan, Mrs. Amin S (Marie Marthe Thuillard)', 'female', 23.0),\n ('Hirvonen, Miss. Hildur E', 'female', 2.0),\n ('Turkula, Mrs. (Hedwig)', 'female', 63.0),\n ('Hoyt, Mrs. Frederick Maxfield (Jane Anne Forby)', 'female', 35.0),\n ('Eustis, Miss. Elizabeth Mussey', 'female', 54.0),\n ('Maioni, Miss. Roberta', 'female', 16.0),\n ('Quick, Mrs. Frederick Charles (Jane Richards)', 'female', 33.0),\n ('Rothschild, Mrs. Martin (Elizabeth L. Barrett)', 'female', 54.0),\n ('Lemore, Mrs. (Amelia Milley)', 'female', 34.0),\n ('Angle, Mrs. William A (Florence \"Mary\" Agnes Hughes)', 'female', 36.0),\n ('Perreault, Miss. Anne', 'female', 30.0),\n ('Hippach, Mrs. Louis Albert (Ida Sophia Fischer)', 'female', 44.0),\n ('Ridsdale, Miss. Lucy', 'female', 50.0),\n ('Quick, Miss. Phyllis May', 'female', 2.0),\n ('Peter, Mrs. Catherine (Catherine Rizk)', 'female', None),\n ('Hart, Miss. Eva Miriam', 'female', 7.0),\n ('LeRoy, Miss. Bertha', 'female', 30.0),\n ('Frolicher, Miss. Hedwig Margaritha', 'female', 22.0),\n ('Crosby, Miss. Harriet R', 'female', 36.0),\n ('Beane, Mrs. Edward (Ethel Clarke)', 'female', 19.0),\n ('Ohman, Miss. Velin', 'female', 22.0),\n ('Duff Gordon, Lady. (Lucille Christiana Sutherland) (\"Mrs Morgan\")',\n  'female',\n  48.0),\n ('Taussig, Mrs. Emil (Tillie Mandelbaum)', 'female', 39.0),\n ('de Messemaeker, Mrs. Guillaume Joseph (Emma)', 'female', 36.0),\n ('Appleton, Mrs. Edward Dale (Charlotte Lamson)', 'female', 53.0),\n ('Kelly, Miss. Mary', 'female', None),\n ('Garside, Miss. Ethel', 'female', 34.0),\n ('Silvey, Mrs. William Baird (Alice Munger)', 'female', 39.0),\n ('Christy, Miss. Julie Rachel', 'female', 25.0),\n ('Thayer, Mrs. John Borland (Marian Longstreth Morris)', 'female', 39.0),\n ('Taussig, Miss. Ruth', 'female', 18.0),\n ('Stephenson, Mrs. Walter Bertram (Martha Eustis)', 'female', 52.0),\n ('Leitch, Miss. Jessie Wills', 'female', None),\n ('Jacobsohn, Mrs. Sidney Samuel (Amy Frances Christy)', 'female', 24.0),\n ('Laroche, Mrs. Joseph (Juliette Marie Louise Lafargue)', 'female', 22.0),\n ('Shutes, Miss. Elizabeth W', 'female', 40.0),\n ('Murphy, Miss. Margaret Jane', 'female', None),\n ('Herman, Miss. Alice', 'female', 24.0),\n ('Becker, Miss. Marion Louise', 'female', 4.0),\n ('Longley, Miss. Gretchen Fiske', 'female', 21.0),\n ('Davis, Miss. Mary', 'female', 28.0),\n ('Sagesser, Mlle. Emma', 'female', 24.0),\n ('Baclini, Miss. Eugenie', 'female', 0.75),\n ('Stanley, Miss. Amy Zillah Elsie', 'female', 23.0),\n ('Doling, Miss. Elsie', 'female', 18.0),\n ('O\\'Leary, Miss. Hanora \"Norah\"', 'female', None),\n ('Taylor, Mrs. Elmer Zebley (Juliet Cummins Wright)', 'female', None),\n ('Brown, Mrs. Thomas William Solomon (Elizabeth Catherine Ford)',\n  'female',\n  40.0),\n ('Turja, Miss. Anna Sofia', 'female', 18.0),\n ('Madill, Miss. Georgette Alexandra', 'female', 15.0),\n ('Karun, Miss. Manca', 'female', 4.0),\n ('Mullens, Miss. Katherine \"Katie\"', 'female', None),\n ('Astor, Mrs. John Jacob (Madeleine Talmadge Force)', 'female', 18.0),\n ('Kelly, Mrs. Florence \"Fannie\"', 'female', 45.0),\n ('Cleaver, Miss. Alice', 'female', 22.0),\n ('Mayne, Mlle. Berthe Antonine (\"Mrs de Villiers\")', 'female', 24.0),\n ('Endres, Miss. Caroline Louise', 'female', 38.0),\n ('Troutt, Miss. Edwina Celia \"Winnie\"', 'female', 27.0),\n ('Harper, Miss. Annie Jessie \"Nina\"', 'female', 6.0),\n ('Renouf, Mrs. Peter Henry (Lillian Jefferys)', 'female', 30.0),\n ('Mannion, Miss. Margareth', 'female', None),\n ('Allen, Miss. Elisabeth Walton', 'female', 29.0),\n ('Ryerson, Miss. Susan Parker \"Suzette\"', 'female', 21.0),\n ('Sinkkonen, Miss. Anna', 'female', 30.0),\n ('Wells, Miss. Joan', 'female', 4.0),\n ('Herman, Mrs. Samuel (Jane Laver)', 'female', 48.0),\n ('Rothes, the Countess. of (Lucy Noel Martha Dyer-Edwards)', 'female', 33.0),\n ('Carter, Mrs. William Ernest (Lucile Polk)', 'female', 36.0),\n ('Hogeboom, Mrs. John C (Anna Andrews)', 'female', 51.0),\n ('Hocking, Mrs. Elizabeth (Eliza Needs)', 'female', 54.0),\n ('Emanuel, Miss. Virginia Ethel', 'female', 5.0),\n ('Robert, Mrs. Edward Scott (Elisabeth Walton McMillan)', 'female', 43.0),\n ('Ayoub, Miss. Banoura', 'female', 13.0),\n ('Dick, Mrs. Albert Adrian (Vera Gillespie)', 'female', 17.0),\n ('Sjoblom, Miss. Anna Sofia', 'female', 18.0),\n ('Leader, Dr. Alice (Farnham)', 'female', 49.0),\n ('Osman, Mrs. Mara', 'female', 31.0),\n ('Collyer, Mrs. Harvey (Charlotte Annie Tate)', 'female', 31.0),\n ('Chambers, Mrs. Norman Campbell (Bertha Griggs)', 'female', 33.0),\n ('Hays, Mrs. Charles Melville (Clara Jennings Gregg)', 'female', 52.0),\n ('Moor, Mrs. (Beila)', 'female', 27.0),\n ('Stone, Mrs. George Nelson (Martha Evelyn)', 'female', 62.0),\n ('Yasbeck, Mrs. Antoni (Selini Alexander)', 'female', 15.0),\n ('Compton, Miss. Sara Rebecca', 'female', 39.0),\n ('Serepeca, Miss. Augusta', 'female', 30.0),\n ('Goldenberg, Mrs. Samuel L (Edwiga Grabowska)', 'female', None),\n ('Lines, Miss. Mary Conover', 'female', 16.0),\n ('Aks, Mrs. Sam (Leah Rosen)', 'female', 18.0),\n ('Wick, Mrs. George Dennick (Mary Hitchcock)', 'female', 45.0),\n ('Baclini, Mrs. Solomon (Latifa Qurban)', 'female', 24.0),\n ('Swift, Mrs. Frederick Joel (Margaret Welles Barron)', 'female', 48.0),\n ('Bystrom, Mrs. (Karolina)', 'female', 42.0),\n ('Duran y More, Miss. Asuncion', 'female', 27.0),\n ('Beckwith, Mrs. Richard Leonard (Sallie Monypeny)', 'female', 47.0),\n ('Abelson, Mrs. Samuel (Hannah Wizosky)', 'female', 28.0),\n ('Najib, Miss. Adele Kiamie \"Jane\"', 'female', 15.0),\n ('Potter, Mrs. Thomas Jr (Lily Alexenia Wilson)', 'female', 56.0),\n ('Shelley, Mrs. William (Imanita Parrish Hall)', 'female', 25.0),\n ('Graham, Miss. Margaret Edith', 'female', 19.0)]"
     },
     "execution_count": 53,
     "metadata": {},
     "output_type": "execute_result"
    }
   ],
   "source": [
    "table = 'passenger'\n",
    "columns_return = ['name', 'sex', 'age']\n",
    "filter = ['survived = 1', \"sex = 'female'\"]\n",
    "query = custom_select(table, columns_return, filter)\n",
    "print('query usado:', query)\n",
    "print('Resultados:')\n",
    "commit_query(query)\n"
   ]
  },
  {
   "cell_type": "code",
   "execution_count": null,
   "outputs": [],
   "source": [],
   "metadata": {
    "collapsed": false,
    "pycharm": {
     "name": "#%%\n"
    }
   }
  }
 ],
 "metadata": {
  "kernelspec": {
   "display_name": "Python 3 (ipykernel)",
   "language": "python",
   "name": "python3"
  },
  "language_info": {
   "codemirror_mode": {
    "name": "ipython",
    "version": 3
   },
   "file_extension": ".py",
   "mimetype": "text/x-python",
   "name": "python",
   "nbconvert_exporter": "python",
   "pygments_lexer": "ipython3",
   "version": "3.9.7"
  }
 },
 "nbformat": 4,
 "nbformat_minor": 5
}