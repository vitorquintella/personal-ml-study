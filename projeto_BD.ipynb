{
 "cells": [
  {
   "cell_type": "markdown",
   "id": "9acedc11",
   "metadata": {},
   "source": [
    "### Exercícios\n",
    "Vitor Quintella e Samya De'Lara"
   ]
  },
  {
   "cell_type": "markdown",
   "id": "412f5725",
   "metadata": {},
   "source": [
    "Crie um novo banco de dados chamado exercicios (se ele já não existir)"
   ]
  },
  {
   "cell_type": "markdown",
   "id": "6db17181",
   "metadata": {},
   "source": [
    "### Loja de Computadores"
   ]
  },
  {
   "cell_type": "markdown",
   "id": "932f14c8",
   "metadata": {},
   "source": [
    "Execute o código abaixo para criação de tabelas que serão usadas"
   ]
  },
  {
   "cell_type": "markdown",
   "source": [
    "``` sql\n",
    "CREATE TABLE Manufacturers (\n",
    "\tCode INTEGER PRIMARY KEY NOT NULL,\n",
    "\tName CHAR(50) NOT NULL\n",
    ");\n",
    "\n",
    "CREATE TABLE Products (\n",
    "\tCode INTEGER PRIMARY KEY NOT NULL,\n",
    "\tName CHAR(50) NOT NULL ,\n",
    "\tPrice REAL NOT NULL ,\n",
    "\tManufacturer INTEGER NOT NULL\n",
    "\t\tCONSTRAINT fk_Manufacturers_Code REFERENCES Manufacturers(Code)\n",
    ");\n",
    "\n",
    "INSERT INTO Manufacturers\n",
    "    (Code,Name)\n",
    "VALUES\n",
    "    (1,'Sony'),\n",
    "    (2,'Creative Labs'),\n",
    "    (3,'Hewlett-Packard'),\n",
    "    (4,'Iomega'),\n",
    "    (5,'Fujitsu'),\n",
    "    (6,'Winchester');\n",
    "\n",
    "INSERT INTO\n",
    "    Products(Code,Name,Price,Manufacturer)\n",
    "VALUES\n",
    "    (1,'Hard drive',240,5),\n",
    "    (2,'Memory',120,6),\n",
    "    (3,'ZIP drive',150,4),\n",
    "    (4,'Floppy disk',5,6),\n",
    "    (5,'Monitor',240,1),\n",
    "    (6,'DVD drive',180,2),\n",
    "    (7,'CD drive',90,2),\n",
    "    (8,'Printer',270,3),\n",
    "    (9,'Toner cartridge',66,3),\n",
    "    (10,'DVD burner',180,2);\n",
    "```"
   ],
   "metadata": {
    "collapsed": false
   }
  },
  {
   "cell_type": "markdown",
   "id": "1c130e35",
   "metadata": {},
   "source": [
    "#### Coloque o comando SQL abaixo de cada pergunta aqui no notebook (depois de testar no pgAdmin)"
   ]
  },
  {
   "cell_type": "markdown",
   "id": "df3e106b",
   "metadata": {},
   "source": [
    "1. Selecione os nomes de todos os produtos da loja.\n",
    "```sql\n",
    "select name from products;\n",
    "```\n",
    "\n",
    "2. Selecione os nomes e os preços de todos os produtos da loja.\n",
    "```sql\n",
    "select name,price from products;\n",
    "```\n",
    "\n",
    "3. Selecione o nome dos produtos com preço menor ou igual a $200.\n",
    "```sql\n",
    "select name from products where price <= 200;\n",
    "```\n",
    "4. Selecione todos os produtos com preço entre $60 e $120.\n",
    "```sql\n",
    "select name from products where price between 60 and 120;\n",
    "```\n",
    "5. Selecione o nome e o preço em centavos (ou seja, o preço deve ser multiplicado por 100).\n",
    "```sql\n",
    "select name,price*100 from products;\n",
    "```\n",
    "\n",
    "6. Calcule o preço médio de todos os produtos.\n",
    "```sql\n",
    "select avg(price) as media_preco from products;\n",
    "```\n",
    "\n",
    "7. Calcule o preço médio de todos os produtos com código de fabricante igual a 2.\n",
    "```sql\n",
    "select avg(price) as media_preco from products where manufacturer = 2;\n",
    "```\n",
    "\n",
    "8. Calcule o número de produtos com preço maior ou igual a $180.\n",
    "```sql\n",
    "select count(*) as num_produtos from products where price >= 180;\n",
    "```\n",
    "\n",
    "9. Selecione o nome e o preço de todos os produtos com preço maior ou igual a US$ 180 e classifique primeiro por preço (em ordem decrescente) e depois por nome (em ordem crescente).\n",
    "```sql\n",
    "select name,price from products where price >= 180 order by price desc,name;\n",
    "```\n",
    "\n",
    "10. Selecione todos os dados dos produtos, incluindo todos os dados do fabricante de cada produto.\n",
    "\n",
    "```sql\n",
    "select\n",
    "    products.*\n",
    "    ,manufacturers.name as manufacturer_name\n",
    "from products\n",
    "inner join manufacturers\n",
    "on products.manufacturer = manufacturers.code\n",
    "order by manufacturer, products.name;\n",
    "```\n",
    "11.Selecione o nome do produto, preço e nome do fabricante de todos os produtos.\n",
    "\n",
    "```sql\n",
    "select\n",
    "    products.name as product_name\n",
    "    ,products.price as price\n",
    "    ,manufacturers.name as manufacturer_name\n",
    "from products\n",
    "inner join manufacturers\n",
    "on products.manufacturer = manufacturers.code\n",
    "order by manufacturer, products.name;\n",
    "```\n",
    "\n",
    "12. Selecione o preço médio dos produtos de cada fabricante, mostrando apenas o código do fabricante.\n",
    "```sql\n",
    "select manufacturer, avg(price) from products group by manufacturer;\n",
    "```\n",
    "\n",
    "13. Selecione o preço médio dos produtos de cada fabricante, mostrando o nome do fabricante.\n",
    "-- opcao 1: Mais limpo\n",
    "```sql\n",
    "select m.name, avg(p.price) from products p inner join manufacturers m on p.manufacturer = m.code group by m.name;\n",
    "```\n",
    "\n",
    "-- opcao 2: Menos custoso? (testar com explain)\n",
    "```sql\n",
    "select name,media_preco\n",
    "from\n",
    "(select manufacturer, avg(price) as media_preco\n",
    "from products group by manufacturer )\n",
    "    as t\n",
    "inner join manufacturers\n",
    "    on t.manufacturer = manufacturers.code;\n",
    "```\n",
    "\n",
    "14. Selecione os nomes dos fabricantes cujos produtos têm preço médio maior ou igual a $150.\n",
    "```sql\n",
    "with cte_media as (\n",
    "    select m.name, avg(p.price) as media_preco\n",
    "    from products p\n",
    "    inner join manufacturers m on p.manufacturer = m.code\n",
    "    group by m.name\n",
    "    )\n",
    "select name from cte_media where media_preco >= 150;\n",
    "```\n",
    "15. Selecione o nome e o preço do produto mais barato.\n",
    "```sql\n",
    "select name,price from products order by price asc limit 1;\n",
    "\n",
    "-- opcao 2\n",
    "with cte_min as (select min(price) as min_price from products)\n",
    "select name, price from products\n",
    "inner join cte_min on price = cte_min.min_price;\n",
    "```\n",
    "\n",
    "16. Selecione o nome de cada fabricante junto com o nome e o preço de seu produto mais caro.\n",
    "```sql\n",
    "\n",
    "-- seleciona considerando a possibilidade de mais de um produto com o maior preço\n",
    "with cte_max as (select manufacturer,max(price) as max_price from products group by manufacturer)\n",
    "select manufacturers.name, products.name, price from products\n",
    "right join  cte_max on price = cte_max.max_price and products.manufacturer = cte_max.manufacturer\n",
    "inner join manufacturers on manufacturers.code = products.manufacturer\n",
    "order by manufacturers.name, products.name;\n",
    "```\n",
    "\n",
    "17. Selecione o nome de cada fabricante que tenha um preço médio acima de $ 145 e contenha pelo menos 2 produtos diferentes.\n",
    "```sql\n",
    "with cte_media as (\n",
    "    select m.name, avg(p.price) as media_preco,  count(distinct p.name) as qtd_produtos\n",
    "    from products p\n",
    "    inner join manufacturers m on p.manufacturer = m.code\n",
    "    group by m.name\n",
    "    )\n",
    "select name from cte_media where media_preco > 145 and qtd_produtos> 1;\n",
    "```\n",
    "\n",
    "18. Adicione um novo produto: Alto-falantes, US$ 70, fabricante 2.\n",
    "```sql\n",
    "insert into products\n",
    "        (code, name, price, manufacturer)\n",
    "    values\n",
    "        ((select MAX(code)+1 from products), 'Alto-falantes', 70, 2);\n",
    "```\n",
    "19. Atualize o nome do produto 8 para \"Impressora a Laser\".\n",
    "```sql\n",
    "UPDATE products SET name = 'Impressora a Laser' WHERE code = 8;\n",
    "```\n",
    "20. Aplique um desconto de 10% em todos os produtos.\n",
    "```sql\n",
    "update products set price = price * (1-0.1);\n",
    "```\n",
    "21. Aplique um desconto de 10% em todos os produtos com preço maior ou igual a $120.\n",
    "```sql\n",
    "update products set price = price * (1-0.1) where price >= 120;\n",
    "```"
   ]
  },
  {
   "cell_type": "markdown",
   "id": "d0287333",
   "metadata": {},
   "source": [
    "### Gerenciamento de Empregados"
   ]
  },
  {
   "cell_type": "markdown",
   "id": "3c080baa",
   "metadata": {},
   "source": [
    "![Relacionamento](https://upload.wikimedia.org/wikipedia/commons/thumb/3/36/Employees.png/300px-Employees.png)"
   ]
  },
  {
   "cell_type": "markdown",
   "id": "568427ca",
   "metadata": {},
   "source": [
    "Crie as tabelas e relacionamentos conforme diagrama acima."
   ]
  },
  {
   "cell_type": "markdown",
   "source": [],
   "metadata": {
    "collapsed": false
   }
  },
  {
   "cell_type": "markdown",
   "source": [
    "```sql\n",
    "CREATE TABLE Departaments (\n",
    "\tCode INTEGER PRIMARY KEY NOT NULL,\n",
    "\tName CHAR(45) NOT NULL,\n",
    "\tBudget MONEY NOT NULL\n",
    ");\n",
    "\n",
    "CREATE TABLE Employees (\n",
    "    Code INTEGER PRIMARY KEY NOT NULL,\n",
    "    Name VARCHAR(100) NOT NULL,\n",
    "    Departament INTEGER NOT NULL,\n",
    "    CONSTRAINT FK_Departament_Code FOREIGN KEY (Departament) REFERENCES departaments (Code)\n",
    ");\n",
    "````"
   ],
   "metadata": {
    "collapsed": false
   }
  },
  {
   "cell_type": "code",
   "execution_count": null,
   "outputs": [],
   "source": [],
   "metadata": {
    "collapsed": false,
    "pycharm": {
     "name": "#%%\n"
    }
   }
  },
  {
   "cell_type": "markdown",
   "id": "6a638ff7",
   "metadata": {},
   "source": [
    "Insira na tabela os valores abaixo"
   ]
  },
  {
   "attachments": {},
   "cell_type": "raw",
   "id": "8d94ab25",
   "metadata": {},
   "source": [
    "DEPARTMENTS\t\t\n",
    "CODE\tNAME\t         BUDGET\n",
    "    14\tIT\t             65000\n",
    "    37\tAccounting\t     15000\n",
    "    59\tHuman Resources\t 240000\n",
    "    77\tResearch\t     55000\n"
   ]
  },
  {
   "cell_type": "raw",
   "id": "9cc0eb93",
   "metadata": {},
   "source": [
    "Employees\n",
    "ssn\t        name\t    lastname\tdepartment\n",
    "123234877\tMichael\t    Rogers\t    14\n",
    "152934485\tAnand\t    Manikutty\t14\n",
    "222364883\tCarol\t    Smith\t    37\n",
    "326587417\tJoe\t        Stevens\t    37\n",
    "332154719\tMary-Anne\tFoster\t    14\n",
    "332569843\tGeorge\t    O'Donnell\t77\n",
    "546523478\tJohn\t    Doe\t        59\n",
    "631231482\tDavid\t    Smith\t    77\n",
    "654873219\tZacary\t    Efron\t    59\n",
    "745685214\tEric\t    Goldsmith\t59\n",
    "845657245\tElizabeth\tDoe\t        14\n",
    "845657246\tKumar\t    Swamy\t    14\n"
   ]
  },
  {
   "cell_type": "markdown",
   "source": [
    "```sql\n",
    "INSERT INTO departaments\n",
    "    (code, name, budget)\n",
    "VALUES\n",
    "       (14, 'IT', 65000),\n",
    "       (37, 'Accounting', 15000),\n",
    "       (59, 'Human Resources', 240000),\n",
    "       (77, 'Research', 55000);\n",
    "\n",
    "\n",
    "-- Create new column lastname in the table employees\n",
    "ALTER TABLE employees ADD COLUMN lastname varchar(100);\n",
    "\n",
    "-- INSERT FOLLOWING DATA INTO THE TABLE employees\n",
    "\n",
    "INSERT INTO employees\n",
    "    (code, name, lastname, departament)\n",
    "VALUES\n",
    "       (123234877, 'Michael', 'Rogers', 14),\n",
    "       (152934485, 'Anand', 'Manikutty', 14),\n",
    "       (222364883, 'Carol', 'Smith', 37),\n",
    "       (326587417, 'Joe', 'Stevens', 37),\n",
    "       (332154719, 'Mary-Anne', 'Foster', 14),\n",
    "       (332569843, 'George', 'O''Donnell', 77),\n",
    "       (546523478, 'John', 'Doe', 59),\n",
    "       (631231482, 'David', 'Smith', 77),\n",
    "       (654873219, 'Zacary', 'Efron', 59),\n",
    "       (745685214, 'Eric', 'Goldsmith', 59),\n",
    "       (845657245, 'Elizabeth', 'Doe', 14),\n",
    "       (845657246, 'Kumar', 'Swamy', 14);\n",
    "```"
   ],
   "metadata": {
    "collapsed": false
   }
  },
  {
   "cell_type": "raw",
   "id": "9620fc10",
   "metadata": {},
   "source": [
    "1. Selecione o nome e o sobrenome dos funcionários que trabalham para os departamentos com o segundo menor orçamento.\n",
    "\n",
    "2. Adicione um novo departamento chamado \"Garantia de Qualidade\", com um orçamento de $ 40.000 e código departamental 11. Adicione um funcionário chamado \"Mary Moore\" nesse departamento, com SSN 847-21-9811.\n",
    "\n",
    "3. Reduzir o orçamento de todos os departamentos em 10%.\n",
    "\n",
    "4. Reatribuir todos os funcionários do departamento de Pesquisa (código 77) para o departamento de TI (código 14).\n",
    "\n",
    "5. Apague da tabela todos os funcionários do departamento de TI (código 14).\n",
    "\n",
    "6. Exclua da tabela todos os funcionários que trabalham em departamentos com orçamento maior ou igual a $ 60.000.\n",
    "\n",
    "7. Exclua da tabela todos os funcionários."
   ]
  },
  {
   "cell_type": "markdown",
   "id": "2df33685",
   "metadata": {},
   "source": [
    "### Titanic"
   ]
  },
  {
   "cell_type": "markdown",
   "id": "d41195d7",
   "metadata": {},
   "source": [
    "1 - Utilize o site do Kaggle. Iremos baixar o arquivo CSV do Titanic:https://www.kaggle.com/competitions/titanic/data?select=test.csv"
   ]
  },
  {
   "cell_type": "raw",
   "id": "cc291904",
   "metadata": {},
   "source": [
    "2 - Abaixo o dicionário de dados, que também está no Kaggle. Para este exercício, vamos manter a descrição em inglês \n",
    "\n",
    "Variable\tDefinition\t    Key\n",
    "survival\tSurvival\t    0 = No, 1 = Yes\n",
    "pclass\t    Ticket class\t1 = 1st, 2 = 2nd, 3 = 3rd\n",
    "sex\t        Sex\t\n",
    "Age\t        Age in years\t\n",
    "sibsp\t    # of siblings / spouses aboard the Titanic\t\n",
    "parch\t    # of parents / children aboard the Titanic\t\n",
    "ticket\t    Ticket number\t\n",
    "fare\t    Passenger fare\t\n",
    "cabin\t    Cabin number\t\n",
    "embarked\tPort of Embarkation\tC = Cherbourg, Q = Queenstown, S = Southampton"
   ]
  },
  {
   "cell_type": "raw",
   "id": "c5484974",
   "metadata": {},
   "source": [
    "3 - O objetivo desta tarefa é:\n",
    "    a. Criar quatro tabelas: Survival, pclass, embarked e passageiros. Isso por que para as colunas que possuem uma descrição (Key) é necessário criar uma tabela para cada uma delas.\n",
    "    b. Usar o arquivo CSV e carregar os respectivos dados em suas tabelas. A criação das tabelas e a inclusão de registros deverá ser feito pelo python\n",
    "    c. Nas tabelas survival, pclass e emarked não deverá ter valores duplicados\n",
    " \n",
    "   "
   ]
  },
  {
   "cell_type": "markdown",
   "id": "2eb6790b",
   "metadata": {},
   "source": [
    "4- Responder as seguintes perguntas via SQL:\n",
    "    1 - Quantas pessoas sobreviveram do sexo feminino?\n",
    "    2 - Quantas pessoas do sexo masculino não sobreviveram?\n",
    "    3 - Agrupar em um unico resultado (mas pode ser usado varias queries) quantas pessoas sobreviveram de 0 a 10 anos, sobreviveram de 11 a 20 anos, sobreviveram de 21 a 40 anos e sobreviveram acima de 40 anos. O resultado devera ter duas colunas, o nome do grupo (por ex: Pessoas de 0 a 10 anos) e a contagem"
   ]
  },
  {
   "cell_type": "raw",
   "id": "ef208924",
   "metadata": {},
   "source": [
    "5 - [Opcional] criar uma função no python para realizar o select, sendo que receberá como parâmetros o select a ser feito e os parâmetros em caso de filtro."
   ]
  },
  {
   "cell_type": "code",
   "execution_count": null,
   "id": "a7e03010",
   "metadata": {},
   "outputs": [],
   "source": []
  }
 ],
 "metadata": {
  "kernelspec": {
   "display_name": "Python 3 (ipykernel)",
   "language": "python",
   "name": "python3"
  },
  "language_info": {
   "codemirror_mode": {
    "name": "ipython",
    "version": 3
   },
   "file_extension": ".py",
   "mimetype": "text/x-python",
   "name": "python",
   "nbconvert_exporter": "python",
   "pygments_lexer": "ipython3",
   "version": "3.9.7"
  }
 },
 "nbformat": 4,
 "nbformat_minor": 5
}